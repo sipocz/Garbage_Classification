{
  "nbformat": 4,
  "nbformat_minor": 0,
  "metadata": {
    "colab": {
      "name": "Garbage_model_usage.ipynb",
      "provenance": [],
      "collapsed_sections": [],
      "authorship_tag": "ABX9TyPrtrgCen2qxAwaMawrGPNY",
      "include_colab_link": true
    },
    "kernelspec": {
      "name": "python3",
      "display_name": "Python 3"
    },
    "language_info": {
      "name": "python"
    }
  },
  "cells": [
    {
      "cell_type": "markdown",
      "metadata": {
        "id": "view-in-github",
        "colab_type": "text"
      },
      "source": [
        "<a href=\"https://colab.research.google.com/github/sipocz/Garbage_Classification/blob/main/Garbage_model_usage.ipynb\" target=\"_parent\"><img src=\"https://colab.research.google.com/assets/colab-badge.svg\" alt=\"Open In Colab\"/></a>"
      ]
    },
    {
      "cell_type": "code",
      "metadata": {
        "id": "8quoS1SK9-Dd"
      },
      "source": [
        "# Build Model\n",
        "# Importáld a megfelelő rétegeket\n",
        "from tensorflow.keras.layers import Input,Dense,Embedding,LSTM,TimeDistributed, Flatten, Bidirectional, Conv2D, Dropout,Convolution2D, Conv2DTranspose\n",
        "from tensorflow.keras.layers import MaxPooling2D, Rescaling,RandomFlip,RandomRotation, Reshape\n",
        "\n",
        "from tensorflow.keras.models import Model\n",
        "from tensorflow.keras.optimizers import Adadelta,Adam,SGD\n",
        "from tensorflow.keras.losses import sparse_categorical_crossentropy,categorical_crossentropy, mean_squared_error\n",
        "from tensorflow.keras import backend as K\n",
        "from keras.regularizers import l1\n",
        "from keras.initializers import RandomNormal,Zeros,GlorotUniform\n",
        "K.clear_session()\n",
        "\n",
        "Xmax=64\n",
        "Ymax=48\n",
        "bpc=1\n",
        "flat=Xmax*Ymax*bpc\n",
        "inputs= Input(shape=(Xmax,Ymax))\n",
        "\n",
        "ll=RandomNormal()\n",
        "\n",
        "# Encoder\n",
        "\n",
        "x = Flatten()(inputs)\n",
        "\n",
        "x = Dense(350,activation=\"linear\",kernel_initializer=ll)(x)\n",
        "\n",
        "\n",
        "#x = Dense(10,activation=\"elu\",kernel_initializer='he_uniform')(x)\n",
        "\n",
        "\n",
        "# Decoder\n",
        "coded = Dense(151,activation=\"linear\",kernel_initializer=ll, name=\"coded\")(x)\n",
        "\n",
        "\n",
        "#x = Dense(10,activation=\"elu\",kernel_initializer='he_uniform')(coded)\n",
        "x = Dense(350,activation=\"linear\",kernel_initializer=ll)(coded)\n",
        "\n",
        "\n",
        "x = Dense(flat,activation=\"linear\",kernel_initializer=ll)(x)\n",
        "\n",
        "x = Reshape((Xmax,Ymax,bpc))(x)\n",
        "\n",
        "\n",
        "#x = Conv2DTranspose(3, (2, 2), activation=\"sigmoid\", padding=\"same\")(x)\n",
        "\n",
        "# Autoencoder\n",
        "autoencoder = Model(inputs, x)\n",
        "\n",
        "\n",
        "\n",
        "\n"
      ],
      "execution_count": 1,
      "outputs": []
    },
    {
      "cell_type": "code",
      "metadata": {
        "id": "3eFMuZfnGXG-"
      },
      "source": [
        "modelurl=\"https://github.com/sipocz/Garbage_Classification/raw/cd7970e9e0423b0ab16db644f08c2408bcc0c19e/models/mod_0_0035.zip\"\n",
        "fname=modelurl.split(\"/\")[-1]\n",
        "modelname=fname.split(\".\")[0]+\".h5\""
      ],
      "execution_count": 15,
      "outputs": []
    },
    {
      "cell_type": "code",
      "metadata": {
        "colab": {
          "base_uri": "https://localhost:8080/",
          "height": 35
        },
        "id": "ZcNoZkBeHWIO",
        "outputId": "6f8115c8-cc1c-48e1-8355-7641c31b3612"
      },
      "source": [
        "modelname"
      ],
      "execution_count": 16,
      "outputs": [
        {
          "output_type": "execute_result",
          "data": {
            "application/vnd.google.colaboratory.intrinsic+json": {
              "type": "string"
            },
            "text/plain": [
              "'mod_0_0035.h5'"
            ]
          },
          "metadata": {},
          "execution_count": 16
        }
      ]
    },
    {
      "cell_type": "code",
      "metadata": {
        "colab": {
          "base_uri": "https://localhost:8080/"
        },
        "id": "IbHlrAvjGTQe",
        "outputId": "0e34ae61-7371-4c69-d021-31ea92144b1f"
      },
      "source": [
        "!wget $modelurl\n",
        "!unzip $fname\n",
        "!rm $fname"
      ],
      "execution_count": 11,
      "outputs": [
        {
          "output_type": "stream",
          "name": "stdout",
          "text": [
            "--2021-10-27 18:58:42--  https://github.com/sipocz/Garbage_Classification/raw/cd7970e9e0423b0ab16db644f08c2408bcc0c19e/models/mod_0_0035.zip\n",
            "Resolving github.com (github.com)... 140.82.114.3\n",
            "Connecting to github.com (github.com)|140.82.114.3|:443... connected.\n",
            "HTTP request sent, awaiting response... 302 Found\n",
            "Location: https://raw.githubusercontent.com/sipocz/Garbage_Classification/cd7970e9e0423b0ab16db644f08c2408bcc0c19e/models/mod_0_0035.zip [following]\n",
            "--2021-10-27 18:58:42--  https://raw.githubusercontent.com/sipocz/Garbage_Classification/cd7970e9e0423b0ab16db644f08c2408bcc0c19e/models/mod_0_0035.zip\n",
            "Resolving raw.githubusercontent.com (raw.githubusercontent.com)... 185.199.108.133, 185.199.109.133, 185.199.110.133, ...\n",
            "Connecting to raw.githubusercontent.com (raw.githubusercontent.com)|185.199.108.133|:443... connected.\n",
            "HTTP request sent, awaiting response... 200 OK\n",
            "Length: 24747746 (24M) [application/zip]\n",
            "Saving to: ‘mod_0_0035.zip’\n",
            "\n",
            "mod_0_0035.zip      100%[===================>]  23.60M   132MB/s    in 0.2s    \n",
            "\n",
            "2021-10-27 18:58:42 (132 MB/s) - ‘mod_0_0035.zip’ saved [24747746/24747746]\n",
            "\n",
            "Archive:  mod_0_0035.zip\n",
            "  inflating: mod_0_0035.h5           \n"
          ]
        }
      ]
    },
    {
      "cell_type": "code",
      "metadata": {
        "id": "vb0R46PHGQNr"
      },
      "source": [
        "\n"
      ],
      "execution_count": null,
      "outputs": []
    },
    {
      "cell_type": "code",
      "metadata": {
        "id": "lP7nQCm0F4fo"
      },
      "source": [
        "from keras.models import load_model\n",
        "autoencoder=load_model(modelname)"
      ],
      "execution_count": 17,
      "outputs": []
    },
    {
      "cell_type": "code",
      "metadata": {
        "colab": {
          "base_uri": "https://localhost:8080/"
        },
        "id": "mIeyvVVcKE98",
        "outputId": "0243bd95-1fe8-4add-b306-96b54c1bcbc2"
      },
      "source": [
        "autoencoder.summary()"
      ],
      "execution_count": 19,
      "outputs": [
        {
          "output_type": "stream",
          "name": "stdout",
          "text": [
            "Model: \"model\"\n",
            "_________________________________________________________________\n",
            "Layer (type)                 Output Shape              Param #   \n",
            "=================================================================\n",
            "input_1 (InputLayer)         [(None, 64, 48)]          0         \n",
            "_________________________________________________________________\n",
            "flatten (Flatten)            (None, 3072)              0         \n",
            "_________________________________________________________________\n",
            "dense (Dense)                (None, 350)               1075550   \n",
            "_________________________________________________________________\n",
            "coded (Dense)                (None, 151)               53001     \n",
            "_________________________________________________________________\n",
            "dense_1 (Dense)              (None, 350)               53200     \n",
            "_________________________________________________________________\n",
            "dense_2 (Dense)              (None, 3072)              1078272   \n",
            "_________________________________________________________________\n",
            "reshape (Reshape)            (None, 64, 48, 1)         0         \n",
            "=================================================================\n",
            "Total params: 2,260,023\n",
            "Trainable params: 2,260,023\n",
            "Non-trainable params: 0\n",
            "_________________________________________________________________\n"
          ]
        }
      ]
    }
  ]
}