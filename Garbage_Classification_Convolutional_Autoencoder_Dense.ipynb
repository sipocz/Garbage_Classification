{
  "nbformat": 4,
  "nbformat_minor": 0,
  "metadata": {
    "accelerator": "GPU",
    "colab": {
      "name": "Garbage_Classification_Convolutional_Autoencoder_Dense.ipynb",
      "provenance": [],
      "collapsed_sections": [],
      "include_colab_link": true
    },
    "kernelspec": {
      "display_name": "Python 3",
      "name": "python3"
    }
  },
  "cells": [
    {
      "cell_type": "markdown",
      "metadata": {
        "id": "view-in-github",
        "colab_type": "text"
      },
      "source": [
        "<a href=\"https://colab.research.google.com/github/sipocz/Garbage_Classification/blob/main/Garbage_Classification_Convolutional_Autoencoder_Dense.ipynb\" target=\"_parent\"><img src=\"https://colab.research.google.com/assets/colab-badge.svg\" alt=\"Open In Colab\"/></a>"
      ]
    },
    {
      "cell_type": "code",
      "metadata": {
        "id": "JidKVBEQFpcC"
      },
      "source": [
        ""
      ],
      "execution_count": null,
      "outputs": []
    },
    {
      "cell_type": "code",
      "metadata": {
        "id": "x1CPBmQNUMGh"
      },
      "source": [
        "import tensorflow as tf\n",
        "import matplotlib.pyplot as plt"
      ],
      "execution_count": 1,
      "outputs": []
    },
    {
      "cell_type": "code",
      "metadata": {
        "id": "u1SMhjJx9dV6"
      },
      "source": [
        "!rm -r sample_data/"
      ],
      "execution_count": 2,
      "outputs": []
    },
    {
      "cell_type": "code",
      "metadata": {
        "id": "VqRkmv4e673P"
      },
      "source": [
        "fnames={\n",
        "        'cardboard':'https://github.com/sipocz/Garbage_Classification/raw/da6122a92fa291b0c80bd290dae6b339a6c8dfda/cardboard.zip',\n",
        "        'glass':'https://github.com/sipocz/Garbage_Classification/raw/da6122a92fa291b0c80bd290dae6b339a6c8dfda/glass.zip',\n",
        "        'metal':'https://github.com/sipocz/Garbage_Classification/raw/da6122a92fa291b0c80bd290dae6b339a6c8dfda/metal.zip',\n",
        "        'paper':'https://github.com/sipocz/Garbage_Classification/raw/da6122a92fa291b0c80bd290dae6b339a6c8dfda/paper.zip',\n",
        "        'plastic':'https://github.com/sipocz/Garbage_Classification/raw/da6122a92fa291b0c80bd290dae6b339a6c8dfda/plastic.zip',\n",
        "        'trash':'https://github.com/sipocz/Garbage_Classification/raw/zip/trash.zip'\n",
        "}\n"
      ],
      "execution_count": 3,
      "outputs": []
    },
    {
      "cell_type": "code",
      "metadata": {
        "id": "ouTIuwmrBxPj",
        "colab": {
          "base_uri": "https://localhost:8080/"
        },
        "outputId": "12db20d8-bc98-4046-e396-dc03ca8b88a3"
      },
      "source": [
        "rm *.zip"
      ],
      "execution_count": 4,
      "outputs": [
        {
          "output_type": "stream",
          "name": "stdout",
          "text": [
            "rm: cannot remove '*.zip': No such file or directory\n"
          ]
        }
      ]
    },
    {
      "cell_type": "code",
      "metadata": {
        "id": "2OKA3Lyr8oWT"
      },
      "source": [
        "def create_dir(fnames):\n",
        "    for key in fnames:\n",
        "        !mkdir graf\n",
        "        dirname=\"./graf/\"+key\n",
        "        !mkdir $dirname\n",
        "        allfile=dirname+\"/*\"\n",
        "        !rm $allfile\n",
        "        fname_url_tmp=fnames[key]\n",
        "        fname=key+\".zip\"\n",
        "        !wget $fname_url_tmp\n",
        "        !cp $fname $dirname \n",
        "        \n",
        "        !rm $fname\n",
        "        zipname=dirname+\"/\"+key+\".zip\"\n",
        "        print(\"dirname:\",dirname)\n",
        "        !unzip $zipname -d \"./graf\"\n",
        "        #!rm $zipname  "
      ],
      "execution_count": 5,
      "outputs": []
    },
    {
      "cell_type": "code",
      "metadata": {
        "id": "I7_rRR9OjumS",
        "colab": {
          "base_uri": "https://localhost:8080/"
        },
        "outputId": "b94253c4-5fa9-4dee-ce0d-c78e868288ff"
      },
      "source": [
        "!unzip --help"
      ],
      "execution_count": 6,
      "outputs": [
        {
          "output_type": "stream",
          "name": "stdout",
          "text": [
            "UnZip 6.00 of 20 April 2009, by Debian. Original by Info-ZIP.\n",
            "\n",
            "Usage: unzip [-Z] [-opts[modifiers]] file[.zip] [list] [-x xlist] [-d exdir]\n",
            "  Default action is to extract files in list, except those in xlist, to exdir;\n",
            "  file[.zip] may be a wildcard.  -Z => ZipInfo mode (\"unzip -Z\" for usage).\n",
            "\n",
            "  -p  extract files to pipe, no messages     -l  list files (short format)\n",
            "  -f  freshen existing files, create none    -t  test compressed archive data\n",
            "  -u  update files, create if necessary      -z  display archive comment only\n",
            "  -v  list verbosely/show version info       -T  timestamp archive to latest\n",
            "  -x  exclude files that follow (in xlist)   -d  extract files into exdir\n",
            "modifiers:\n",
            "  -n  never overwrite existing files         -q  quiet mode (-qq => quieter)\n",
            "  -o  overwrite files WITHOUT prompting      -a  auto-convert any text files\n",
            "  -j  junk paths (do not make directories)   -aa treat ALL files as text\n",
            "  -U  use escapes for all non-ASCII Unicode  -UU ignore any Unicode fields\n",
            "  -C  match filenames case-insensitively     -L  make (some) names lowercase\n",
            "  -X  restore UID/GID info                   -V  retain VMS version numbers\n",
            "  -K  keep setuid/setgid/tacky permissions   -M  pipe through \"more\" pager\n",
            "  -O CHARSET  specify a character encoding for DOS, Windows and OS/2 archives\n",
            "  -I CHARSET  specify a character encoding for UNIX and other archives\n",
            "\n",
            "See \"unzip -hh\" or unzip.txt for more help.  Examples:\n",
            "  unzip data1 -x joe   => extract all files except joe from zipfile data1.zip\n",
            "  unzip -p foo | more  => send contents of foo.zip via pipe into program more\n",
            "  unzip -fo foo ReadMe => quietly replace existing ReadMe if archive file newer\n"
          ]
        }
      ]
    },
    {
      "cell_type": "code",
      "metadata": {
        "id": "GHblx9w-ANx3",
        "colab": {
          "base_uri": "https://localhost:8080/",
          "height": 35
        },
        "outputId": "bc8dc6b3-a547-4224-8812-931be1268727"
      },
      "source": [
        "fnames[\"trash\"]"
      ],
      "execution_count": 7,
      "outputs": [
        {
          "output_type": "execute_result",
          "data": {
            "application/vnd.google.colaboratory.intrinsic+json": {
              "type": "string"
            },
            "text/plain": [
              "'https://github.com/sipocz/Garbage_Classification/raw/zip/trash.zip'"
            ]
          },
          "metadata": {},
          "execution_count": 7
        }
      ]
    },
    {
      "cell_type": "code",
      "metadata": {
        "id": "tzNpYB7t_MbK",
        "colab": {
          "base_uri": "https://localhost:8080/"
        },
        "outputId": "17f95491-6c60-41ee-a347-0c1c36efa735"
      },
      "source": [
        "!cd metal"
      ],
      "execution_count": 8,
      "outputs": [
        {
          "output_type": "stream",
          "name": "stdout",
          "text": [
            "/bin/bash: line 0: cd: metal: No such file or directory\n"
          ]
        }
      ]
    },
    {
      "cell_type": "code",
      "metadata": {
        "id": "1-ztPzAdeQit"
      },
      "source": [
        ""
      ],
      "execution_count": 8,
      "outputs": []
    },
    {
      "cell_type": "code",
      "metadata": {
        "id": "OdPveKdl9D4j",
        "colab": {
          "base_uri": "https://localhost:8080/"
        },
        "outputId": "4dbe6d84-1b27-4a83-e4a8-4dd1066f9662"
      },
      "source": [
        "create_dir(fnames)"
      ],
      "execution_count": 9,
      "outputs": [
        {
          "output_type": "stream",
          "name": "stdout",
          "text": [
            "rm: cannot remove './graf/cardboard/*': No such file or directory\n",
            "--2021-11-13 11:03:02--  https://github.com/sipocz/Garbage_Classification/raw/da6122a92fa291b0c80bd290dae6b339a6c8dfda/cardboard.zip\n",
            "Resolving github.com (github.com)... 140.82.114.3\n",
            "Connecting to github.com (github.com)|140.82.114.3|:443... connected.\n",
            "HTTP request sent, awaiting response... 302 Found\n",
            "Location: https://raw.githubusercontent.com/sipocz/Garbage_Classification/da6122a92fa291b0c80bd290dae6b339a6c8dfda/cardboard.zip [following]\n",
            "--2021-11-13 11:03:02--  https://raw.githubusercontent.com/sipocz/Garbage_Classification/da6122a92fa291b0c80bd290dae6b339a6c8dfda/cardboard.zip\n",
            "Resolving raw.githubusercontent.com (raw.githubusercontent.com)... 185.199.108.133, 185.199.109.133, 185.199.110.133, ...\n",
            "Connecting to raw.githubusercontent.com (raw.githubusercontent.com)|185.199.108.133|:443... connected.\n",
            "HTTP request sent, awaiting response... 200 OK\n",
            "Length: 6093838 (5.8M) [application/zip]\n",
            "Saving to: ‘cardboard.zip’\n",
            "\n",
            "cardboard.zip       100%[===================>]   5.81M  --.-KB/s    in 0.08s   \n",
            "\n",
            "2021-11-13 11:03:02 (69.7 MB/s) - ‘cardboard.zip’ saved [6093838/6093838]\n",
            "\n",
            "dirname: ./graf/cardboard\n",
            "Archive:  ./graf/cardboard/cardboard.zip\n",
            "  inflating: ./graf/cardboard/000.jpg  \n",
            "  inflating: ./graf/cardboard/001.jpg  \n",
            "  inflating: ./graf/cardboard/002.jpg  \n",
            "  inflating: ./graf/cardboard/003.jpg  \n",
            "  inflating: ./graf/cardboard/004.jpg  \n",
            "  inflating: ./graf/cardboard/005.jpg  \n",
            "  inflating: ./graf/cardboard/006.jpg  \n",
            "  inflating: ./graf/cardboard/007.jpg  \n",
            "  inflating: ./graf/cardboard/008.jpg  \n",
            "  inflating: ./graf/cardboard/009.jpg  \n",
            "  inflating: ./graf/cardboard/010.jpg  \n",
            "  inflating: ./graf/cardboard/011.jpg  \n",
            "  inflating: ./graf/cardboard/012.jpg  \n",
            "  inflating: ./graf/cardboard/013.jpg  \n",
            "  inflating: ./graf/cardboard/014.jpg  \n",
            "  inflating: ./graf/cardboard/015.jpg  \n",
            "  inflating: ./graf/cardboard/016.jpg  \n",
            "  inflating: ./graf/cardboard/017.jpg  \n",
            "  inflating: ./graf/cardboard/018.jpg  \n",
            "  inflating: ./graf/cardboard/019.jpg  \n",
            "  inflating: ./graf/cardboard/020.jpg  \n",
            "  inflating: ./graf/cardboard/021.jpg  \n",
            "  inflating: ./graf/cardboard/022.jpg  \n",
            "  inflating: ./graf/cardboard/023.jpg  \n",
            "  inflating: ./graf/cardboard/024.jpg  \n",
            "  inflating: ./graf/cardboard/025.jpg  \n",
            "  inflating: ./graf/cardboard/026.jpg  \n",
            "  inflating: ./graf/cardboard/027.jpg  \n",
            "  inflating: ./graf/cardboard/028.jpg  \n",
            "  inflating: ./graf/cardboard/029.jpg  \n",
            "  inflating: ./graf/cardboard/030.jpg  \n",
            "  inflating: ./graf/cardboard/031.jpg  \n",
            "  inflating: ./graf/cardboard/032.jpg  \n",
            "  inflating: ./graf/cardboard/033.jpg  \n",
            "  inflating: ./graf/cardboard/034.jpg  \n",
            "  inflating: ./graf/cardboard/035.jpg  \n",
            "  inflating: ./graf/cardboard/036.jpg  \n",
            "  inflating: ./graf/cardboard/037.jpg  \n",
            "  inflating: ./graf/cardboard/038.jpg  \n",
            "  inflating: ./graf/cardboard/039.jpg  \n",
            "  inflating: ./graf/cardboard/040.jpg  \n",
            "  inflating: ./graf/cardboard/041.jpg  \n",
            "  inflating: ./graf/cardboard/042.jpg  \n",
            "  inflating: ./graf/cardboard/043.jpg  \n",
            "  inflating: ./graf/cardboard/044.jpg  \n",
            "  inflating: ./graf/cardboard/045.jpg  \n",
            "  inflating: ./graf/cardboard/046.jpg  \n",
            "  inflating: ./graf/cardboard/047.jpg  \n",
            "  inflating: ./graf/cardboard/048.jpg  \n",
            "  inflating: ./graf/cardboard/049.jpg  \n",
            "  inflating: ./graf/cardboard/050.jpg  \n",
            "  inflating: ./graf/cardboard/051.jpg  \n",
            "  inflating: ./graf/cardboard/052.jpg  \n",
            "  inflating: ./graf/cardboard/053.jpg  \n",
            "  inflating: ./graf/cardboard/054.jpg  \n",
            "  inflating: ./graf/cardboard/055.jpg  \n",
            "  inflating: ./graf/cardboard/056.jpg  \n",
            "  inflating: ./graf/cardboard/057.jpg  \n",
            "  inflating: ./graf/cardboard/058.jpg  \n",
            "  inflating: ./graf/cardboard/059.jpg  \n",
            "  inflating: ./graf/cardboard/060.jpg  \n",
            "  inflating: ./graf/cardboard/061.jpg  \n",
            "  inflating: ./graf/cardboard/062.jpg  \n",
            "  inflating: ./graf/cardboard/063.jpg  \n",
            "  inflating: ./graf/cardboard/064.jpg  \n",
            "  inflating: ./graf/cardboard/065.jpg  \n",
            "  inflating: ./graf/cardboard/066.jpg  \n",
            "  inflating: ./graf/cardboard/067.jpg  \n",
            "  inflating: ./graf/cardboard/068.jpg  \n",
            "  inflating: ./graf/cardboard/069.jpg  \n",
            "  inflating: ./graf/cardboard/070.jpg  \n",
            "  inflating: ./graf/cardboard/071.jpg  \n",
            "  inflating: ./graf/cardboard/072.jpg  \n",
            "  inflating: ./graf/cardboard/073.jpg  \n",
            "  inflating: ./graf/cardboard/074.jpg  \n",
            "  inflating: ./graf/cardboard/075.jpg  \n",
            "  inflating: ./graf/cardboard/076.jpg  \n",
            "  inflating: ./graf/cardboard/077.jpg  \n",
            "  inflating: ./graf/cardboard/078.jpg  \n",
            "  inflating: ./graf/cardboard/079.jpg  \n",
            "  inflating: ./graf/cardboard/080.jpg  \n",
            "  inflating: ./graf/cardboard/081.jpg  \n",
            "  inflating: ./graf/cardboard/082.jpg  \n",
            "  inflating: ./graf/cardboard/083.jpg  \n",
            "  inflating: ./graf/cardboard/084.jpg  \n",
            "  inflating: ./graf/cardboard/085.jpg  \n",
            "  inflating: ./graf/cardboard/086.jpg  \n",
            "  inflating: ./graf/cardboard/087.jpg  \n",
            "  inflating: ./graf/cardboard/088.jpg  \n",
            "  inflating: ./graf/cardboard/089.jpg  \n",
            "  inflating: ./graf/cardboard/090.jpg  \n",
            "  inflating: ./graf/cardboard/091.jpg  \n",
            "  inflating: ./graf/cardboard/092.jpg  \n",
            "  inflating: ./graf/cardboard/093.jpg  \n",
            "  inflating: ./graf/cardboard/094.jpg  \n",
            "  inflating: ./graf/cardboard/095.jpg  \n",
            "  inflating: ./graf/cardboard/096.jpg  \n",
            "  inflating: ./graf/cardboard/097.jpg  \n",
            "  inflating: ./graf/cardboard/098.jpg  \n",
            "  inflating: ./graf/cardboard/099.jpg  \n",
            "  inflating: ./graf/cardboard/100.jpg  \n",
            "  inflating: ./graf/cardboard/101.jpg  \n",
            "  inflating: ./graf/cardboard/102.jpg  \n",
            "  inflating: ./graf/cardboard/103.jpg  \n",
            "  inflating: ./graf/cardboard/104.jpg  \n",
            "  inflating: ./graf/cardboard/105.jpg  \n",
            "  inflating: ./graf/cardboard/106.jpg  \n",
            "  inflating: ./graf/cardboard/107.jpg  \n",
            "  inflating: ./graf/cardboard/108.jpg  \n",
            "  inflating: ./graf/cardboard/109.jpg  \n",
            "  inflating: ./graf/cardboard/110.jpg  \n",
            "  inflating: ./graf/cardboard/111.jpg  \n",
            "  inflating: ./graf/cardboard/112.jpg  \n",
            "  inflating: ./graf/cardboard/113.jpg  \n",
            "  inflating: ./graf/cardboard/114.jpg  \n",
            "  inflating: ./graf/cardboard/115.jpg  \n",
            "  inflating: ./graf/cardboard/116.jpg  \n",
            "  inflating: ./graf/cardboard/117.jpg  \n",
            "  inflating: ./graf/cardboard/118.jpg  \n",
            "  inflating: ./graf/cardboard/119.jpg  \n",
            "  inflating: ./graf/cardboard/120.jpg  \n",
            "  inflating: ./graf/cardboard/121.jpg  \n",
            "  inflating: ./graf/cardboard/122.jpg  \n",
            "  inflating: ./graf/cardboard/123.jpg  \n",
            "  inflating: ./graf/cardboard/124.jpg  \n",
            "  inflating: ./graf/cardboard/125.jpg  \n",
            "  inflating: ./graf/cardboard/126.jpg  \n",
            "  inflating: ./graf/cardboard/127.jpg  \n",
            "  inflating: ./graf/cardboard/128.jpg  \n",
            "  inflating: ./graf/cardboard/129.jpg  \n",
            "  inflating: ./graf/cardboard/130.jpg  \n",
            "  inflating: ./graf/cardboard/131.jpg  \n",
            "  inflating: ./graf/cardboard/132.jpg  \n",
            "  inflating: ./graf/cardboard/133.jpg  \n",
            "  inflating: ./graf/cardboard/134.jpg  \n",
            "  inflating: ./graf/cardboard/135.jpg  \n",
            "  inflating: ./graf/cardboard/136.jpg  \n",
            "  inflating: ./graf/cardboard/137.jpg  \n",
            "  inflating: ./graf/cardboard/138.jpg  \n",
            "  inflating: ./graf/cardboard/139.jpg  \n",
            "  inflating: ./graf/cardboard/140.jpg  \n",
            "  inflating: ./graf/cardboard/141.jpg  \n",
            "  inflating: ./graf/cardboard/142.jpg  \n",
            "  inflating: ./graf/cardboard/143.jpg  \n",
            "  inflating: ./graf/cardboard/144.jpg  \n",
            "  inflating: ./graf/cardboard/145.jpg  \n",
            "  inflating: ./graf/cardboard/146.jpg  \n",
            "  inflating: ./graf/cardboard/147.jpg  \n",
            "  inflating: ./graf/cardboard/148.jpg  \n",
            "  inflating: ./graf/cardboard/149.jpg  \n",
            "  inflating: ./graf/cardboard/150.jpg  \n",
            "  inflating: ./graf/cardboard/151.jpg  \n",
            "  inflating: ./graf/cardboard/152.jpg  \n",
            "  inflating: ./graf/cardboard/153.jpg  \n",
            "  inflating: ./graf/cardboard/154.jpg  \n",
            "  inflating: ./graf/cardboard/155.jpg  \n",
            "  inflating: ./graf/cardboard/156.jpg  \n",
            "  inflating: ./graf/cardboard/157.jpg  \n",
            "  inflating: ./graf/cardboard/158.jpg  \n",
            "  inflating: ./graf/cardboard/159.jpg  \n",
            "  inflating: ./graf/cardboard/160.jpg  \n",
            "  inflating: ./graf/cardboard/161.jpg  \n",
            "  inflating: ./graf/cardboard/162.jpg  \n",
            "  inflating: ./graf/cardboard/163.jpg  \n",
            "  inflating: ./graf/cardboard/164.jpg  \n",
            "  inflating: ./graf/cardboard/165.jpg  \n",
            "  inflating: ./graf/cardboard/166.jpg  \n",
            "  inflating: ./graf/cardboard/167.jpg  \n",
            "  inflating: ./graf/cardboard/168.jpg  \n",
            "  inflating: ./graf/cardboard/169.jpg  \n",
            "  inflating: ./graf/cardboard/170.jpg  \n",
            "  inflating: ./graf/cardboard/171.jpg  \n",
            "  inflating: ./graf/cardboard/172.jpg  \n",
            "  inflating: ./graf/cardboard/173.jpg  \n",
            "  inflating: ./graf/cardboard/174.jpg  \n",
            "  inflating: ./graf/cardboard/175.jpg  \n",
            "  inflating: ./graf/cardboard/176.jpg  \n",
            "  inflating: ./graf/cardboard/177.jpg  \n",
            "  inflating: ./graf/cardboard/178.jpg  \n",
            "  inflating: ./graf/cardboard/179.jpg  \n",
            "  inflating: ./graf/cardboard/180.jpg  \n",
            "  inflating: ./graf/cardboard/181.jpg  \n",
            "  inflating: ./graf/cardboard/182.jpg  \n",
            "  inflating: ./graf/cardboard/183.jpg  \n",
            "  inflating: ./graf/cardboard/184.jpg  \n",
            "  inflating: ./graf/cardboard/185.jpg  \n",
            "  inflating: ./graf/cardboard/186.jpg  \n",
            "  inflating: ./graf/cardboard/187.jpg  \n",
            "  inflating: ./graf/cardboard/188.jpg  \n",
            "  inflating: ./graf/cardboard/189.jpg  \n",
            "  inflating: ./graf/cardboard/190.jpg  \n",
            "  inflating: ./graf/cardboard/191.jpg  \n",
            "  inflating: ./graf/cardboard/192.jpg  \n",
            "  inflating: ./graf/cardboard/193.jpg  \n",
            "  inflating: ./graf/cardboard/194.jpg  \n",
            "  inflating: ./graf/cardboard/195.jpg  \n",
            "  inflating: ./graf/cardboard/196.jpg  \n",
            "  inflating: ./graf/cardboard/197.jpg  \n",
            "  inflating: ./graf/cardboard/198.jpg  \n",
            "  inflating: ./graf/cardboard/199.jpg  \n",
            "  inflating: ./graf/cardboard/200.jpg  \n",
            "  inflating: ./graf/cardboard/201.jpg  \n",
            "  inflating: ./graf/cardboard/202.jpg  \n",
            "  inflating: ./graf/cardboard/203.jpg  \n",
            "  inflating: ./graf/cardboard/204.jpg  \n",
            "  inflating: ./graf/cardboard/205.jpg  \n",
            "  inflating: ./graf/cardboard/206.jpg  \n",
            "  inflating: ./graf/cardboard/207.jpg  \n",
            "  inflating: ./graf/cardboard/208.jpg  \n",
            "  inflating: ./graf/cardboard/209.jpg  \n",
            "  inflating: ./graf/cardboard/210.jpg  \n",
            "  inflating: ./graf/cardboard/211.jpg  \n",
            "  inflating: ./graf/cardboard/212.jpg  \n",
            "  inflating: ./graf/cardboard/213.jpg  \n",
            "  inflating: ./graf/cardboard/214.jpg  \n",
            "  inflating: ./graf/cardboard/215.jpg  \n",
            "  inflating: ./graf/cardboard/216.jpg  \n",
            "  inflating: ./graf/cardboard/217.jpg  \n",
            "  inflating: ./graf/cardboard/218.jpg  \n",
            "  inflating: ./graf/cardboard/219.jpg  \n",
            "  inflating: ./graf/cardboard/220.jpg  \n",
            "  inflating: ./graf/cardboard/221.jpg  \n",
            "  inflating: ./graf/cardboard/222.jpg  \n",
            "  inflating: ./graf/cardboard/223.jpg  \n",
            "  inflating: ./graf/cardboard/224.jpg  \n",
            "  inflating: ./graf/cardboard/225.jpg  \n",
            "  inflating: ./graf/cardboard/226.jpg  \n",
            "  inflating: ./graf/cardboard/227.jpg  \n",
            "  inflating: ./graf/cardboard/228.jpg  \n",
            "  inflating: ./graf/cardboard/229.jpg  \n",
            "  inflating: ./graf/cardboard/230.jpg  \n",
            "  inflating: ./graf/cardboard/231.jpg  \n",
            "  inflating: ./graf/cardboard/232.jpg  \n",
            "  inflating: ./graf/cardboard/233.jpg  \n",
            "  inflating: ./graf/cardboard/234.jpg  \n",
            "  inflating: ./graf/cardboard/235.jpg  \n",
            "  inflating: ./graf/cardboard/236.jpg  \n",
            "  inflating: ./graf/cardboard/237.jpg  \n",
            "  inflating: ./graf/cardboard/238.jpg  \n",
            "  inflating: ./graf/cardboard/239.jpg  \n",
            "  inflating: ./graf/cardboard/240.jpg  \n",
            "  inflating: ./graf/cardboard/241.jpg  \n",
            "  inflating: ./graf/cardboard/242.jpg  \n",
            "  inflating: ./graf/cardboard/243.jpg  \n",
            "  inflating: ./graf/cardboard/244.jpg  \n",
            "  inflating: ./graf/cardboard/245.jpg  \n",
            "  inflating: ./graf/cardboard/246.jpg  \n",
            "  inflating: ./graf/cardboard/247.jpg  \n",
            "  inflating: ./graf/cardboard/248.jpg  \n",
            "  inflating: ./graf/cardboard/249.jpg  \n",
            "  inflating: ./graf/cardboard/250.jpg  \n",
            "  inflating: ./graf/cardboard/251.jpg  \n",
            "  inflating: ./graf/cardboard/252.jpg  \n",
            "  inflating: ./graf/cardboard/253.jpg  \n",
            "  inflating: ./graf/cardboard/254.jpg  \n",
            "  inflating: ./graf/cardboard/255.jpg  \n",
            "  inflating: ./graf/cardboard/256.jpg  \n",
            "  inflating: ./graf/cardboard/257.jpg  \n",
            "  inflating: ./graf/cardboard/258.jpg  \n",
            "  inflating: ./graf/cardboard/259.jpg  \n",
            "  inflating: ./graf/cardboard/260.jpg  \n",
            "  inflating: ./graf/cardboard/261.jpg  \n",
            "  inflating: ./graf/cardboard/262.jpg  \n",
            "  inflating: ./graf/cardboard/263.jpg  \n",
            "  inflating: ./graf/cardboard/264.jpg  \n",
            "  inflating: ./graf/cardboard/265.jpg  \n",
            "  inflating: ./graf/cardboard/266.jpg  \n",
            "  inflating: ./graf/cardboard/267.jpg  \n",
            "  inflating: ./graf/cardboard/268.jpg  \n",
            "  inflating: ./graf/cardboard/269.jpg  \n",
            "  inflating: ./graf/cardboard/270.jpg  \n",
            "  inflating: ./graf/cardboard/271.jpg  \n",
            "  inflating: ./graf/cardboard/272.jpg  \n",
            "  inflating: ./graf/cardboard/273.jpg  \n",
            "  inflating: ./graf/cardboard/274.jpg  \n",
            "  inflating: ./graf/cardboard/275.jpg  \n",
            "  inflating: ./graf/cardboard/276.jpg  \n",
            "  inflating: ./graf/cardboard/277.jpg  \n",
            "  inflating: ./graf/cardboard/278.jpg  \n",
            "  inflating: ./graf/cardboard/279.jpg  \n",
            "  inflating: ./graf/cardboard/280.jpg  \n",
            "  inflating: ./graf/cardboard/281.jpg  \n",
            "  inflating: ./graf/cardboard/282.jpg  \n",
            "  inflating: ./graf/cardboard/283.jpg  \n",
            "  inflating: ./graf/cardboard/284.jpg  \n",
            "  inflating: ./graf/cardboard/285.jpg  \n",
            "  inflating: ./graf/cardboard/286.jpg  \n",
            "  inflating: ./graf/cardboard/287.jpg  \n",
            "  inflating: ./graf/cardboard/288.jpg  \n",
            "  inflating: ./graf/cardboard/289.jpg  \n",
            "  inflating: ./graf/cardboard/290.jpg  \n",
            "  inflating: ./graf/cardboard/291.jpg  \n",
            "  inflating: ./graf/cardboard/292.jpg  \n",
            "  inflating: ./graf/cardboard/293.jpg  \n",
            "  inflating: ./graf/cardboard/294.jpg  \n",
            "  inflating: ./graf/cardboard/295.jpg  \n",
            "  inflating: ./graf/cardboard/296.jpg  \n",
            "  inflating: ./graf/cardboard/297.jpg  \n",
            "  inflating: ./graf/cardboard/298.jpg  \n",
            "  inflating: ./graf/cardboard/299.jpg  \n",
            "  inflating: ./graf/cardboard/300.jpg  \n",
            "  inflating: ./graf/cardboard/301.jpg  \n",
            "  inflating: ./graf/cardboard/302.jpg  \n",
            "  inflating: ./graf/cardboard/303.jpg  \n",
            "  inflating: ./graf/cardboard/304.jpg  \n",
            "  inflating: ./graf/cardboard/305.jpg  \n",
            "  inflating: ./graf/cardboard/306.jpg  \n",
            "  inflating: ./graf/cardboard/307.jpg  \n",
            "  inflating: ./graf/cardboard/308.jpg  \n",
            "  inflating: ./graf/cardboard/309.jpg  \n",
            "  inflating: ./graf/cardboard/310.jpg  \n",
            "  inflating: ./graf/cardboard/311.jpg  \n",
            "  inflating: ./graf/cardboard/312.jpg  \n",
            "  inflating: ./graf/cardboard/313.jpg  \n",
            "  inflating: ./graf/cardboard/314.jpg  \n",
            "  inflating: ./graf/cardboard/315.jpg  \n",
            "  inflating: ./graf/cardboard/316.jpg  \n",
            "  inflating: ./graf/cardboard/317.jpg  \n",
            "  inflating: ./graf/cardboard/318.jpg  \n",
            "  inflating: ./graf/cardboard/319.jpg  \n",
            "  inflating: ./graf/cardboard/320.jpg  \n",
            "  inflating: ./graf/cardboard/321.jpg  \n",
            "  inflating: ./graf/cardboard/322.jpg  \n",
            "mkdir: cannot create directory ‘graf’: File exists\n",
            "rm: cannot remove './graf/glass/*': No such file or directory\n",
            "--2021-11-13 11:03:03--  https://github.com/sipocz/Garbage_Classification/raw/da6122a92fa291b0c80bd290dae6b339a6c8dfda/glass.zip\n",
            "Resolving github.com (github.com)... 140.82.112.4\n",
            "Connecting to github.com (github.com)|140.82.112.4|:443... connected.\n",
            "HTTP request sent, awaiting response... 302 Found\n",
            "Location: https://raw.githubusercontent.com/sipocz/Garbage_Classification/da6122a92fa291b0c80bd290dae6b339a6c8dfda/glass.zip [following]\n",
            "--2021-11-13 11:03:03--  https://raw.githubusercontent.com/sipocz/Garbage_Classification/da6122a92fa291b0c80bd290dae6b339a6c8dfda/glass.zip\n",
            "Resolving raw.githubusercontent.com (raw.githubusercontent.com)... 185.199.108.133, 185.199.109.133, 185.199.110.133, ...\n",
            "Connecting to raw.githubusercontent.com (raw.githubusercontent.com)|185.199.108.133|:443... connected.\n",
            "HTTP request sent, awaiting response... 200 OK\n",
            "Length: 5196858 (5.0M) [application/zip]\n",
            "Saving to: ‘glass.zip’\n",
            "\n",
            "glass.zip           100%[===================>]   4.96M  --.-KB/s    in 0.08s   \n",
            "\n",
            "2021-11-13 11:03:04 (61.1 MB/s) - ‘glass.zip’ saved [5196858/5196858]\n",
            "\n",
            "dirname: ./graf/glass\n",
            "Archive:  ./graf/glass/glass.zip\n",
            "  inflating: ./graf/glass/000.jpg    \n",
            "  inflating: ./graf/glass/001.jpg    \n",
            "  inflating: ./graf/glass/002.jpg    \n",
            "  inflating: ./graf/glass/003.jpg    \n",
            "  inflating: ./graf/glass/004.jpg    \n",
            "  inflating: ./graf/glass/005.jpg    \n",
            "  inflating: ./graf/glass/006.jpg    \n",
            "  inflating: ./graf/glass/007.jpg    \n",
            "  inflating: ./graf/glass/008.jpg    \n",
            "  inflating: ./graf/glass/009.jpg    \n",
            "  inflating: ./graf/glass/010.jpg    \n",
            "  inflating: ./graf/glass/011.jpg    \n",
            "  inflating: ./graf/glass/012.jpg    \n",
            "  inflating: ./graf/glass/013.jpg    \n",
            "  inflating: ./graf/glass/014.jpg    \n",
            "  inflating: ./graf/glass/015.jpg    \n",
            "  inflating: ./graf/glass/016.jpg    \n",
            "  inflating: ./graf/glass/017.jpg    \n",
            "  inflating: ./graf/glass/018.jpg    \n",
            "  inflating: ./graf/glass/019.jpg    \n",
            "  inflating: ./graf/glass/020.jpg    \n",
            "  inflating: ./graf/glass/021.jpg    \n",
            "  inflating: ./graf/glass/022.jpg    \n",
            "  inflating: ./graf/glass/023.jpg    \n",
            "  inflating: ./graf/glass/024.jpg    \n",
            "  inflating: ./graf/glass/025.jpg    \n",
            "  inflating: ./graf/glass/026.jpg    \n",
            "  inflating: ./graf/glass/027.jpg    \n",
            "  inflating: ./graf/glass/028.jpg    \n",
            "  inflating: ./graf/glass/029.jpg    \n",
            "  inflating: ./graf/glass/030.jpg    \n",
            "  inflating: ./graf/glass/031.jpg    \n",
            "  inflating: ./graf/glass/032.jpg    \n",
            "  inflating: ./graf/glass/033.jpg    \n",
            "  inflating: ./graf/glass/034.jpg    \n",
            "  inflating: ./graf/glass/035.jpg    \n",
            "  inflating: ./graf/glass/036.jpg    \n",
            "  inflating: ./graf/glass/037.jpg    \n",
            "  inflating: ./graf/glass/038.jpg    \n",
            "  inflating: ./graf/glass/039.jpg    \n",
            "  inflating: ./graf/glass/040.jpg    \n",
            "  inflating: ./graf/glass/041.jpg    \n",
            "  inflating: ./graf/glass/042.jpg    \n",
            "  inflating: ./graf/glass/043.jpg    \n",
            "  inflating: ./graf/glass/044.jpg    \n",
            "  inflating: ./graf/glass/045.jpg    \n",
            "  inflating: ./graf/glass/046.jpg    \n",
            "  inflating: ./graf/glass/047.jpg    \n",
            "  inflating: ./graf/glass/048.jpg    \n",
            "  inflating: ./graf/glass/049.jpg    \n",
            "  inflating: ./graf/glass/050.jpg    \n",
            "  inflating: ./graf/glass/051.jpg    \n",
            "  inflating: ./graf/glass/052.jpg    \n",
            "  inflating: ./graf/glass/053.jpg    \n",
            "  inflating: ./graf/glass/054.jpg    \n",
            "  inflating: ./graf/glass/055.jpg    \n",
            "  inflating: ./graf/glass/056.jpg    \n",
            "  inflating: ./graf/glass/057.jpg    \n",
            "  inflating: ./graf/glass/058.jpg    \n",
            "  inflating: ./graf/glass/059.jpg    \n",
            "  inflating: ./graf/glass/060.jpg    \n",
            "  inflating: ./graf/glass/061.jpg    \n",
            "  inflating: ./graf/glass/062.jpg    \n",
            "  inflating: ./graf/glass/063.jpg    \n",
            "  inflating: ./graf/glass/064.jpg    \n",
            "  inflating: ./graf/glass/065.jpg    \n",
            "  inflating: ./graf/glass/066.jpg    \n",
            "  inflating: ./graf/glass/067.jpg    \n",
            "  inflating: ./graf/glass/068.jpg    \n",
            "  inflating: ./graf/glass/069.jpg    \n",
            "  inflating: ./graf/glass/070.jpg    \n",
            "  inflating: ./graf/glass/071.jpg    \n",
            "  inflating: ./graf/glass/072.jpg    \n",
            "  inflating: ./graf/glass/073.jpg    \n",
            "  inflating: ./graf/glass/074.jpg    \n",
            "  inflating: ./graf/glass/075.jpg    \n",
            "  inflating: ./graf/glass/076.jpg    \n",
            "  inflating: ./graf/glass/077.jpg    \n",
            "  inflating: ./graf/glass/078.jpg    \n",
            "  inflating: ./graf/glass/079.jpg    \n",
            "  inflating: ./graf/glass/080.jpg    \n",
            "  inflating: ./graf/glass/081.jpg    \n",
            "  inflating: ./graf/glass/082.jpg    \n",
            "  inflating: ./graf/glass/083.jpg    \n",
            "  inflating: ./graf/glass/084.jpg    \n",
            "  inflating: ./graf/glass/085.jpg    \n",
            "  inflating: ./graf/glass/086.jpg    \n",
            "  inflating: ./graf/glass/087.jpg    \n",
            "  inflating: ./graf/glass/088.jpg    \n",
            "  inflating: ./graf/glass/089.jpg    \n",
            "  inflating: ./graf/glass/090.jpg    \n",
            "  inflating: ./graf/glass/091.jpg    \n",
            "  inflating: ./graf/glass/092.jpg    \n",
            "  inflating: ./graf/glass/093.jpg    \n",
            "  inflating: ./graf/glass/094.jpg    \n",
            "  inflating: ./graf/glass/095.jpg    \n",
            "  inflating: ./graf/glass/096.jpg    \n",
            "  inflating: ./graf/glass/097.jpg    \n",
            "  inflating: ./graf/glass/098.jpg    \n",
            "  inflating: ./graf/glass/099.jpg    \n",
            "  inflating: ./graf/glass/100.jpg    \n",
            "  inflating: ./graf/glass/101.jpg    \n",
            "  inflating: ./graf/glass/102.jpg    \n",
            "  inflating: ./graf/glass/103.jpg    \n",
            "  inflating: ./graf/glass/104.jpg    \n",
            "  inflating: ./graf/glass/105.jpg    \n",
            "  inflating: ./graf/glass/106.jpg    \n",
            "  inflating: ./graf/glass/107.jpg    \n",
            "  inflating: ./graf/glass/108.jpg    \n",
            "  inflating: ./graf/glass/109.jpg    \n",
            "  inflating: ./graf/glass/110.jpg    \n",
            "  inflating: ./graf/glass/111.jpg    \n",
            "  inflating: ./graf/glass/112.jpg    \n",
            "  inflating: ./graf/glass/113.jpg    \n",
            "  inflating: ./graf/glass/114.jpg    \n",
            "  inflating: ./graf/glass/115.jpg    \n",
            "  inflating: ./graf/glass/116.jpg    \n",
            "  inflating: ./graf/glass/117.jpg    \n",
            "  inflating: ./graf/glass/118.jpg    \n",
            "  inflating: ./graf/glass/119.jpg    \n",
            "  inflating: ./graf/glass/120.jpg    \n",
            "  inflating: ./graf/glass/121.jpg    \n",
            "  inflating: ./graf/glass/122.jpg    \n",
            "  inflating: ./graf/glass/123.jpg    \n",
            "  inflating: ./graf/glass/124.jpg    \n",
            "  inflating: ./graf/glass/125.jpg    \n",
            "  inflating: ./graf/glass/126.jpg    \n",
            "  inflating: ./graf/glass/127.jpg    \n",
            "  inflating: ./graf/glass/128.jpg    \n",
            "  inflating: ./graf/glass/129.jpg    \n",
            "  inflating: ./graf/glass/130.jpg    \n",
            "  inflating: ./graf/glass/131.jpg    \n",
            "  inflating: ./graf/glass/132.jpg    \n",
            "  inflating: ./graf/glass/133.jpg    \n",
            "  inflating: ./graf/glass/134.jpg    \n",
            "  inflating: ./graf/glass/135.jpg    \n",
            "  inflating: ./graf/glass/136.jpg    \n",
            "  inflating: ./graf/glass/137.jpg    \n",
            "  inflating: ./graf/glass/138.jpg    \n",
            "  inflating: ./graf/glass/139.jpg    \n",
            "  inflating: ./graf/glass/140.jpg    \n",
            "  inflating: ./graf/glass/141.jpg    \n",
            "  inflating: ./graf/glass/142.jpg    \n",
            "  inflating: ./graf/glass/143.jpg    \n",
            "  inflating: ./graf/glass/144.jpg    \n",
            "  inflating: ./graf/glass/145.jpg    \n",
            "  inflating: ./graf/glass/146.jpg    \n",
            "  inflating: ./graf/glass/147.jpg    \n",
            "  inflating: ./graf/glass/148.jpg    \n",
            "  inflating: ./graf/glass/149.jpg    \n",
            "  inflating: ./graf/glass/150.jpg    \n",
            "  inflating: ./graf/glass/151.jpg    \n",
            "  inflating: ./graf/glass/152.jpg    \n",
            "  inflating: ./graf/glass/153.jpg    \n",
            "  inflating: ./graf/glass/154.jpg    \n",
            "  inflating: ./graf/glass/155.jpg    \n",
            "  inflating: ./graf/glass/156.jpg    \n",
            "  inflating: ./graf/glass/157.jpg    \n",
            "  inflating: ./graf/glass/158.jpg    \n",
            "  inflating: ./graf/glass/159.jpg    \n",
            "  inflating: ./graf/glass/160.jpg    \n",
            "  inflating: ./graf/glass/161.jpg    \n",
            "  inflating: ./graf/glass/162.jpg    \n",
            "  inflating: ./graf/glass/163.jpg    \n",
            "  inflating: ./graf/glass/164.jpg    \n",
            "  inflating: ./graf/glass/165.jpg    \n",
            "  inflating: ./graf/glass/166.jpg    \n",
            "  inflating: ./graf/glass/167.jpg    \n",
            "  inflating: ./graf/glass/168.jpg    \n",
            "  inflating: ./graf/glass/169.jpg    \n",
            "  inflating: ./graf/glass/170.jpg    \n",
            "  inflating: ./graf/glass/171.jpg    \n",
            "  inflating: ./graf/glass/172.jpg    \n",
            "  inflating: ./graf/glass/173.jpg    \n",
            "  inflating: ./graf/glass/174.jpg    \n",
            "  inflating: ./graf/glass/175.jpg    \n",
            "  inflating: ./graf/glass/176.jpg    \n",
            "  inflating: ./graf/glass/177.jpg    \n",
            "  inflating: ./graf/glass/178.jpg    \n",
            "  inflating: ./graf/glass/179.jpg    \n",
            "  inflating: ./graf/glass/180.jpg    \n",
            "  inflating: ./graf/glass/181.jpg    \n",
            "  inflating: ./graf/glass/182.jpg    \n",
            "  inflating: ./graf/glass/183.jpg    \n",
            "  inflating: ./graf/glass/184.jpg    \n",
            "  inflating: ./graf/glass/185.jpg    \n",
            "  inflating: ./graf/glass/186.jpg    \n",
            "  inflating: ./graf/glass/187.jpg    \n",
            "  inflating: ./graf/glass/188.jpg    \n",
            "  inflating: ./graf/glass/189.jpg    \n",
            "  inflating: ./graf/glass/190.jpg    \n",
            "  inflating: ./graf/glass/191.jpg    \n",
            "  inflating: ./graf/glass/192.jpg    \n",
            "  inflating: ./graf/glass/193.jpg    \n",
            "  inflating: ./graf/glass/194.jpg    \n",
            "  inflating: ./graf/glass/195.jpg    \n",
            "  inflating: ./graf/glass/196.jpg    \n",
            "  inflating: ./graf/glass/197.jpg    \n",
            "  inflating: ./graf/glass/198.jpg    \n",
            "  inflating: ./graf/glass/199.jpg    \n",
            "  inflating: ./graf/glass/200.jpg    \n",
            "  inflating: ./graf/glass/201.jpg    \n",
            "  inflating: ./graf/glass/202.jpg    \n",
            "  inflating: ./graf/glass/203.jpg    \n",
            "  inflating: ./graf/glass/204.jpg    \n",
            "  inflating: ./graf/glass/205.jpg    \n",
            "  inflating: ./graf/glass/206.jpg    \n",
            "  inflating: ./graf/glass/207.jpg    \n",
            "  inflating: ./graf/glass/208.jpg    \n",
            "  inflating: ./graf/glass/209.jpg    \n",
            "  inflating: ./graf/glass/210.jpg    \n",
            "  inflating: ./graf/glass/211.jpg    \n",
            "  inflating: ./graf/glass/212.jpg    \n",
            "  inflating: ./graf/glass/213.jpg    \n",
            "  inflating: ./graf/glass/214.jpg    \n",
            "  inflating: ./graf/glass/215.jpg    \n",
            "  inflating: ./graf/glass/216.jpg    \n",
            "  inflating: ./graf/glass/217.jpg    \n",
            "  inflating: ./graf/glass/218.jpg    \n",
            "  inflating: ./graf/glass/219.jpg    \n",
            "  inflating: ./graf/glass/220.jpg    \n",
            "  inflating: ./graf/glass/221.jpg    \n",
            "  inflating: ./graf/glass/222.jpg    \n",
            "  inflating: ./graf/glass/223.jpg    \n",
            "  inflating: ./graf/glass/224.jpg    \n",
            "  inflating: ./graf/glass/225.jpg    \n",
            "  inflating: ./graf/glass/226.jpg    \n",
            "  inflating: ./graf/glass/227.jpg    \n",
            "  inflating: ./graf/glass/228.jpg    \n",
            "  inflating: ./graf/glass/229.jpg    \n",
            "  inflating: ./graf/glass/230.jpg    \n",
            "  inflating: ./graf/glass/231.jpg    \n",
            "  inflating: ./graf/glass/232.jpg    \n",
            "  inflating: ./graf/glass/233.jpg    \n",
            "  inflating: ./graf/glass/234.jpg    \n",
            "  inflating: ./graf/glass/235.jpg    \n",
            "  inflating: ./graf/glass/236.jpg    \n",
            "  inflating: ./graf/glass/237.jpg    \n",
            "  inflating: ./graf/glass/238.jpg    \n",
            "  inflating: ./graf/glass/239.jpg    \n",
            "  inflating: ./graf/glass/240.jpg    \n",
            "  inflating: ./graf/glass/241.jpg    \n",
            "  inflating: ./graf/glass/242.jpg    \n",
            "  inflating: ./graf/glass/243.jpg    \n",
            "  inflating: ./graf/glass/244.jpg    \n",
            "  inflating: ./graf/glass/245.jpg    \n",
            "  inflating: ./graf/glass/246.jpg    \n",
            "  inflating: ./graf/glass/247.jpg    \n",
            "  inflating: ./graf/glass/248.jpg    \n",
            "  inflating: ./graf/glass/249.jpg    \n",
            "  inflating: ./graf/glass/250.jpg    \n",
            "  inflating: ./graf/glass/251.jpg    \n",
            "  inflating: ./graf/glass/252.jpg    \n",
            "  inflating: ./graf/glass/253.jpg    \n",
            "  inflating: ./graf/glass/254.jpg    \n",
            "  inflating: ./graf/glass/255.jpg    \n",
            "  inflating: ./graf/glass/256.jpg    \n",
            "  inflating: ./graf/glass/257.jpg    \n",
            "  inflating: ./graf/glass/258.jpg    \n",
            "  inflating: ./graf/glass/259.jpg    \n",
            "  inflating: ./graf/glass/260.jpg    \n",
            "  inflating: ./graf/glass/261.jpg    \n",
            "  inflating: ./graf/glass/262.jpg    \n",
            "  inflating: ./graf/glass/263.jpg    \n",
            "  inflating: ./graf/glass/264.jpg    \n",
            "  inflating: ./graf/glass/265.jpg    \n",
            "  inflating: ./graf/glass/266.jpg    \n",
            "  inflating: ./graf/glass/267.jpg    \n",
            "  inflating: ./graf/glass/268.jpg    \n",
            "  inflating: ./graf/glass/269.jpg    \n",
            "  inflating: ./graf/glass/270.jpg    \n",
            "  inflating: ./graf/glass/271.jpg    \n",
            "  inflating: ./graf/glass/272.jpg    \n",
            "  inflating: ./graf/glass/273.jpg    \n",
            "  inflating: ./graf/glass/274.jpg    \n",
            "  inflating: ./graf/glass/275.jpg    \n",
            "  inflating: ./graf/glass/276.jpg    \n",
            "  inflating: ./graf/glass/277.jpg    \n",
            "  inflating: ./graf/glass/278.jpg    \n",
            "  inflating: ./graf/glass/279.jpg    \n",
            "  inflating: ./graf/glass/280.jpg    \n",
            "  inflating: ./graf/glass/281.jpg    \n",
            "  inflating: ./graf/glass/282.jpg    \n",
            "  inflating: ./graf/glass/283.jpg    \n",
            "  inflating: ./graf/glass/284.jpg    \n",
            "  inflating: ./graf/glass/285.jpg    \n",
            "  inflating: ./graf/glass/286.jpg    \n",
            "  inflating: ./graf/glass/287.jpg    \n",
            "  inflating: ./graf/glass/288.jpg    \n",
            "  inflating: ./graf/glass/289.jpg    \n",
            "  inflating: ./graf/glass/290.jpg    \n",
            "  inflating: ./graf/glass/291.jpg    \n",
            "  inflating: ./graf/glass/292.jpg    \n",
            "  inflating: ./graf/glass/293.jpg    \n",
            "  inflating: ./graf/glass/294.jpg    \n",
            "  inflating: ./graf/glass/295.jpg    \n",
            "  inflating: ./graf/glass/296.jpg    \n",
            "  inflating: ./graf/glass/297.jpg    \n",
            "  inflating: ./graf/glass/298.jpg    \n",
            "  inflating: ./graf/glass/299.jpg    \n",
            "  inflating: ./graf/glass/300.jpg    \n",
            "  inflating: ./graf/glass/301.jpg    \n",
            "  inflating: ./graf/glass/302.jpg    \n",
            "  inflating: ./graf/glass/303.jpg    \n",
            "  inflating: ./graf/glass/304.jpg    \n",
            "  inflating: ./graf/glass/305.jpg    \n",
            "  inflating: ./graf/glass/306.jpg    \n",
            "  inflating: ./graf/glass/307.jpg    \n",
            "  inflating: ./graf/glass/308.jpg    \n",
            "  inflating: ./graf/glass/309.jpg    \n",
            "  inflating: ./graf/glass/310.jpg    \n",
            "  inflating: ./graf/glass/311.jpg    \n",
            "  inflating: ./graf/glass/312.jpg    \n",
            "  inflating: ./graf/glass/313.jpg    \n",
            "  inflating: ./graf/glass/314.jpg    \n",
            "  inflating: ./graf/glass/315.jpg    \n",
            "  inflating: ./graf/glass/316.jpg    \n",
            "  inflating: ./graf/glass/317.jpg    \n",
            "  inflating: ./graf/glass/318.jpg    \n",
            "  inflating: ./graf/glass/319.jpg    \n",
            "  inflating: ./graf/glass/320.jpg    \n",
            "  inflating: ./graf/glass/321.jpg    \n",
            "  inflating: ./graf/glass/322.jpg    \n",
            "  inflating: ./graf/glass/323.jpg    \n",
            "  inflating: ./graf/glass/324.jpg    \n",
            "  inflating: ./graf/glass/325.jpg    \n",
            "  inflating: ./graf/glass/326.jpg    \n",
            "  inflating: ./graf/glass/327.jpg    \n",
            "  inflating: ./graf/glass/328.jpg    \n",
            "  inflating: ./graf/glass/329.jpg    \n",
            "  inflating: ./graf/glass/330.jpg    \n",
            "  inflating: ./graf/glass/331.jpg    \n",
            "  inflating: ./graf/glass/332.jpg    \n",
            "  inflating: ./graf/glass/333.jpg    \n",
            "  inflating: ./graf/glass/334.jpg    \n",
            "  inflating: ./graf/glass/335.jpg    \n",
            "  inflating: ./graf/glass/336.jpg    \n",
            "  inflating: ./graf/glass/337.jpg    \n",
            "  inflating: ./graf/glass/338.jpg    \n",
            "  inflating: ./graf/glass/339.jpg    \n",
            "  inflating: ./graf/glass/340.jpg    \n",
            "  inflating: ./graf/glass/341.jpg    \n",
            "  inflating: ./graf/glass/342.jpg    \n",
            "  inflating: ./graf/glass/343.jpg    \n",
            "  inflating: ./graf/glass/344.jpg    \n",
            "  inflating: ./graf/glass/345.jpg    \n",
            "  inflating: ./graf/glass/346.jpg    \n",
            "  inflating: ./graf/glass/347.jpg    \n",
            "  inflating: ./graf/glass/348.jpg    \n",
            "  inflating: ./graf/glass/349.jpg    \n",
            "  inflating: ./graf/glass/350.jpg    \n",
            "  inflating: ./graf/glass/351.jpg    \n",
            "  inflating: ./graf/glass/352.jpg    \n",
            "  inflating: ./graf/glass/353.jpg    \n",
            "  inflating: ./graf/glass/354.jpg    \n",
            "  inflating: ./graf/glass/355.jpg    \n",
            "  inflating: ./graf/glass/356.jpg    \n",
            "  inflating: ./graf/glass/357.jpg    \n",
            "  inflating: ./graf/glass/358.jpg    \n",
            "  inflating: ./graf/glass/359.jpg    \n",
            "  inflating: ./graf/glass/360.jpg    \n",
            "  inflating: ./graf/glass/361.jpg    \n",
            "  inflating: ./graf/glass/362.jpg    \n",
            "  inflating: ./graf/glass/363.jpg    \n",
            "  inflating: ./graf/glass/364.jpg    \n",
            "  inflating: ./graf/glass/365.jpg    \n",
            "  inflating: ./graf/glass/366.jpg    \n",
            "  inflating: ./graf/glass/367.jpg    \n",
            "  inflating: ./graf/glass/368.jpg    \n",
            "  inflating: ./graf/glass/369.jpg    \n",
            "  inflating: ./graf/glass/370.jpg    \n",
            "  inflating: ./graf/glass/371.jpg    \n",
            "  inflating: ./graf/glass/372.jpg    \n",
            "  inflating: ./graf/glass/373.jpg    \n",
            "  inflating: ./graf/glass/374.jpg    \n",
            "  inflating: ./graf/glass/375.jpg    \n",
            "  inflating: ./graf/glass/376.jpg    \n",
            "  inflating: ./graf/glass/377.jpg    \n",
            "  inflating: ./graf/glass/378.jpg    \n",
            "  inflating: ./graf/glass/379.jpg    \n",
            "  inflating: ./graf/glass/380.jpg    \n",
            "  inflating: ./graf/glass/381.jpg    \n",
            "  inflating: ./graf/glass/382.jpg    \n",
            "  inflating: ./graf/glass/383.jpg    \n",
            "  inflating: ./graf/glass/384.jpg    \n",
            "  inflating: ./graf/glass/385.jpg    \n",
            "  inflating: ./graf/glass/386.jpg    \n",
            "  inflating: ./graf/glass/387.jpg    \n",
            "  inflating: ./graf/glass/388.jpg    \n",
            "  inflating: ./graf/glass/389.jpg    \n",
            "  inflating: ./graf/glass/390.jpg    \n",
            "  inflating: ./graf/glass/391.jpg    \n",
            "  inflating: ./graf/glass/392.jpg    \n",
            "  inflating: ./graf/glass/393.jpg    \n",
            "  inflating: ./graf/glass/394.jpg    \n",
            "  inflating: ./graf/glass/395.jpg    \n",
            "  inflating: ./graf/glass/396.jpg    \n",
            "  inflating: ./graf/glass/397.jpg    \n",
            "  inflating: ./graf/glass/398.jpg    \n",
            "  inflating: ./graf/glass/399.jpg    \n",
            "  inflating: ./graf/glass/400.jpg    \n",
            "mkdir: cannot create directory ‘graf’: File exists\n",
            "rm: cannot remove './graf/metal/*': No such file or directory\n",
            "--2021-11-13 11:03:05--  https://github.com/sipocz/Garbage_Classification/raw/da6122a92fa291b0c80bd290dae6b339a6c8dfda/metal.zip\n",
            "Resolving github.com (github.com)... 140.82.114.4\n",
            "Connecting to github.com (github.com)|140.82.114.4|:443... connected.\n",
            "HTTP request sent, awaiting response... 302 Found\n",
            "Location: https://raw.githubusercontent.com/sipocz/Garbage_Classification/da6122a92fa291b0c80bd290dae6b339a6c8dfda/metal.zip [following]\n",
            "--2021-11-13 11:03:05--  https://raw.githubusercontent.com/sipocz/Garbage_Classification/da6122a92fa291b0c80bd290dae6b339a6c8dfda/metal.zip\n",
            "Resolving raw.githubusercontent.com (raw.githubusercontent.com)... 185.199.108.133, 185.199.109.133, 185.199.110.133, ...\n",
            "Connecting to raw.githubusercontent.com (raw.githubusercontent.com)|185.199.108.133|:443... connected.\n",
            "HTTP request sent, awaiting response... 200 OK\n",
            "Length: 5716017 (5.5M) [application/zip]\n",
            "Saving to: ‘metal.zip’\n",
            "\n",
            "metal.zip           100%[===================>]   5.45M  --.-KB/s    in 0.08s   \n",
            "\n",
            "2021-11-13 11:03:05 (69.9 MB/s) - ‘metal.zip’ saved [5716017/5716017]\n",
            "\n",
            "dirname: ./graf/metal\n",
            "Archive:  ./graf/metal/metal.zip\n",
            "  inflating: ./graf/metal/000.jpg    \n",
            "  inflating: ./graf/metal/001.jpg    \n",
            "  inflating: ./graf/metal/002.jpg    \n",
            "  inflating: ./graf/metal/003.jpg    \n",
            "  inflating: ./graf/metal/004.jpg    \n",
            "  inflating: ./graf/metal/005.jpg    \n",
            "  inflating: ./graf/metal/006.jpg    \n",
            "  inflating: ./graf/metal/007.jpg    \n",
            "  inflating: ./graf/metal/008.jpg    \n",
            "  inflating: ./graf/metal/009.jpg    \n",
            "  inflating: ./graf/metal/010.jpg    \n",
            "  inflating: ./graf/metal/011.jpg    \n",
            "  inflating: ./graf/metal/012.jpg    \n",
            "  inflating: ./graf/metal/013.jpg    \n",
            "  inflating: ./graf/metal/014.jpg    \n",
            "  inflating: ./graf/metal/015.jpg    \n",
            "  inflating: ./graf/metal/016.jpg    \n",
            "  inflating: ./graf/metal/017.jpg    \n",
            "  inflating: ./graf/metal/018.jpg    \n",
            "  inflating: ./graf/metal/019.jpg    \n",
            "  inflating: ./graf/metal/020.jpg    \n",
            "  inflating: ./graf/metal/021.jpg    \n",
            "  inflating: ./graf/metal/022.jpg    \n",
            "  inflating: ./graf/metal/023.jpg    \n",
            "  inflating: ./graf/metal/024.jpg    \n",
            "  inflating: ./graf/metal/025.jpg    \n",
            "  inflating: ./graf/metal/026.jpg    \n",
            "  inflating: ./graf/metal/027.jpg    \n",
            "  inflating: ./graf/metal/028.jpg    \n",
            "  inflating: ./graf/metal/029.jpg    \n",
            "  inflating: ./graf/metal/030.jpg    \n",
            "  inflating: ./graf/metal/031.jpg    \n",
            "  inflating: ./graf/metal/032.jpg    \n",
            "  inflating: ./graf/metal/033.jpg    \n",
            "  inflating: ./graf/metal/034.jpg    \n",
            "  inflating: ./graf/metal/035.jpg    \n",
            "  inflating: ./graf/metal/036.jpg    \n",
            "  inflating: ./graf/metal/037.jpg    \n",
            "  inflating: ./graf/metal/038.jpg    \n",
            "  inflating: ./graf/metal/039.jpg    \n",
            "  inflating: ./graf/metal/040.jpg    \n",
            "  inflating: ./graf/metal/041.jpg    \n",
            "  inflating: ./graf/metal/042.jpg    \n",
            "  inflating: ./graf/metal/043.jpg    \n",
            "  inflating: ./graf/metal/044.jpg    \n",
            "  inflating: ./graf/metal/045.jpg    \n",
            "  inflating: ./graf/metal/046.jpg    \n",
            "  inflating: ./graf/metal/047.jpg    \n",
            "  inflating: ./graf/metal/048.jpg    \n",
            "  inflating: ./graf/metal/049.jpg    \n",
            "  inflating: ./graf/metal/050.jpg    \n",
            "  inflating: ./graf/metal/051.jpg    \n",
            "  inflating: ./graf/metal/052.jpg    \n",
            "  inflating: ./graf/metal/053.jpg    \n",
            "  inflating: ./graf/metal/054.jpg    \n",
            "  inflating: ./graf/metal/055.jpg    \n",
            "  inflating: ./graf/metal/056.jpg    \n",
            "  inflating: ./graf/metal/057.jpg    \n",
            "  inflating: ./graf/metal/058.jpg    \n",
            "  inflating: ./graf/metal/059.jpg    \n",
            "  inflating: ./graf/metal/060.jpg    \n",
            "  inflating: ./graf/metal/061.jpg    \n",
            "  inflating: ./graf/metal/062.jpg    \n",
            "  inflating: ./graf/metal/063.jpg    \n",
            "  inflating: ./graf/metal/064.jpg    \n",
            "  inflating: ./graf/metal/065.jpg    \n",
            "  inflating: ./graf/metal/066.jpg    \n",
            "  inflating: ./graf/metal/067.jpg    \n",
            "  inflating: ./graf/metal/068.jpg    \n",
            "  inflating: ./graf/metal/069.jpg    \n",
            "  inflating: ./graf/metal/070.jpg    \n",
            "  inflating: ./graf/metal/071.jpg    \n",
            "  inflating: ./graf/metal/072.jpg    \n",
            "  inflating: ./graf/metal/073.jpg    \n",
            "  inflating: ./graf/metal/074.jpg    \n",
            "  inflating: ./graf/metal/075.jpg    \n",
            "  inflating: ./graf/metal/076.jpg    \n",
            "  inflating: ./graf/metal/077.jpg    \n",
            "  inflating: ./graf/metal/078.jpg    \n",
            "  inflating: ./graf/metal/079.jpg    \n",
            "  inflating: ./graf/metal/080.jpg    \n",
            "  inflating: ./graf/metal/081.jpg    \n",
            "  inflating: ./graf/metal/082.jpg    \n",
            "  inflating: ./graf/metal/083.jpg    \n",
            "  inflating: ./graf/metal/084.jpg    \n",
            "  inflating: ./graf/metal/085.jpg    \n",
            "  inflating: ./graf/metal/086.jpg    \n",
            "  inflating: ./graf/metal/087.jpg    \n",
            "  inflating: ./graf/metal/088.jpg    \n",
            "  inflating: ./graf/metal/089.jpg    \n",
            "  inflating: ./graf/metal/090.jpg    \n",
            "  inflating: ./graf/metal/091.jpg    \n",
            "  inflating: ./graf/metal/092.jpg    \n",
            "  inflating: ./graf/metal/093.jpg    \n",
            "  inflating: ./graf/metal/094.jpg    \n",
            "  inflating: ./graf/metal/095.jpg    \n",
            "  inflating: ./graf/metal/096.jpg    \n",
            "  inflating: ./graf/metal/097.jpg    \n",
            "  inflating: ./graf/metal/098.jpg    \n",
            "  inflating: ./graf/metal/099.jpg    \n",
            "  inflating: ./graf/metal/100.jpg    \n",
            "  inflating: ./graf/metal/101.jpg    \n",
            "  inflating: ./graf/metal/102.jpg    \n",
            "  inflating: ./graf/metal/103.jpg    \n",
            "  inflating: ./graf/metal/104.jpg    \n",
            "  inflating: ./graf/metal/105.jpg    \n",
            "  inflating: ./graf/metal/106.jpg    \n",
            "  inflating: ./graf/metal/107.jpg    \n",
            "  inflating: ./graf/metal/108.jpg    \n",
            "  inflating: ./graf/metal/109.jpg    \n",
            "  inflating: ./graf/metal/110.jpg    \n",
            "  inflating: ./graf/metal/111.jpg    \n",
            "  inflating: ./graf/metal/112.jpg    \n",
            "  inflating: ./graf/metal/113.jpg    \n",
            "  inflating: ./graf/metal/114.jpg    \n",
            "  inflating: ./graf/metal/115.jpg    \n",
            "  inflating: ./graf/metal/116.jpg    \n",
            "  inflating: ./graf/metal/117.jpg    \n",
            "  inflating: ./graf/metal/118.jpg    \n",
            "  inflating: ./graf/metal/119.jpg    \n",
            "  inflating: ./graf/metal/120.jpg    \n",
            "  inflating: ./graf/metal/121.jpg    \n",
            "  inflating: ./graf/metal/122.jpg    \n",
            "  inflating: ./graf/metal/123.jpg    \n",
            "  inflating: ./graf/metal/124.jpg    \n",
            "  inflating: ./graf/metal/125.jpg    \n",
            "  inflating: ./graf/metal/126.jpg    \n",
            "  inflating: ./graf/metal/127.jpg    \n",
            "  inflating: ./graf/metal/128.jpg    \n",
            "  inflating: ./graf/metal/129.jpg    \n",
            "  inflating: ./graf/metal/130.jpg    \n",
            "  inflating: ./graf/metal/131.jpg    \n",
            "  inflating: ./graf/metal/132.jpg    \n",
            "  inflating: ./graf/metal/133.jpg    \n",
            "  inflating: ./graf/metal/134.jpg    \n",
            "  inflating: ./graf/metal/135.jpg    \n",
            "  inflating: ./graf/metal/136.jpg    \n",
            "  inflating: ./graf/metal/137.jpg    \n",
            "  inflating: ./graf/metal/138.jpg    \n",
            "  inflating: ./graf/metal/139.jpg    \n",
            "  inflating: ./graf/metal/140.jpg    \n",
            "  inflating: ./graf/metal/141.jpg    \n",
            "  inflating: ./graf/metal/142.jpg    \n",
            "  inflating: ./graf/metal/143.jpg    \n",
            "  inflating: ./graf/metal/144.jpg    \n",
            "  inflating: ./graf/metal/145.jpg    \n",
            "  inflating: ./graf/metal/146.jpg    \n",
            "  inflating: ./graf/metal/147.jpg    \n",
            "  inflating: ./graf/metal/148.jpg    \n",
            "  inflating: ./graf/metal/149.jpg    \n",
            "  inflating: ./graf/metal/150.jpg    \n",
            "  inflating: ./graf/metal/151.jpg    \n",
            "  inflating: ./graf/metal/152.jpg    \n",
            "  inflating: ./graf/metal/153.jpg    \n",
            "  inflating: ./graf/metal/154.jpg    \n",
            "  inflating: ./graf/metal/155.jpg    \n",
            "  inflating: ./graf/metal/156.jpg    \n",
            "  inflating: ./graf/metal/157.jpg    \n",
            "  inflating: ./graf/metal/158.jpg    \n",
            "  inflating: ./graf/metal/159.jpg    \n",
            "  inflating: ./graf/metal/160.jpg    \n",
            "  inflating: ./graf/metal/161.jpg    \n",
            "  inflating: ./graf/metal/162.jpg    \n",
            "  inflating: ./graf/metal/163.jpg    \n",
            "  inflating: ./graf/metal/164.jpg    \n",
            "  inflating: ./graf/metal/165.jpg    \n",
            "  inflating: ./graf/metal/166.jpg    \n",
            "  inflating: ./graf/metal/167.jpg    \n",
            "  inflating: ./graf/metal/168.jpg    \n",
            "  inflating: ./graf/metal/169.jpg    \n",
            "  inflating: ./graf/metal/170.jpg    \n",
            "  inflating: ./graf/metal/171.jpg    \n",
            "  inflating: ./graf/metal/172.jpg    \n",
            "  inflating: ./graf/metal/173.jpg    \n",
            "  inflating: ./graf/metal/174.jpg    \n",
            "  inflating: ./graf/metal/175.jpg    \n",
            "  inflating: ./graf/metal/176.jpg    \n",
            "  inflating: ./graf/metal/177.jpg    \n",
            "  inflating: ./graf/metal/178.jpg    \n",
            "  inflating: ./graf/metal/179.jpg    \n",
            "  inflating: ./graf/metal/180.jpg    \n",
            "  inflating: ./graf/metal/181.jpg    \n",
            "  inflating: ./graf/metal/182.jpg    \n",
            "  inflating: ./graf/metal/183.jpg    \n",
            "  inflating: ./graf/metal/184.jpg    \n",
            "  inflating: ./graf/metal/185.jpg    \n",
            "  inflating: ./graf/metal/186.jpg    \n",
            "  inflating: ./graf/metal/187.jpg    \n",
            "  inflating: ./graf/metal/188.jpg    \n",
            "  inflating: ./graf/metal/189.jpg    \n",
            "  inflating: ./graf/metal/190.jpg    \n",
            "  inflating: ./graf/metal/191.jpg    \n",
            "  inflating: ./graf/metal/192.jpg    \n",
            "  inflating: ./graf/metal/193.jpg    \n",
            "  inflating: ./graf/metal/194.jpg    \n",
            "  inflating: ./graf/metal/195.jpg    \n",
            "  inflating: ./graf/metal/196.jpg    \n",
            "  inflating: ./graf/metal/197.jpg    \n",
            "  inflating: ./graf/metal/198.jpg    \n",
            "  inflating: ./graf/metal/199.jpg    \n",
            "  inflating: ./graf/metal/200.jpg    \n",
            "  inflating: ./graf/metal/201.jpg    \n",
            "  inflating: ./graf/metal/202.jpg    \n",
            "  inflating: ./graf/metal/203.jpg    \n",
            "  inflating: ./graf/metal/204.jpg    \n",
            "  inflating: ./graf/metal/205.jpg    \n",
            "  inflating: ./graf/metal/206.jpg    \n",
            "  inflating: ./graf/metal/207.jpg    \n",
            "  inflating: ./graf/metal/208.jpg    \n",
            "  inflating: ./graf/metal/209.jpg    \n",
            "  inflating: ./graf/metal/210.jpg    \n",
            "  inflating: ./graf/metal/211.jpg    \n",
            "  inflating: ./graf/metal/212.jpg    \n",
            "  inflating: ./graf/metal/213.jpg    \n",
            "  inflating: ./graf/metal/214.jpg    \n",
            "  inflating: ./graf/metal/215.jpg    \n",
            "  inflating: ./graf/metal/216.jpg    \n",
            "  inflating: ./graf/metal/217.jpg    \n",
            "  inflating: ./graf/metal/218.jpg    \n",
            "  inflating: ./graf/metal/219.jpg    \n",
            "  inflating: ./graf/metal/220.jpg    \n",
            "  inflating: ./graf/metal/221.jpg    \n",
            "  inflating: ./graf/metal/222.jpg    \n",
            "  inflating: ./graf/metal/223.jpg    \n",
            "  inflating: ./graf/metal/224.jpg    \n",
            "  inflating: ./graf/metal/225.jpg    \n",
            "  inflating: ./graf/metal/226.jpg    \n",
            "  inflating: ./graf/metal/227.jpg    \n",
            "  inflating: ./graf/metal/228.jpg    \n",
            "  inflating: ./graf/metal/229.jpg    \n",
            "  inflating: ./graf/metal/230.jpg    \n",
            "  inflating: ./graf/metal/231.jpg    \n",
            "  inflating: ./graf/metal/232.jpg    \n",
            "  inflating: ./graf/metal/233.jpg    \n",
            "  inflating: ./graf/metal/234.jpg    \n",
            "  inflating: ./graf/metal/235.jpg    \n",
            "  inflating: ./graf/metal/236.jpg    \n",
            "  inflating: ./graf/metal/237.jpg    \n",
            "  inflating: ./graf/metal/238.jpg    \n",
            "  inflating: ./graf/metal/239.jpg    \n",
            "  inflating: ./graf/metal/240.jpg    \n",
            "  inflating: ./graf/metal/241.jpg    \n",
            "  inflating: ./graf/metal/242.jpg    \n",
            "  inflating: ./graf/metal/243.jpg    \n",
            "  inflating: ./graf/metal/244.jpg    \n",
            "  inflating: ./graf/metal/245.jpg    \n",
            "  inflating: ./graf/metal/246.jpg    \n",
            "  inflating: ./graf/metal/247.jpg    \n",
            "  inflating: ./graf/metal/248.jpg    \n",
            "  inflating: ./graf/metal/249.jpg    \n",
            "  inflating: ./graf/metal/250.jpg    \n",
            "  inflating: ./graf/metal/251.jpg    \n",
            "  inflating: ./graf/metal/252.jpg    \n",
            "  inflating: ./graf/metal/253.jpg    \n",
            "  inflating: ./graf/metal/254.jpg    \n",
            "  inflating: ./graf/metal/255.jpg    \n",
            "  inflating: ./graf/metal/256.jpg    \n",
            "  inflating: ./graf/metal/257.jpg    \n",
            "  inflating: ./graf/metal/258.jpg    \n",
            "  inflating: ./graf/metal/259.jpg    \n",
            "  inflating: ./graf/metal/260.jpg    \n",
            "  inflating: ./graf/metal/261.jpg    \n",
            "  inflating: ./graf/metal/262.jpg    \n",
            "  inflating: ./graf/metal/263.jpg    \n",
            "  inflating: ./graf/metal/264.jpg    \n",
            "  inflating: ./graf/metal/265.jpg    \n",
            "  inflating: ./graf/metal/266.jpg    \n",
            "  inflating: ./graf/metal/267.jpg    \n",
            "  inflating: ./graf/metal/268.jpg    \n",
            "  inflating: ./graf/metal/269.jpg    \n",
            "  inflating: ./graf/metal/270.jpg    \n",
            "  inflating: ./graf/metal/271.jpg    \n",
            "  inflating: ./graf/metal/272.jpg    \n",
            "  inflating: ./graf/metal/273.jpg    \n",
            "  inflating: ./graf/metal/274.jpg    \n",
            "  inflating: ./graf/metal/275.jpg    \n",
            "  inflating: ./graf/metal/276.jpg    \n",
            "  inflating: ./graf/metal/277.jpg    \n",
            "  inflating: ./graf/metal/278.jpg    \n",
            "  inflating: ./graf/metal/279.jpg    \n",
            "  inflating: ./graf/metal/280.jpg    \n",
            "  inflating: ./graf/metal/281.jpg    \n",
            "  inflating: ./graf/metal/282.jpg    \n",
            "  inflating: ./graf/metal/283.jpg    \n",
            "  inflating: ./graf/metal/284.jpg    \n",
            "  inflating: ./graf/metal/285.jpg    \n",
            "  inflating: ./graf/metal/286.jpg    \n",
            "  inflating: ./graf/metal/287.jpg    \n",
            "  inflating: ./graf/metal/288.jpg    \n",
            "  inflating: ./graf/metal/289.jpg    \n",
            "  inflating: ./graf/metal/290.jpg    \n",
            "  inflating: ./graf/metal/291.jpg    \n",
            "  inflating: ./graf/metal/292.jpg    \n",
            "  inflating: ./graf/metal/293.jpg    \n",
            "  inflating: ./graf/metal/294.jpg    \n",
            "  inflating: ./graf/metal/295.jpg    \n",
            "  inflating: ./graf/metal/296.jpg    \n",
            "  inflating: ./graf/metal/297.jpg    \n",
            "  inflating: ./graf/metal/298.jpg    \n",
            "  inflating: ./graf/metal/299.jpg    \n",
            "  inflating: ./graf/metal/300.jpg    \n",
            "  inflating: ./graf/metal/301.jpg    \n",
            "  inflating: ./graf/metal/302.jpg    \n",
            "  inflating: ./graf/metal/303.jpg    \n",
            "  inflating: ./graf/metal/304.jpg    \n",
            "  inflating: ./graf/metal/305.jpg    \n",
            "  inflating: ./graf/metal/306.jpg    \n",
            "  inflating: ./graf/metal/307.jpg    \n",
            "  inflating: ./graf/metal/308.jpg    \n",
            "  inflating: ./graf/metal/309.jpg    \n",
            "  inflating: ./graf/metal/310.jpg    \n",
            "  inflating: ./graf/metal/311.jpg    \n",
            "  inflating: ./graf/metal/312.jpg    \n",
            "  inflating: ./graf/metal/313.jpg    \n",
            "  inflating: ./graf/metal/314.jpg    \n",
            "  inflating: ./graf/metal/315.jpg    \n",
            "  inflating: ./graf/metal/316.jpg    \n",
            "  inflating: ./graf/metal/317.jpg    \n",
            "  inflating: ./graf/metal/318.jpg    \n",
            "  inflating: ./graf/metal/319.jpg    \n",
            "  inflating: ./graf/metal/320.jpg    \n",
            "  inflating: ./graf/metal/321.jpg    \n",
            "  inflating: ./graf/metal/322.jpg    \n",
            "  inflating: ./graf/metal/323.jpg    \n",
            "  inflating: ./graf/metal/324.jpg    \n",
            "  inflating: ./graf/metal/325.jpg    \n",
            "  inflating: ./graf/metal/326.jpg    \n",
            "  inflating: ./graf/metal/327.jpg    \n",
            "mkdir: cannot create directory ‘graf’: File exists\n",
            "rm: cannot remove './graf/paper/*': No such file or directory\n",
            "--2021-11-13 11:03:06--  https://github.com/sipocz/Garbage_Classification/raw/da6122a92fa291b0c80bd290dae6b339a6c8dfda/paper.zip\n",
            "Resolving github.com (github.com)... 140.82.114.3\n",
            "Connecting to github.com (github.com)|140.82.114.3|:443... connected.\n",
            "HTTP request sent, awaiting response... 302 Found\n",
            "Location: https://raw.githubusercontent.com/sipocz/Garbage_Classification/da6122a92fa291b0c80bd290dae6b339a6c8dfda/paper.zip [following]\n",
            "--2021-11-13 11:03:06--  https://raw.githubusercontent.com/sipocz/Garbage_Classification/da6122a92fa291b0c80bd290dae6b339a6c8dfda/paper.zip\n",
            "Resolving raw.githubusercontent.com (raw.githubusercontent.com)... 185.199.108.133, 185.199.109.133, 185.199.110.133, ...\n",
            "Connecting to raw.githubusercontent.com (raw.githubusercontent.com)|185.199.108.133|:443... connected.\n",
            "HTTP request sent, awaiting response... 200 OK\n",
            "Length: 10215390 (9.7M) [application/zip]\n",
            "Saving to: ‘paper.zip’\n",
            "\n",
            "paper.zip           100%[===================>]   9.74M  --.-KB/s    in 0.1s    \n",
            "\n",
            "2021-11-13 11:03:07 (91.2 MB/s) - ‘paper.zip’ saved [10215390/10215390]\n",
            "\n",
            "dirname: ./graf/paper\n",
            "Archive:  ./graf/paper/paper.zip\n",
            "  inflating: ./graf/paper/000.jpg    \n",
            "  inflating: ./graf/paper/001.jpg    \n",
            "  inflating: ./graf/paper/002.jpg    \n",
            "  inflating: ./graf/paper/003.jpg    \n",
            "  inflating: ./graf/paper/004.jpg    \n",
            "  inflating: ./graf/paper/005.jpg    \n",
            "  inflating: ./graf/paper/006.jpg    \n",
            "  inflating: ./graf/paper/007.jpg    \n",
            "  inflating: ./graf/paper/008.jpg    \n",
            "  inflating: ./graf/paper/009.jpg    \n",
            "  inflating: ./graf/paper/010.jpg    \n",
            "  inflating: ./graf/paper/011.jpg    \n",
            "  inflating: ./graf/paper/012.jpg    \n",
            "  inflating: ./graf/paper/013.jpg    \n",
            "  inflating: ./graf/paper/014.jpg    \n",
            "  inflating: ./graf/paper/015.jpg    \n",
            "  inflating: ./graf/paper/016.jpg    \n",
            "  inflating: ./graf/paper/017.jpg    \n",
            "  inflating: ./graf/paper/018.jpg    \n",
            "  inflating: ./graf/paper/019.jpg    \n",
            "  inflating: ./graf/paper/020.jpg    \n",
            "  inflating: ./graf/paper/021.jpg    \n",
            "  inflating: ./graf/paper/022.jpg    \n",
            "  inflating: ./graf/paper/023.jpg    \n",
            "  inflating: ./graf/paper/024.jpg    \n",
            "  inflating: ./graf/paper/025.jpg    \n",
            "  inflating: ./graf/paper/026.jpg    \n",
            "  inflating: ./graf/paper/027.jpg    \n",
            "  inflating: ./graf/paper/028.jpg    \n",
            "  inflating: ./graf/paper/029.jpg    \n",
            "  inflating: ./graf/paper/030.jpg    \n",
            "  inflating: ./graf/paper/031.jpg    \n",
            "  inflating: ./graf/paper/032.jpg    \n",
            "  inflating: ./graf/paper/033.jpg    \n",
            "  inflating: ./graf/paper/034.jpg    \n",
            "  inflating: ./graf/paper/035.jpg    \n",
            "  inflating: ./graf/paper/036.jpg    \n",
            "  inflating: ./graf/paper/037.jpg    \n",
            "  inflating: ./graf/paper/038.jpg    \n",
            "  inflating: ./graf/paper/039.jpg    \n",
            "  inflating: ./graf/paper/040.jpg    \n",
            "  inflating: ./graf/paper/041.jpg    \n",
            "  inflating: ./graf/paper/042.jpg    \n",
            "  inflating: ./graf/paper/043.jpg    \n",
            "  inflating: ./graf/paper/044.jpg    \n",
            "  inflating: ./graf/paper/045.jpg    \n",
            "  inflating: ./graf/paper/046.jpg    \n",
            "  inflating: ./graf/paper/047.jpg    \n",
            "  inflating: ./graf/paper/048.jpg    \n",
            "  inflating: ./graf/paper/049.jpg    \n",
            "  inflating: ./graf/paper/050.jpg    \n",
            "  inflating: ./graf/paper/051.jpg    \n",
            "  inflating: ./graf/paper/052.jpg    \n",
            "  inflating: ./graf/paper/053.jpg    \n",
            "  inflating: ./graf/paper/054.jpg    \n",
            "  inflating: ./graf/paper/055.jpg    \n",
            "  inflating: ./graf/paper/056.jpg    \n",
            "  inflating: ./graf/paper/057.jpg    \n",
            "  inflating: ./graf/paper/058.jpg    \n",
            "  inflating: ./graf/paper/059.jpg    \n",
            "  inflating: ./graf/paper/060.jpg    \n",
            "  inflating: ./graf/paper/061.jpg    \n",
            "  inflating: ./graf/paper/062.jpg    \n",
            "  inflating: ./graf/paper/063.jpg    \n",
            "  inflating: ./graf/paper/064.jpg    \n",
            "  inflating: ./graf/paper/065.jpg    \n",
            "  inflating: ./graf/paper/066.jpg    \n",
            "  inflating: ./graf/paper/067.jpg    \n",
            "  inflating: ./graf/paper/068.jpg    \n",
            "  inflating: ./graf/paper/069.jpg    \n",
            "  inflating: ./graf/paper/070.jpg    \n",
            "  inflating: ./graf/paper/071.jpg    \n",
            "  inflating: ./graf/paper/072.jpg    \n",
            "  inflating: ./graf/paper/073.jpg    \n",
            "  inflating: ./graf/paper/074.jpg    \n",
            "  inflating: ./graf/paper/075.jpg    \n",
            "  inflating: ./graf/paper/076.jpg    \n",
            "  inflating: ./graf/paper/077.jpg    \n",
            "  inflating: ./graf/paper/078.jpg    \n",
            "  inflating: ./graf/paper/079.jpg    \n",
            "  inflating: ./graf/paper/080.jpg    \n",
            "  inflating: ./graf/paper/081.jpg    \n",
            "  inflating: ./graf/paper/082.jpg    \n",
            "  inflating: ./graf/paper/083.jpg    \n",
            "  inflating: ./graf/paper/084.jpg    \n",
            "  inflating: ./graf/paper/085.jpg    \n",
            "  inflating: ./graf/paper/086.jpg    \n",
            "  inflating: ./graf/paper/087.jpg    \n",
            "  inflating: ./graf/paper/088.jpg    \n",
            "  inflating: ./graf/paper/089.jpg    \n",
            "  inflating: ./graf/paper/090.jpg    \n",
            "  inflating: ./graf/paper/091.jpg    \n",
            "  inflating: ./graf/paper/092.jpg    \n",
            "  inflating: ./graf/paper/093.jpg    \n",
            "  inflating: ./graf/paper/094.jpg    \n",
            "  inflating: ./graf/paper/095.jpg    \n",
            "  inflating: ./graf/paper/096.jpg    \n",
            "  inflating: ./graf/paper/097.jpg    \n",
            "  inflating: ./graf/paper/098.jpg    \n",
            "  inflating: ./graf/paper/099.jpg    \n",
            "  inflating: ./graf/paper/100.jpg    \n",
            "  inflating: ./graf/paper/101.jpg    \n",
            "  inflating: ./graf/paper/102.jpg    \n",
            "  inflating: ./graf/paper/103.jpg    \n",
            "  inflating: ./graf/paper/104.jpg    \n",
            "  inflating: ./graf/paper/105.jpg    \n",
            "  inflating: ./graf/paper/106.jpg    \n",
            "  inflating: ./graf/paper/107.jpg    \n",
            "  inflating: ./graf/paper/108.jpg    \n",
            "  inflating: ./graf/paper/109.jpg    \n",
            "  inflating: ./graf/paper/110.jpg    \n",
            "  inflating: ./graf/paper/111.jpg    \n",
            "  inflating: ./graf/paper/112.jpg    \n",
            "  inflating: ./graf/paper/113.jpg    \n",
            "  inflating: ./graf/paper/114.jpg    \n",
            "  inflating: ./graf/paper/115.jpg    \n",
            "  inflating: ./graf/paper/116.jpg    \n",
            "  inflating: ./graf/paper/117.jpg    \n",
            "  inflating: ./graf/paper/118.jpg    \n",
            "  inflating: ./graf/paper/119.jpg    \n",
            "  inflating: ./graf/paper/120.jpg    \n",
            "  inflating: ./graf/paper/121.jpg    \n",
            "  inflating: ./graf/paper/122.jpg    \n",
            "  inflating: ./graf/paper/123.jpg    \n",
            "  inflating: ./graf/paper/124.jpg    \n",
            "  inflating: ./graf/paper/125.jpg    \n",
            "  inflating: ./graf/paper/126.jpg    \n",
            "  inflating: ./graf/paper/127.jpg    \n",
            "  inflating: ./graf/paper/128.jpg    \n",
            "  inflating: ./graf/paper/129.jpg    \n",
            "  inflating: ./graf/paper/130.jpg    \n",
            "  inflating: ./graf/paper/131.jpg    \n",
            "  inflating: ./graf/paper/132.jpg    \n",
            "  inflating: ./graf/paper/133.jpg    \n",
            "  inflating: ./graf/paper/134.jpg    \n",
            "  inflating: ./graf/paper/135.jpg    \n",
            "  inflating: ./graf/paper/136.jpg    \n",
            "  inflating: ./graf/paper/137.jpg    \n",
            "  inflating: ./graf/paper/138.jpg    \n",
            "  inflating: ./graf/paper/139.jpg    \n",
            "  inflating: ./graf/paper/140.jpg    \n",
            "  inflating: ./graf/paper/141.jpg    \n",
            "  inflating: ./graf/paper/142.jpg    \n",
            "  inflating: ./graf/paper/143.jpg    \n",
            "  inflating: ./graf/paper/144.jpg    \n",
            "  inflating: ./graf/paper/145.jpg    \n",
            "  inflating: ./graf/paper/146.jpg    \n",
            "  inflating: ./graf/paper/147.jpg    \n",
            "  inflating: ./graf/paper/148.jpg    \n",
            "  inflating: ./graf/paper/149.jpg    \n",
            "  inflating: ./graf/paper/150.jpg    \n",
            "  inflating: ./graf/paper/151.jpg    \n",
            "  inflating: ./graf/paper/152.jpg    \n",
            "  inflating: ./graf/paper/153.jpg    \n",
            "  inflating: ./graf/paper/154.jpg    \n",
            "  inflating: ./graf/paper/155.jpg    \n",
            "  inflating: ./graf/paper/156.jpg    \n",
            "  inflating: ./graf/paper/157.jpg    \n",
            "  inflating: ./graf/paper/158.jpg    \n",
            "  inflating: ./graf/paper/159.jpg    \n",
            "  inflating: ./graf/paper/160.jpg    \n",
            "  inflating: ./graf/paper/161.jpg    \n",
            "  inflating: ./graf/paper/162.jpg    \n",
            "  inflating: ./graf/paper/163.jpg    \n",
            "  inflating: ./graf/paper/164.jpg    \n",
            "  inflating: ./graf/paper/165.jpg    \n",
            "  inflating: ./graf/paper/166.jpg    \n",
            "  inflating: ./graf/paper/167.jpg    \n",
            "  inflating: ./graf/paper/168.jpg    \n",
            "  inflating: ./graf/paper/169.jpg    \n",
            "  inflating: ./graf/paper/170.jpg    \n",
            "  inflating: ./graf/paper/171.jpg    \n",
            "  inflating: ./graf/paper/172.jpg    \n",
            "  inflating: ./graf/paper/173.jpg    \n",
            "  inflating: ./graf/paper/174.jpg    \n",
            "  inflating: ./graf/paper/175.jpg    \n",
            "  inflating: ./graf/paper/176.jpg    \n",
            "  inflating: ./graf/paper/177.jpg    \n",
            "  inflating: ./graf/paper/178.jpg    \n",
            "  inflating: ./graf/paper/179.jpg    \n",
            "  inflating: ./graf/paper/180.jpg    \n",
            "  inflating: ./graf/paper/181.jpg    \n",
            "  inflating: ./graf/paper/182.jpg    \n",
            "  inflating: ./graf/paper/183.jpg    \n",
            "  inflating: ./graf/paper/184.jpg    \n",
            "  inflating: ./graf/paper/185.jpg    \n",
            "  inflating: ./graf/paper/186.jpg    \n",
            "  inflating: ./graf/paper/187.jpg    \n",
            "  inflating: ./graf/paper/188.jpg    \n",
            "  inflating: ./graf/paper/189.jpg    \n",
            "  inflating: ./graf/paper/190.jpg    \n",
            "  inflating: ./graf/paper/191.jpg    \n",
            "  inflating: ./graf/paper/192.jpg    \n",
            "  inflating: ./graf/paper/193.jpg    \n",
            "  inflating: ./graf/paper/194.jpg    \n",
            "  inflating: ./graf/paper/195.jpg    \n",
            "  inflating: ./graf/paper/196.jpg    \n",
            "  inflating: ./graf/paper/197.jpg    \n",
            "  inflating: ./graf/paper/198.jpg    \n",
            "  inflating: ./graf/paper/199.jpg    \n",
            "  inflating: ./graf/paper/200.jpg    \n",
            "  inflating: ./graf/paper/201.jpg    \n",
            "  inflating: ./graf/paper/202.jpg    \n",
            "  inflating: ./graf/paper/203.jpg    \n",
            "  inflating: ./graf/paper/204.jpg    \n",
            "  inflating: ./graf/paper/205.jpg    \n",
            "  inflating: ./graf/paper/206.jpg    \n",
            "  inflating: ./graf/paper/207.jpg    \n",
            "  inflating: ./graf/paper/208.jpg    \n",
            "  inflating: ./graf/paper/209.jpg    \n",
            "  inflating: ./graf/paper/210.jpg    \n",
            "  inflating: ./graf/paper/211.jpg    \n",
            "  inflating: ./graf/paper/212.jpg    \n",
            "  inflating: ./graf/paper/213.jpg    \n",
            "  inflating: ./graf/paper/214.jpg    \n",
            "  inflating: ./graf/paper/215.jpg    \n",
            "  inflating: ./graf/paper/216.jpg    \n",
            "  inflating: ./graf/paper/217.jpg    \n",
            "  inflating: ./graf/paper/218.jpg    \n",
            "  inflating: ./graf/paper/219.jpg    \n",
            "  inflating: ./graf/paper/220.jpg    \n",
            "  inflating: ./graf/paper/221.jpg    \n",
            "  inflating: ./graf/paper/222.jpg    \n",
            "  inflating: ./graf/paper/223.jpg    \n",
            "  inflating: ./graf/paper/224.jpg    \n",
            "  inflating: ./graf/paper/225.jpg    \n",
            "  inflating: ./graf/paper/226.jpg    \n",
            "  inflating: ./graf/paper/227.jpg    \n",
            "  inflating: ./graf/paper/228.jpg    \n",
            "  inflating: ./graf/paper/229.jpg    \n",
            "  inflating: ./graf/paper/230.jpg    \n",
            "  inflating: ./graf/paper/231.jpg    \n",
            "  inflating: ./graf/paper/232.jpg    \n",
            "  inflating: ./graf/paper/233.jpg    \n",
            "  inflating: ./graf/paper/234.jpg    \n",
            "  inflating: ./graf/paper/235.jpg    \n",
            "  inflating: ./graf/paper/236.jpg    \n",
            "  inflating: ./graf/paper/237.jpg    \n",
            "  inflating: ./graf/paper/238.jpg    \n",
            "  inflating: ./graf/paper/239.jpg    \n",
            "  inflating: ./graf/paper/240.jpg    \n",
            "  inflating: ./graf/paper/241.jpg    \n",
            "  inflating: ./graf/paper/242.jpg    \n",
            "  inflating: ./graf/paper/243.jpg    \n",
            "  inflating: ./graf/paper/244.jpg    \n",
            "  inflating: ./graf/paper/245.jpg    \n",
            "  inflating: ./graf/paper/246.jpg    \n",
            "  inflating: ./graf/paper/247.jpg    \n",
            "  inflating: ./graf/paper/248.jpg    \n",
            "  inflating: ./graf/paper/249.jpg    \n",
            "  inflating: ./graf/paper/250.jpg    \n",
            "  inflating: ./graf/paper/251.jpg    \n",
            "  inflating: ./graf/paper/252.jpg    \n",
            "  inflating: ./graf/paper/253.jpg    \n",
            "  inflating: ./graf/paper/254.jpg    \n",
            "  inflating: ./graf/paper/255.jpg    \n",
            "  inflating: ./graf/paper/256.jpg    \n",
            "  inflating: ./graf/paper/257.jpg    \n",
            "  inflating: ./graf/paper/258.jpg    \n",
            "  inflating: ./graf/paper/259.jpg    \n",
            "  inflating: ./graf/paper/260.jpg    \n",
            "  inflating: ./graf/paper/261.jpg    \n",
            "  inflating: ./graf/paper/262.jpg    \n",
            "  inflating: ./graf/paper/263.jpg    \n",
            "  inflating: ./graf/paper/264.jpg    \n",
            "  inflating: ./graf/paper/265.jpg    \n",
            "  inflating: ./graf/paper/266.jpg    \n",
            "  inflating: ./graf/paper/267.jpg    \n",
            "  inflating: ./graf/paper/268.jpg    \n",
            "  inflating: ./graf/paper/269.jpg    \n",
            "  inflating: ./graf/paper/270.jpg    \n",
            "  inflating: ./graf/paper/271.jpg    \n",
            "  inflating: ./graf/paper/272.jpg    \n",
            "  inflating: ./graf/paper/273.jpg    \n",
            "  inflating: ./graf/paper/274.jpg    \n",
            "  inflating: ./graf/paper/275.jpg    \n",
            "  inflating: ./graf/paper/276.jpg    \n",
            "  inflating: ./graf/paper/277.jpg    \n",
            "  inflating: ./graf/paper/278.jpg    \n",
            "  inflating: ./graf/paper/279.jpg    \n",
            "  inflating: ./graf/paper/280.jpg    \n",
            "  inflating: ./graf/paper/281.jpg    \n",
            "  inflating: ./graf/paper/282.jpg    \n",
            "  inflating: ./graf/paper/283.jpg    \n",
            "  inflating: ./graf/paper/284.jpg    \n",
            "  inflating: ./graf/paper/285.jpg    \n",
            "  inflating: ./graf/paper/286.jpg    \n",
            "  inflating: ./graf/paper/287.jpg    \n",
            "  inflating: ./graf/paper/288.jpg    \n",
            "  inflating: ./graf/paper/289.jpg    \n",
            "  inflating: ./graf/paper/290.jpg    \n",
            "  inflating: ./graf/paper/291.jpg    \n",
            "  inflating: ./graf/paper/292.jpg    \n",
            "  inflating: ./graf/paper/293.jpg    \n",
            "  inflating: ./graf/paper/294.jpg    \n",
            "  inflating: ./graf/paper/295.jpg    \n",
            "  inflating: ./graf/paper/296.jpg    \n",
            "  inflating: ./graf/paper/297.jpg    \n",
            "  inflating: ./graf/paper/298.jpg    \n",
            "  inflating: ./graf/paper/299.jpg    \n",
            "  inflating: ./graf/paper/300.jpg    \n",
            "  inflating: ./graf/paper/301.jpg    \n",
            "  inflating: ./graf/paper/302.jpg    \n",
            "  inflating: ./graf/paper/303.jpg    \n",
            "  inflating: ./graf/paper/304.jpg    \n",
            "  inflating: ./graf/paper/305.jpg    \n",
            "  inflating: ./graf/paper/306.jpg    \n",
            "  inflating: ./graf/paper/307.jpg    \n",
            "  inflating: ./graf/paper/308.jpg    \n",
            "  inflating: ./graf/paper/309.jpg    \n",
            "  inflating: ./graf/paper/310.jpg    \n",
            "  inflating: ./graf/paper/311.jpg    \n",
            "  inflating: ./graf/paper/312.jpg    \n",
            "  inflating: ./graf/paper/313.jpg    \n",
            "  inflating: ./graf/paper/314.jpg    \n",
            "  inflating: ./graf/paper/315.jpg    \n",
            "  inflating: ./graf/paper/316.jpg    \n",
            "  inflating: ./graf/paper/317.jpg    \n",
            "  inflating: ./graf/paper/318.jpg    \n",
            "  inflating: ./graf/paper/319.jpg    \n",
            "  inflating: ./graf/paper/320.jpg    \n",
            "  inflating: ./graf/paper/321.jpg    \n",
            "  inflating: ./graf/paper/322.jpg    \n",
            "  inflating: ./graf/paper/323.jpg    \n",
            "  inflating: ./graf/paper/324.jpg    \n",
            "  inflating: ./graf/paper/325.jpg    \n",
            "  inflating: ./graf/paper/326.jpg    \n",
            "  inflating: ./graf/paper/327.jpg    \n",
            "  inflating: ./graf/paper/328.jpg    \n",
            "  inflating: ./graf/paper/329.jpg    \n",
            "  inflating: ./graf/paper/330.jpg    \n",
            "  inflating: ./graf/paper/331.jpg    \n",
            "  inflating: ./graf/paper/332.jpg    \n",
            "  inflating: ./graf/paper/333.jpg    \n",
            "  inflating: ./graf/paper/334.jpg    \n",
            "  inflating: ./graf/paper/335.jpg    \n",
            "  inflating: ./graf/paper/336.jpg    \n",
            "  inflating: ./graf/paper/337.jpg    \n",
            "  inflating: ./graf/paper/338.jpg    \n",
            "  inflating: ./graf/paper/339.jpg    \n",
            "  inflating: ./graf/paper/340.jpg    \n",
            "  inflating: ./graf/paper/341.jpg    \n",
            "  inflating: ./graf/paper/342.jpg    \n",
            "  inflating: ./graf/paper/343.jpg    \n",
            "  inflating: ./graf/paper/344.jpg    \n",
            "  inflating: ./graf/paper/345.jpg    \n",
            "  inflating: ./graf/paper/346.jpg    \n",
            "  inflating: ./graf/paper/347.jpg    \n",
            "  inflating: ./graf/paper/348.jpg    \n",
            "  inflating: ./graf/paper/349.jpg    \n",
            "  inflating: ./graf/paper/350.jpg    \n",
            "  inflating: ./graf/paper/351.jpg    \n",
            "  inflating: ./graf/paper/352.jpg    \n",
            "  inflating: ./graf/paper/353.jpg    \n",
            "  inflating: ./graf/paper/354.jpg    \n",
            "  inflating: ./graf/paper/355.jpg    \n",
            "  inflating: ./graf/paper/356.jpg    \n",
            "  inflating: ./graf/paper/357.jpg    \n",
            "  inflating: ./graf/paper/358.jpg    \n",
            "  inflating: ./graf/paper/359.jpg    \n",
            "  inflating: ./graf/paper/360.jpg    \n",
            "  inflating: ./graf/paper/361.jpg    \n",
            "  inflating: ./graf/paper/362.jpg    \n",
            "  inflating: ./graf/paper/363.jpg    \n",
            "  inflating: ./graf/paper/364.jpg    \n",
            "  inflating: ./graf/paper/365.jpg    \n",
            "  inflating: ./graf/paper/366.jpg    \n",
            "  inflating: ./graf/paper/367.jpg    \n",
            "  inflating: ./graf/paper/368.jpg    \n",
            "  inflating: ./graf/paper/369.jpg    \n",
            "  inflating: ./graf/paper/370.jpg    \n",
            "  inflating: ./graf/paper/371.jpg    \n",
            "  inflating: ./graf/paper/372.jpg    \n",
            "  inflating: ./graf/paper/373.jpg    \n",
            "  inflating: ./graf/paper/374.jpg    \n",
            "  inflating: ./graf/paper/375.jpg    \n",
            "  inflating: ./graf/paper/376.jpg    \n",
            "  inflating: ./graf/paper/377.jpg    \n",
            "  inflating: ./graf/paper/378.jpg    \n",
            "  inflating: ./graf/paper/379.jpg    \n",
            "  inflating: ./graf/paper/380.jpg    \n",
            "  inflating: ./graf/paper/381.jpg    \n",
            "  inflating: ./graf/paper/382.jpg    \n",
            "  inflating: ./graf/paper/383.jpg    \n",
            "  inflating: ./graf/paper/384.jpg    \n",
            "  inflating: ./graf/paper/385.jpg    \n",
            "  inflating: ./graf/paper/386.jpg    \n",
            "  inflating: ./graf/paper/387.jpg    \n",
            "  inflating: ./graf/paper/388.jpg    \n",
            "  inflating: ./graf/paper/389.jpg    \n",
            "  inflating: ./graf/paper/390.jpg    \n",
            "  inflating: ./graf/paper/391.jpg    \n",
            "  inflating: ./graf/paper/392.jpg    \n",
            "  inflating: ./graf/paper/393.jpg    \n",
            "  inflating: ./graf/paper/394.jpg    \n",
            "  inflating: ./graf/paper/395.jpg    \n",
            "  inflating: ./graf/paper/396.jpg    \n",
            "  inflating: ./graf/paper/397.jpg    \n",
            "  inflating: ./graf/paper/398.jpg    \n",
            "  inflating: ./graf/paper/399.jpg    \n",
            "  inflating: ./graf/paper/400.jpg    \n",
            "  inflating: ./graf/paper/401.jpg    \n",
            "  inflating: ./graf/paper/402.jpg    \n",
            "  inflating: ./graf/paper/403.jpg    \n",
            "  inflating: ./graf/paper/404.jpg    \n",
            "  inflating: ./graf/paper/405.jpg    \n",
            "  inflating: ./graf/paper/406.jpg    \n",
            "  inflating: ./graf/paper/407.jpg    \n",
            "  inflating: ./graf/paper/408.jpg    \n",
            "  inflating: ./graf/paper/409.jpg    \n",
            "  inflating: ./graf/paper/410.jpg    \n",
            "  inflating: ./graf/paper/411.jpg    \n",
            "  inflating: ./graf/paper/412.jpg    \n",
            "  inflating: ./graf/paper/413.jpg    \n",
            "  inflating: ./graf/paper/414.jpg    \n",
            "  inflating: ./graf/paper/415.jpg    \n",
            "  inflating: ./graf/paper/416.jpg    \n",
            "  inflating: ./graf/paper/417.jpg    \n",
            "  inflating: ./graf/paper/418.jpg    \n",
            "  inflating: ./graf/paper/419.jpg    \n",
            "  inflating: ./graf/paper/420.jpg    \n",
            "  inflating: ./graf/paper/421.jpg    \n",
            "  inflating: ./graf/paper/422.jpg    \n",
            "  inflating: ./graf/paper/423.jpg    \n",
            "  inflating: ./graf/paper/424.jpg    \n",
            "  inflating: ./graf/paper/425.jpg    \n",
            "  inflating: ./graf/paper/426.jpg    \n",
            "  inflating: ./graf/paper/427.jpg    \n",
            "  inflating: ./graf/paper/428.jpg    \n",
            "  inflating: ./graf/paper/429.jpg    \n",
            "  inflating: ./graf/paper/430.jpg    \n",
            "  inflating: ./graf/paper/431.jpg    \n",
            "  inflating: ./graf/paper/432.jpg    \n",
            "  inflating: ./graf/paper/433.jpg    \n",
            "  inflating: ./graf/paper/434.jpg    \n",
            "  inflating: ./graf/paper/435.jpg    \n",
            "  inflating: ./graf/paper/436.jpg    \n",
            "  inflating: ./graf/paper/437.jpg    \n",
            "  inflating: ./graf/paper/438.jpg    \n",
            "  inflating: ./graf/paper/439.jpg    \n",
            "  inflating: ./graf/paper/440.jpg    \n",
            "  inflating: ./graf/paper/441.jpg    \n",
            "  inflating: ./graf/paper/442.jpg    \n",
            "  inflating: ./graf/paper/443.jpg    \n",
            "  inflating: ./graf/paper/444.jpg    \n",
            "  inflating: ./graf/paper/445.jpg    \n",
            "  inflating: ./graf/paper/446.jpg    \n",
            "  inflating: ./graf/paper/447.jpg    \n",
            "  inflating: ./graf/paper/448.jpg    \n",
            "  inflating: ./graf/paper/449.jpg    \n",
            "  inflating: ./graf/paper/450.jpg    \n",
            "  inflating: ./graf/paper/451.jpg    \n",
            "  inflating: ./graf/paper/452.jpg    \n",
            "  inflating: ./graf/paper/453.jpg    \n",
            "  inflating: ./graf/paper/454.jpg    \n",
            "  inflating: ./graf/paper/455.jpg    \n",
            "  inflating: ./graf/paper/456.jpg    \n",
            "  inflating: ./graf/paper/457.jpg    \n",
            "  inflating: ./graf/paper/458.jpg    \n",
            "  inflating: ./graf/paper/459.jpg    \n",
            "  inflating: ./graf/paper/460.jpg    \n",
            "  inflating: ./graf/paper/461.jpg    \n",
            "  inflating: ./graf/paper/462.jpg    \n",
            "  inflating: ./graf/paper/463.jpg    \n",
            "  inflating: ./graf/paper/464.jpg    \n",
            "  inflating: ./graf/paper/465.jpg    \n",
            "  inflating: ./graf/paper/466.jpg    \n",
            "  inflating: ./graf/paper/467.jpg    \n",
            "  inflating: ./graf/paper/468.jpg    \n",
            "  inflating: ./graf/paper/469.jpg    \n",
            "  inflating: ./graf/paper/470.jpg    \n",
            "  inflating: ./graf/paper/471.jpg    \n",
            "  inflating: ./graf/paper/472.jpg    \n",
            "  inflating: ./graf/paper/473.jpg    \n",
            "  inflating: ./graf/paper/474.jpg    \n",
            "  inflating: ./graf/paper/475.jpg    \n",
            "mkdir: cannot create directory ‘graf’: File exists\n",
            "rm: cannot remove './graf/plastic/*': No such file or directory\n",
            "--2021-11-13 11:03:08--  https://github.com/sipocz/Garbage_Classification/raw/da6122a92fa291b0c80bd290dae6b339a6c8dfda/plastic.zip\n",
            "Resolving github.com (github.com)... 140.82.113.3\n",
            "Connecting to github.com (github.com)|140.82.113.3|:443... connected.\n",
            "HTTP request sent, awaiting response... 302 Found\n",
            "Location: https://raw.githubusercontent.com/sipocz/Garbage_Classification/da6122a92fa291b0c80bd290dae6b339a6c8dfda/plastic.zip [following]\n",
            "--2021-11-13 11:03:08--  https://raw.githubusercontent.com/sipocz/Garbage_Classification/da6122a92fa291b0c80bd290dae6b339a6c8dfda/plastic.zip\n",
            "Resolving raw.githubusercontent.com (raw.githubusercontent.com)... 185.199.108.133, 185.199.109.133, 185.199.110.133, ...\n",
            "Connecting to raw.githubusercontent.com (raw.githubusercontent.com)|185.199.108.133|:443... connected.\n",
            "HTTP request sent, awaiting response... 200 OK\n",
            "Length: 5472662 (5.2M) [application/zip]\n",
            "Saving to: ‘plastic.zip’\n",
            "\n",
            "plastic.zip         100%[===================>]   5.22M  --.-KB/s    in 0.08s   \n",
            "\n",
            "2021-11-13 11:03:08 (66.8 MB/s) - ‘plastic.zip’ saved [5472662/5472662]\n",
            "\n",
            "dirname: ./graf/plastic\n",
            "Archive:  ./graf/plastic/plastic.zip\n",
            "  inflating: ./graf/plastic/000.jpg  \n",
            "  inflating: ./graf/plastic/001.jpg  \n",
            "  inflating: ./graf/plastic/002.jpg  \n",
            "  inflating: ./graf/plastic/003.jpg  \n",
            "  inflating: ./graf/plastic/004.jpg  \n",
            "  inflating: ./graf/plastic/005.jpg  \n",
            "  inflating: ./graf/plastic/006.jpg  \n",
            "  inflating: ./graf/plastic/007.jpg  \n",
            "  inflating: ./graf/plastic/008.jpg  \n",
            "  inflating: ./graf/plastic/009.jpg  \n",
            "  inflating: ./graf/plastic/010.jpg  \n",
            "  inflating: ./graf/plastic/011.jpg  \n",
            "  inflating: ./graf/plastic/012.jpg  \n",
            "  inflating: ./graf/plastic/013.jpg  \n",
            "  inflating: ./graf/plastic/014.jpg  \n",
            "  inflating: ./graf/plastic/015.jpg  \n",
            "  inflating: ./graf/plastic/016.jpg  \n",
            "  inflating: ./graf/plastic/017.jpg  \n",
            "  inflating: ./graf/plastic/018.jpg  \n",
            "  inflating: ./graf/plastic/019.jpg  \n",
            "  inflating: ./graf/plastic/020.jpg  \n",
            "  inflating: ./graf/plastic/021.jpg  \n",
            "  inflating: ./graf/plastic/022.jpg  \n",
            "  inflating: ./graf/plastic/023.jpg  \n",
            "  inflating: ./graf/plastic/024.jpg  \n",
            "  inflating: ./graf/plastic/025.jpg  \n",
            "  inflating: ./graf/plastic/026.jpg  \n",
            "  inflating: ./graf/plastic/027.jpg  \n",
            "  inflating: ./graf/plastic/028.jpg  \n",
            "  inflating: ./graf/plastic/029.jpg  \n",
            "  inflating: ./graf/plastic/030.jpg  \n",
            "  inflating: ./graf/plastic/031.jpg  \n",
            "  inflating: ./graf/plastic/032.jpg  \n",
            "  inflating: ./graf/plastic/033.jpg  \n",
            "  inflating: ./graf/plastic/034.jpg  \n",
            "  inflating: ./graf/plastic/035.jpg  \n",
            "  inflating: ./graf/plastic/036.jpg  \n",
            "  inflating: ./graf/plastic/037.jpg  \n",
            "  inflating: ./graf/plastic/038.jpg  \n",
            "  inflating: ./graf/plastic/039.jpg  \n",
            "  inflating: ./graf/plastic/040.jpg  \n",
            "  inflating: ./graf/plastic/041.jpg  \n",
            "  inflating: ./graf/plastic/042.jpg  \n",
            "  inflating: ./graf/plastic/043.jpg  \n",
            "  inflating: ./graf/plastic/044.jpg  \n",
            "  inflating: ./graf/plastic/045.jpg  \n",
            "  inflating: ./graf/plastic/046.jpg  \n",
            "  inflating: ./graf/plastic/047.jpg  \n",
            "  inflating: ./graf/plastic/048.jpg  \n",
            "  inflating: ./graf/plastic/049.jpg  \n",
            "  inflating: ./graf/plastic/050.jpg  \n",
            "  inflating: ./graf/plastic/051.jpg  \n",
            "  inflating: ./graf/plastic/052.jpg  \n",
            "  inflating: ./graf/plastic/053.jpg  \n",
            "  inflating: ./graf/plastic/054.jpg  \n",
            "  inflating: ./graf/plastic/055.jpg  \n",
            "  inflating: ./graf/plastic/056.jpg  \n",
            "  inflating: ./graf/plastic/057.jpg  \n",
            "  inflating: ./graf/plastic/058.jpg  \n",
            "  inflating: ./graf/plastic/059.jpg  \n",
            "  inflating: ./graf/plastic/060.jpg  \n",
            "  inflating: ./graf/plastic/061.jpg  \n",
            "  inflating: ./graf/plastic/062.jpg  \n",
            "  inflating: ./graf/plastic/063.jpg  \n",
            "  inflating: ./graf/plastic/064.jpg  \n",
            "  inflating: ./graf/plastic/065.jpg  \n",
            "  inflating: ./graf/plastic/066.jpg  \n",
            "  inflating: ./graf/plastic/067.jpg  \n",
            "  inflating: ./graf/plastic/068.jpg  \n",
            "  inflating: ./graf/plastic/069.jpg  \n",
            "  inflating: ./graf/plastic/070.jpg  \n",
            "  inflating: ./graf/plastic/071.jpg  \n",
            "  inflating: ./graf/plastic/072.jpg  \n",
            "  inflating: ./graf/plastic/073.jpg  \n",
            "  inflating: ./graf/plastic/074.jpg  \n",
            "  inflating: ./graf/plastic/075.jpg  \n",
            "  inflating: ./graf/plastic/076.jpg  \n",
            "  inflating: ./graf/plastic/077.jpg  \n",
            "  inflating: ./graf/plastic/078.jpg  \n",
            "  inflating: ./graf/plastic/079.jpg  \n",
            "  inflating: ./graf/plastic/080.jpg  \n",
            "  inflating: ./graf/plastic/081.jpg  \n",
            "  inflating: ./graf/plastic/082.jpg  \n",
            "  inflating: ./graf/plastic/083.jpg  \n",
            "  inflating: ./graf/plastic/084.jpg  \n",
            "  inflating: ./graf/plastic/085.jpg  \n",
            "  inflating: ./graf/plastic/086.jpg  \n",
            "  inflating: ./graf/plastic/087.jpg  \n",
            "  inflating: ./graf/plastic/088.jpg  \n",
            "  inflating: ./graf/plastic/089.jpg  \n",
            "  inflating: ./graf/plastic/090.jpg  \n",
            "  inflating: ./graf/plastic/091.jpg  \n",
            "  inflating: ./graf/plastic/092.jpg  \n",
            "  inflating: ./graf/plastic/093.jpg  \n",
            "  inflating: ./graf/plastic/094.jpg  \n",
            "  inflating: ./graf/plastic/095.jpg  \n",
            "  inflating: ./graf/plastic/096.jpg  \n",
            "  inflating: ./graf/plastic/097.jpg  \n",
            "  inflating: ./graf/plastic/098.jpg  \n",
            "  inflating: ./graf/plastic/099.jpg  \n",
            "  inflating: ./graf/plastic/100.jpg  \n",
            "  inflating: ./graf/plastic/101.jpg  \n",
            "  inflating: ./graf/plastic/102.jpg  \n",
            "  inflating: ./graf/plastic/103.jpg  \n",
            "  inflating: ./graf/plastic/104.jpg  \n",
            "  inflating: ./graf/plastic/105.jpg  \n",
            "  inflating: ./graf/plastic/106.jpg  \n",
            "  inflating: ./graf/plastic/107.jpg  \n",
            "  inflating: ./graf/plastic/108.jpg  \n",
            "  inflating: ./graf/plastic/109.jpg  \n",
            "  inflating: ./graf/plastic/110.jpg  \n",
            "  inflating: ./graf/plastic/111.jpg  \n",
            "  inflating: ./graf/plastic/112.jpg  \n",
            "  inflating: ./graf/plastic/113.jpg  \n",
            "  inflating: ./graf/plastic/114.jpg  \n",
            "  inflating: ./graf/plastic/115.jpg  \n",
            "  inflating: ./graf/plastic/116.jpg  \n",
            "  inflating: ./graf/plastic/117.jpg  \n",
            "  inflating: ./graf/plastic/118.jpg  \n",
            "  inflating: ./graf/plastic/119.jpg  \n",
            "  inflating: ./graf/plastic/120.jpg  \n",
            "  inflating: ./graf/plastic/121.jpg  \n",
            "  inflating: ./graf/plastic/122.jpg  \n",
            "  inflating: ./graf/plastic/123.jpg  \n",
            "  inflating: ./graf/plastic/124.jpg  \n",
            "  inflating: ./graf/plastic/125.jpg  \n",
            "  inflating: ./graf/plastic/126.jpg  \n",
            "  inflating: ./graf/plastic/127.jpg  \n",
            "  inflating: ./graf/plastic/128.jpg  \n",
            "  inflating: ./graf/plastic/129.jpg  \n",
            "  inflating: ./graf/plastic/130.jpg  \n",
            "  inflating: ./graf/plastic/131.jpg  \n",
            "  inflating: ./graf/plastic/132.jpg  \n",
            "  inflating: ./graf/plastic/133.jpg  \n",
            "  inflating: ./graf/plastic/134.jpg  \n",
            "  inflating: ./graf/plastic/135.jpg  \n",
            "  inflating: ./graf/plastic/136.jpg  \n",
            "  inflating: ./graf/plastic/137.jpg  \n",
            "  inflating: ./graf/plastic/138.jpg  \n",
            "  inflating: ./graf/plastic/139.jpg  \n",
            "  inflating: ./graf/plastic/140.jpg  \n",
            "  inflating: ./graf/plastic/141.jpg  \n",
            "  inflating: ./graf/plastic/142.jpg  \n",
            "  inflating: ./graf/plastic/143.jpg  \n",
            "  inflating: ./graf/plastic/144.jpg  \n",
            "  inflating: ./graf/plastic/145.jpg  \n",
            "  inflating: ./graf/plastic/146.jpg  \n",
            "  inflating: ./graf/plastic/147.jpg  \n",
            "  inflating: ./graf/plastic/148.jpg  \n",
            "  inflating: ./graf/plastic/149.jpg  \n",
            "  inflating: ./graf/plastic/150.jpg  \n",
            "  inflating: ./graf/plastic/151.jpg  \n",
            "  inflating: ./graf/plastic/152.jpg  \n",
            "  inflating: ./graf/plastic/153.jpg  \n",
            "  inflating: ./graf/plastic/154.jpg  \n",
            "  inflating: ./graf/plastic/155.jpg  \n",
            "  inflating: ./graf/plastic/156.jpg  \n",
            "  inflating: ./graf/plastic/157.jpg  \n",
            "  inflating: ./graf/plastic/158.jpg  \n",
            "  inflating: ./graf/plastic/159.jpg  \n",
            "  inflating: ./graf/plastic/160.jpg  \n",
            "  inflating: ./graf/plastic/161.jpg  \n",
            "  inflating: ./graf/plastic/162.jpg  \n",
            "  inflating: ./graf/plastic/163.jpg  \n",
            "  inflating: ./graf/plastic/164.jpg  \n",
            "  inflating: ./graf/plastic/165.jpg  \n",
            "  inflating: ./graf/plastic/166.jpg  \n",
            "  inflating: ./graf/plastic/167.jpg  \n",
            "  inflating: ./graf/plastic/168.jpg  \n",
            "  inflating: ./graf/plastic/169.jpg  \n",
            "  inflating: ./graf/plastic/170.jpg  \n",
            "  inflating: ./graf/plastic/171.jpg  \n",
            "  inflating: ./graf/plastic/172.jpg  \n",
            "  inflating: ./graf/plastic/173.jpg  \n",
            "  inflating: ./graf/plastic/174.jpg  \n",
            "  inflating: ./graf/plastic/175.jpg  \n",
            "  inflating: ./graf/plastic/176.jpg  \n",
            "  inflating: ./graf/plastic/177.jpg  \n",
            "  inflating: ./graf/plastic/178.jpg  \n",
            "  inflating: ./graf/plastic/179.jpg  \n",
            "  inflating: ./graf/plastic/180.jpg  \n",
            "  inflating: ./graf/plastic/181.jpg  \n",
            "  inflating: ./graf/plastic/182.jpg  \n",
            "  inflating: ./graf/plastic/183.jpg  \n",
            "  inflating: ./graf/plastic/184.jpg  \n",
            "  inflating: ./graf/plastic/185.jpg  \n",
            "  inflating: ./graf/plastic/186.jpg  \n",
            "  inflating: ./graf/plastic/187.jpg  \n",
            "  inflating: ./graf/plastic/188.jpg  \n",
            "  inflating: ./graf/plastic/189.jpg  \n",
            "  inflating: ./graf/plastic/190.jpg  \n",
            "  inflating: ./graf/plastic/191.jpg  \n",
            "  inflating: ./graf/plastic/192.jpg  \n",
            "  inflating: ./graf/plastic/193.jpg  \n",
            "  inflating: ./graf/plastic/194.jpg  \n",
            "  inflating: ./graf/plastic/195.jpg  \n",
            "  inflating: ./graf/plastic/196.jpg  \n",
            "  inflating: ./graf/plastic/197.jpg  \n",
            "  inflating: ./graf/plastic/198.jpg  \n",
            "  inflating: ./graf/plastic/199.jpg  \n",
            "  inflating: ./graf/plastic/200.jpg  \n",
            "  inflating: ./graf/plastic/201.jpg  \n",
            "  inflating: ./graf/plastic/202.jpg  \n",
            "  inflating: ./graf/plastic/203.jpg  \n",
            "  inflating: ./graf/plastic/204.jpg  \n",
            "  inflating: ./graf/plastic/205.jpg  \n",
            "  inflating: ./graf/plastic/206.jpg  \n",
            "  inflating: ./graf/plastic/207.jpg  \n",
            "  inflating: ./graf/plastic/208.jpg  \n",
            "  inflating: ./graf/plastic/209.jpg  \n",
            "  inflating: ./graf/plastic/210.jpg  \n",
            "  inflating: ./graf/plastic/211.jpg  \n",
            "  inflating: ./graf/plastic/212.jpg  \n",
            "  inflating: ./graf/plastic/213.jpg  \n",
            "  inflating: ./graf/plastic/214.jpg  \n",
            "  inflating: ./graf/plastic/215.jpg  \n",
            "  inflating: ./graf/plastic/216.jpg  \n",
            "  inflating: ./graf/plastic/217.jpg  \n",
            "  inflating: ./graf/plastic/218.jpg  \n",
            "  inflating: ./graf/plastic/219.jpg  \n",
            "  inflating: ./graf/plastic/220.jpg  \n",
            "  inflating: ./graf/plastic/221.jpg  \n",
            "  inflating: ./graf/plastic/222.jpg  \n",
            "  inflating: ./graf/plastic/223.jpg  \n",
            "  inflating: ./graf/plastic/224.jpg  \n",
            "  inflating: ./graf/plastic/225.jpg  \n",
            "  inflating: ./graf/plastic/226.jpg  \n",
            "  inflating: ./graf/plastic/227.jpg  \n",
            "  inflating: ./graf/plastic/228.jpg  \n",
            "  inflating: ./graf/plastic/229.jpg  \n",
            "  inflating: ./graf/plastic/230.jpg  \n",
            "  inflating: ./graf/plastic/231.jpg  \n",
            "  inflating: ./graf/plastic/232.jpg  \n",
            "  inflating: ./graf/plastic/233.jpg  \n",
            "  inflating: ./graf/plastic/234.jpg  \n",
            "  inflating: ./graf/plastic/235.jpg  \n",
            "  inflating: ./graf/plastic/236.jpg  \n",
            "  inflating: ./graf/plastic/237.jpg  \n",
            "  inflating: ./graf/plastic/238.jpg  \n",
            "  inflating: ./graf/plastic/239.jpg  \n",
            "  inflating: ./graf/plastic/240.jpg  \n",
            "  inflating: ./graf/plastic/241.jpg  \n",
            "  inflating: ./graf/plastic/242.jpg  \n",
            "  inflating: ./graf/plastic/243.jpg  \n",
            "  inflating: ./graf/plastic/244.jpg  \n",
            "  inflating: ./graf/plastic/245.jpg  \n",
            "  inflating: ./graf/plastic/246.jpg  \n",
            "  inflating: ./graf/plastic/247.jpg  \n",
            "  inflating: ./graf/plastic/248.jpg  \n",
            "  inflating: ./graf/plastic/249.jpg  \n",
            "  inflating: ./graf/plastic/250.jpg  \n",
            "  inflating: ./graf/plastic/251.jpg  \n",
            "  inflating: ./graf/plastic/252.jpg  \n",
            "  inflating: ./graf/plastic/253.jpg  \n",
            "  inflating: ./graf/plastic/254.jpg  \n",
            "  inflating: ./graf/plastic/255.jpg  \n",
            "  inflating: ./graf/plastic/256.jpg  \n",
            "  inflating: ./graf/plastic/257.jpg  \n",
            "  inflating: ./graf/plastic/258.jpg  \n",
            "  inflating: ./graf/plastic/259.jpg  \n",
            "  inflating: ./graf/plastic/260.jpg  \n",
            "  inflating: ./graf/plastic/261.jpg  \n",
            "  inflating: ./graf/plastic/262.jpg  \n",
            "  inflating: ./graf/plastic/263.jpg  \n",
            "  inflating: ./graf/plastic/264.jpg  \n",
            "  inflating: ./graf/plastic/265.jpg  \n",
            "  inflating: ./graf/plastic/266.jpg  \n",
            "  inflating: ./graf/plastic/267.jpg  \n",
            "  inflating: ./graf/plastic/268.jpg  \n",
            "  inflating: ./graf/plastic/269.jpg  \n",
            "  inflating: ./graf/plastic/270.jpg  \n",
            "  inflating: ./graf/plastic/271.jpg  \n",
            "  inflating: ./graf/plastic/272.jpg  \n",
            "  inflating: ./graf/plastic/273.jpg  \n",
            "  inflating: ./graf/plastic/274.jpg  \n",
            "  inflating: ./graf/plastic/275.jpg  \n",
            "  inflating: ./graf/plastic/276.jpg  \n",
            "  inflating: ./graf/plastic/277.jpg  \n",
            "  inflating: ./graf/plastic/278.jpg  \n",
            "  inflating: ./graf/plastic/279.jpg  \n",
            "  inflating: ./graf/plastic/280.jpg  \n",
            "  inflating: ./graf/plastic/281.jpg  \n",
            "  inflating: ./graf/plastic/282.jpg  \n",
            "  inflating: ./graf/plastic/283.jpg  \n",
            "  inflating: ./graf/plastic/284.jpg  \n",
            "  inflating: ./graf/plastic/285.jpg  \n",
            "  inflating: ./graf/plastic/286.jpg  \n",
            "  inflating: ./graf/plastic/287.jpg  \n",
            "  inflating: ./graf/plastic/288.jpg  \n",
            "  inflating: ./graf/plastic/289.jpg  \n",
            "  inflating: ./graf/plastic/290.jpg  \n",
            "  inflating: ./graf/plastic/291.jpg  \n",
            "  inflating: ./graf/plastic/292.jpg  \n",
            "  inflating: ./graf/plastic/293.jpg  \n",
            "  inflating: ./graf/plastic/294.jpg  \n",
            "  inflating: ./graf/plastic/295.jpg  \n",
            "  inflating: ./graf/plastic/296.jpg  \n",
            "  inflating: ./graf/plastic/297.jpg  \n",
            "  inflating: ./graf/plastic/298.jpg  \n",
            "  inflating: ./graf/plastic/299.jpg  \n",
            "  inflating: ./graf/plastic/300.jpg  \n",
            "  inflating: ./graf/plastic/301.jpg  \n",
            "  inflating: ./graf/plastic/302.jpg  \n",
            "  inflating: ./graf/plastic/303.jpg  \n",
            "  inflating: ./graf/plastic/304.jpg  \n",
            "  inflating: ./graf/plastic/305.jpg  \n",
            "  inflating: ./graf/plastic/306.jpg  \n",
            "  inflating: ./graf/plastic/307.jpg  \n",
            "  inflating: ./graf/plastic/308.jpg  \n",
            "  inflating: ./graf/plastic/309.jpg  \n",
            "  inflating: ./graf/plastic/310.jpg  \n",
            "  inflating: ./graf/plastic/311.jpg  \n",
            "  inflating: ./graf/plastic/312.jpg  \n",
            "  inflating: ./graf/plastic/313.jpg  \n",
            "  inflating: ./graf/plastic/314.jpg  \n",
            "  inflating: ./graf/plastic/315.jpg  \n",
            "  inflating: ./graf/plastic/316.jpg  \n",
            "  inflating: ./graf/plastic/317.jpg  \n",
            "  inflating: ./graf/plastic/318.jpg  \n",
            "  inflating: ./graf/plastic/319.jpg  \n",
            "  inflating: ./graf/plastic/320.jpg  \n",
            "  inflating: ./graf/plastic/321.jpg  \n",
            "  inflating: ./graf/plastic/322.jpg  \n",
            "  inflating: ./graf/plastic/323.jpg  \n",
            "  inflating: ./graf/plastic/324.jpg  \n",
            "  inflating: ./graf/plastic/325.jpg  \n",
            "  inflating: ./graf/plastic/326.jpg  \n",
            "  inflating: ./graf/plastic/327.jpg  \n",
            "  inflating: ./graf/plastic/328.jpg  \n",
            "  inflating: ./graf/plastic/329.jpg  \n",
            "  inflating: ./graf/plastic/330.jpg  \n",
            "  inflating: ./graf/plastic/331.jpg  \n",
            "  inflating: ./graf/plastic/332.jpg  \n",
            "  inflating: ./graf/plastic/333.jpg  \n",
            "  inflating: ./graf/plastic/334.jpg  \n",
            "  inflating: ./graf/plastic/335.jpg  \n",
            "  inflating: ./graf/plastic/336.jpg  \n",
            "  inflating: ./graf/plastic/337.jpg  \n",
            "  inflating: ./graf/plastic/338.jpg  \n",
            "  inflating: ./graf/plastic/339.jpg  \n",
            "  inflating: ./graf/plastic/340.jpg  \n",
            "  inflating: ./graf/plastic/341.jpg  \n",
            "  inflating: ./graf/plastic/342.jpg  \n",
            "  inflating: ./graf/plastic/343.jpg  \n",
            "  inflating: ./graf/plastic/344.jpg  \n",
            "  inflating: ./graf/plastic/345.jpg  \n",
            "  inflating: ./graf/plastic/346.jpg  \n",
            "  inflating: ./graf/plastic/347.jpg  \n",
            "  inflating: ./graf/plastic/348.jpg  \n",
            "  inflating: ./graf/plastic/349.jpg  \n",
            "  inflating: ./graf/plastic/350.jpg  \n",
            "  inflating: ./graf/plastic/351.jpg  \n",
            "  inflating: ./graf/plastic/352.jpg  \n",
            "  inflating: ./graf/plastic/353.jpg  \n",
            "  inflating: ./graf/plastic/354.jpg  \n",
            "  inflating: ./graf/plastic/355.jpg  \n",
            "  inflating: ./graf/plastic/356.jpg  \n",
            "  inflating: ./graf/plastic/357.jpg  \n",
            "  inflating: ./graf/plastic/358.jpg  \n",
            "  inflating: ./graf/plastic/359.jpg  \n",
            "  inflating: ./graf/plastic/360.jpg  \n",
            "  inflating: ./graf/plastic/361.jpg  \n",
            "  inflating: ./graf/plastic/362.jpg  \n",
            "  inflating: ./graf/plastic/363.jpg  \n",
            "  inflating: ./graf/plastic/364.jpg  \n",
            "  inflating: ./graf/plastic/365.jpg  \n",
            "  inflating: ./graf/plastic/366.jpg  \n",
            "  inflating: ./graf/plastic/367.jpg  \n",
            "  inflating: ./graf/plastic/368.jpg  \n",
            "  inflating: ./graf/plastic/369.jpg  \n",
            "  inflating: ./graf/plastic/370.jpg  \n",
            "  inflating: ./graf/plastic/371.jpg  \n",
            "  inflating: ./graf/plastic/372.jpg  \n",
            "  inflating: ./graf/plastic/373.jpg  \n",
            "  inflating: ./graf/plastic/374.jpg  \n",
            "  inflating: ./graf/plastic/375.jpg  \n",
            "  inflating: ./graf/plastic/376.jpg  \n",
            "  inflating: ./graf/plastic/377.jpg  \n",
            "  inflating: ./graf/plastic/378.jpg  \n",
            "  inflating: ./graf/plastic/379.jpg  \n",
            "  inflating: ./graf/plastic/380.jpg  \n",
            "  inflating: ./graf/plastic/381.jpg  \n",
            "  inflating: ./graf/plastic/382.jpg  \n",
            "  inflating: ./graf/plastic/383.jpg  \n",
            "  inflating: ./graf/plastic/384.jpg  \n",
            "  inflating: ./graf/plastic/385.jpg  \n",
            "mkdir: cannot create directory ‘graf’: File exists\n",
            "rm: cannot remove './graf/trash/*': No such file or directory\n",
            "--2021-11-13 11:03:09--  https://github.com/sipocz/Garbage_Classification/raw/zip/trash.zip\n",
            "Resolving github.com (github.com)... 140.82.113.4\n",
            "Connecting to github.com (github.com)|140.82.113.4|:443... connected.\n",
            "HTTP request sent, awaiting response... 302 Found\n",
            "Location: https://raw.githubusercontent.com/sipocz/Garbage_Classification/zip/trash.zip [following]\n",
            "--2021-11-13 11:03:09--  https://raw.githubusercontent.com/sipocz/Garbage_Classification/zip/trash.zip\n",
            "Resolving raw.githubusercontent.com (raw.githubusercontent.com)... 185.199.108.133, 185.199.109.133, 185.199.110.133, ...\n",
            "Connecting to raw.githubusercontent.com (raw.githubusercontent.com)|185.199.108.133|:443... connected.\n",
            "HTTP request sent, awaiting response... 200 OK\n",
            "Length: 1188377 (1.1M) [application/zip]\n",
            "Saving to: ‘trash.zip’\n",
            "\n",
            "trash.zip           100%[===================>]   1.13M  --.-KB/s    in 0.05s   \n",
            "\n",
            "2021-11-13 11:03:10 (21.7 MB/s) - ‘trash.zip’ saved [1188377/1188377]\n",
            "\n",
            "dirname: ./graf/trash\n",
            "Archive:  ./graf/trash/trash.zip\n",
            "  inflating: ./graf/trash/000.jpg    \n",
            "  inflating: ./graf/trash/001.jpg    \n",
            "  inflating: ./graf/trash/002.jpg    \n",
            "  inflating: ./graf/trash/003.jpg    \n",
            "  inflating: ./graf/trash/004.jpg    \n",
            "  inflating: ./graf/trash/005.jpg    \n",
            "  inflating: ./graf/trash/006.jpg    \n",
            "  inflating: ./graf/trash/007.jpg    \n",
            "  inflating: ./graf/trash/008.jpg    \n",
            "  inflating: ./graf/trash/009.jpg    \n",
            "  inflating: ./graf/trash/010.jpg    \n",
            "  inflating: ./graf/trash/011.jpg    \n",
            "  inflating: ./graf/trash/012.jpg    \n",
            "  inflating: ./graf/trash/013.jpg    \n",
            "  inflating: ./graf/trash/014.jpg    \n",
            "  inflating: ./graf/trash/015.jpg    \n",
            "  inflating: ./graf/trash/016.jpg    \n",
            "  inflating: ./graf/trash/017.jpg    \n",
            "  inflating: ./graf/trash/018.jpg    \n",
            "  inflating: ./graf/trash/019.jpg    \n",
            "  inflating: ./graf/trash/020.jpg    \n",
            "  inflating: ./graf/trash/021.jpg    \n",
            "  inflating: ./graf/trash/022.jpg    \n",
            "  inflating: ./graf/trash/023.jpg    \n",
            "  inflating: ./graf/trash/024.jpg    \n",
            "  inflating: ./graf/trash/025.jpg    \n",
            "  inflating: ./graf/trash/026.jpg    \n",
            "  inflating: ./graf/trash/027.jpg    \n",
            "  inflating: ./graf/trash/028.jpg    \n",
            "  inflating: ./graf/trash/029.jpg    \n",
            "  inflating: ./graf/trash/030.jpg    \n",
            "  inflating: ./graf/trash/031.jpg    \n",
            "  inflating: ./graf/trash/032.jpg    \n",
            "  inflating: ./graf/trash/033.jpg    \n",
            "  inflating: ./graf/trash/034.jpg    \n",
            "  inflating: ./graf/trash/035.jpg    \n",
            "  inflating: ./graf/trash/036.jpg    \n",
            "  inflating: ./graf/trash/037.jpg    \n",
            "  inflating: ./graf/trash/038.jpg    \n",
            "  inflating: ./graf/trash/039.jpg    \n",
            "  inflating: ./graf/trash/040.jpg    \n",
            "  inflating: ./graf/trash/041.jpg    \n",
            "  inflating: ./graf/trash/042.jpg    \n",
            "  inflating: ./graf/trash/043.jpg    \n",
            "  inflating: ./graf/trash/044.jpg    \n",
            "  inflating: ./graf/trash/045.jpg    \n",
            "  inflating: ./graf/trash/046.jpg    \n",
            "  inflating: ./graf/trash/047.jpg    \n",
            "  inflating: ./graf/trash/048.jpg    \n",
            "  inflating: ./graf/trash/049.jpg    \n",
            "  inflating: ./graf/trash/050.jpg    \n",
            "  inflating: ./graf/trash/051.jpg    \n",
            "  inflating: ./graf/trash/052.jpg    \n",
            "  inflating: ./graf/trash/053.jpg    \n",
            "  inflating: ./graf/trash/054.jpg    \n",
            "  inflating: ./graf/trash/055.jpg    \n",
            "  inflating: ./graf/trash/056.jpg    \n",
            "  inflating: ./graf/trash/057.jpg    \n",
            "  inflating: ./graf/trash/058.jpg    \n",
            "  inflating: ./graf/trash/059.jpg    \n",
            "  inflating: ./graf/trash/060.jpg    \n",
            "  inflating: ./graf/trash/061.jpg    \n",
            "  inflating: ./graf/trash/062.jpg    \n",
            "  inflating: ./graf/trash/063.jpg    \n",
            "  inflating: ./graf/trash/064.jpg    \n",
            "  inflating: ./graf/trash/065.jpg    \n",
            "  inflating: ./graf/trash/066.jpg    \n",
            "  inflating: ./graf/trash/067.jpg    \n",
            "  inflating: ./graf/trash/068.jpg    \n",
            "  inflating: ./graf/trash/069.jpg    \n",
            "  inflating: ./graf/trash/070.jpg    \n",
            "  inflating: ./graf/trash/071.jpg    \n",
            "  inflating: ./graf/trash/072.jpg    \n",
            "  inflating: ./graf/trash/073.jpg    \n",
            "  inflating: ./graf/trash/074.jpg    \n",
            "  inflating: ./graf/trash/075.jpg    \n",
            "  inflating: ./graf/trash/076.jpg    \n",
            "  inflating: ./graf/trash/077.jpg    \n",
            "  inflating: ./graf/trash/078.jpg    \n",
            "  inflating: ./graf/trash/079.jpg    \n",
            "  inflating: ./graf/trash/080.jpg    \n",
            "  inflating: ./graf/trash/081.jpg    \n",
            "  inflating: ./graf/trash/082.jpg    \n",
            "  inflating: ./graf/trash/083.jpg    \n",
            "  inflating: ./graf/trash/084.jpg    \n",
            "  inflating: ./graf/trash/085.jpg    \n",
            "  inflating: ./graf/trash/086.jpg    \n"
          ]
        }
      ]
    },
    {
      "cell_type": "code",
      "metadata": {
        "id": "jo-INSnfivc_"
      },
      "source": [
        ""
      ],
      "execution_count": 9,
      "outputs": []
    },
    {
      "cell_type": "code",
      "metadata": {
        "id": "xJQB5V4u9omC"
      },
      "source": [
        "def format_image(image_dir):\n",
        "    image = tf.read_file(image_dir)\n",
        "    image = tf.image.decode_jpeg(image, channels=3)\n",
        "    image = tf.image.convert_image_dtype(image, tf.float32)\n",
        "    image = tf.image.resize_image_with_pad(image, 256, 256, align_corners=True)\n",
        "    return image"
      ],
      "execution_count": 10,
      "outputs": []
    },
    {
      "cell_type": "code",
      "metadata": {
        "id": "r7FJbv7YXhib"
      },
      "source": [
        "imagedir=\"./graf\"\n",
        "img_width,img_height=512,384\n",
        "batch_size=5"
      ],
      "execution_count": 11,
      "outputs": []
    },
    {
      "cell_type": "code",
      "metadata": {
        "id": "2zaBqMx40yuZ"
      },
      "source": [
        "import pandas as pd\n"
      ],
      "execution_count": 12,
      "outputs": []
    },
    {
      "cell_type": "code",
      "metadata": {
        "id": "RPYK-0999krn"
      },
      "source": [
        "train_path='./graf'"
      ],
      "execution_count": 13,
      "outputs": []
    },
    {
      "cell_type": "code",
      "metadata": {
        "id": "V57BzsaT-ep2"
      },
      "source": [
        "test_path='./graf'"
      ],
      "execution_count": 14,
      "outputs": []
    },
    {
      "cell_type": "code",
      "metadata": {
        "id": "risKaeMQ_YuO"
      },
      "source": [
        "import tensorflow as tf\n",
        "import tensorflow.keras as keras\n",
        "from tensorflow.keras.callbacks import ModelCheckpoint\n",
        "from tensorflow.keras.layers import Conv2D, Flatten, MaxPooling2D,Dense,Dropout\n",
        "from tensorflow.keras.models  import Sequential\n",
        "from tensorflow.keras.preprocessing.image import ImageDataGenerator"
      ],
      "execution_count": 15,
      "outputs": []
    },
    {
      "cell_type": "code",
      "metadata": {
        "id": "KY-QbsiOVkX2",
        "colab": {
          "base_uri": "https://localhost:8080/"
        },
        "outputId": "1bf93374-eaea-4368-d0eb-7c54803854a4"
      },
      "source": [
        "#paths to the train, validation and test image datasets \n",
        "train_path = './graf'\n",
        "valid_path = './graf'\n",
        "\n",
        "\n",
        "# extract images to training set by applying data preprocessing and data augmentation\n",
        "train_batches = ImageDataGenerator(\n",
        "    preprocessing_function=tf.keras.applications.vgg16.preprocess_input,\n",
        "    shear_range=0.2,\n",
        "    zoom_range=0.2,\n",
        "    width_shift_range=0.2,\n",
        "    height_shift_range=0.2,\n",
        "    validation_split=0.2).flow_from_directory(\n",
        "    directory=train_path, target_size=(224,224), classes=['cardboard', 'glass', 'metal', \n",
        "                                                         'paper', 'plastic', 'trash'], batch_size=16, subset='training')\n",
        "\n",
        "\n",
        "# extract images to validation set\n",
        "valid_batches = ImageDataGenerator(\n",
        "    preprocessing_function=tf.keras.applications.vgg16.preprocess_input,\n",
        "    validation_split=0.2).flow_from_directory(\n",
        "    directory=valid_path, target_size=(224,224), classes=['cardboard', 'glass', 'metal', \n",
        "                                                         'paper', 'plastic', 'trash'], batch_size=1, subset='validation')\n"
      ],
      "execution_count": 16,
      "outputs": [
        {
          "output_type": "stream",
          "name": "stdout",
          "text": [
            "Found 1603 images belonging to 6 classes.\n",
            "Found 398 images belonging to 6 classes.\n"
          ]
        }
      ]
    },
    {
      "cell_type": "code",
      "metadata": {
        "id": "RCAs2bO3NrRW"
      },
      "source": [
        "import matplotlib.pyplot as plt\n",
        "def plot_imgs(item_dir, top=10):\n",
        "    all_item_dirs = os.listdir(item_dir)\n",
        "    item_files = [os.path.join(item_dir, file) for file in all_item_dirs][:5]\n",
        "  \n",
        "    plt.figure(figsize=(10, 10))\n",
        "  \n",
        "    for idx, img_path in enumerate(item_files):\n",
        "        plt.subplot(5, 5, idx+1)\n",
        "    \n",
        "        img = plt.imread(img_path)\n",
        "        plt.tight_layout()         \n",
        "        plt.imshow(img, cmap='gray') "
      ],
      "execution_count": 17,
      "outputs": []
    },
    {
      "cell_type": "code",
      "metadata": {
        "id": "cTU9pjD9udB9",
        "colab": {
          "base_uri": "https://localhost:8080/"
        },
        "outputId": "c539ad27-d725-48b7-f351-1791e0f812e1"
      },
      "source": [
        "import os\n",
        "print(os.listdir('./graf'))"
      ],
      "execution_count": 18,
      "outputs": [
        {
          "output_type": "stream",
          "name": "stdout",
          "text": [
            "['paper', 'glass', 'trash', 'metal', 'plastic', 'cardboard']\n"
          ]
        }
      ]
    },
    {
      "cell_type": "code",
      "metadata": {
        "id": "pQWIYkrv3rrY"
      },
      "source": [
        "data_path = './graf'"
      ],
      "execution_count": 19,
      "outputs": []
    },
    {
      "cell_type": "code",
      "metadata": {
        "colab": {
          "base_uri": "https://localhost:8080/",
          "height": 129
        },
        "id": "4m4xxVrs4lMi",
        "outputId": "4a3f7d81-923b-48df-d285-61107a9b114d"
      },
      "source": [
        "plot_imgs(data_path+'/cardboard')"
      ],
      "execution_count": 20,
      "outputs": [
        {
          "output_type": "display_data",
          "data": {
            "image/png": "[encoded data removed]",
            "text/plain": [
              "<Figure size 720x720 with 5 Axes>"
            ]
          },
          "metadata": {
            "needs_background": "light"
          }
        }
      ]
    },
    {
      "cell_type": "code",
      "metadata": {
        "colab": {
          "base_uri": "https://localhost:8080/",
          "height": 129
        },
        "id": "kxpdUA197a9f",
        "outputId": "b42d6f75-7085-4ef5-f2f9-fe27d9c5d4e0"
      },
      "source": [
        "plot_imgs(data_path+'/glass')"
      ],
      "execution_count": 21,
      "outputs": [
        {
          "output_type": "display_data",
          "data": {
            "image/png": "[encoded data removed]",
            "text/plain": [
              "<Figure size 720x720 with 5 Axes>"
            ]
          },
          "metadata": {
            "needs_background": "light"
          }
        }
      ]
    },
    {
      "cell_type": "code",
      "metadata": {
        "colab": {
          "base_uri": "https://localhost:8080/",
          "height": 129
        },
        "id": "tU0lgN5O7hxw",
        "outputId": "e0d074b0-615f-4feb-89bc-11920b3d1903"
      },
      "source": [
        "plot_imgs(data_path+'/paper')"
      ],
      "execution_count": 22,
      "outputs": [
        {
          "output_type": "display_data",
          "data": {
            "image/png": "[encoded data removed]",
            "text/plain": [
              "<Figure size 720x720 with 5 Axes>"
            ]
          },
          "metadata": {
            "needs_background": "light"
          }
        }
      ]
    },
    {
      "cell_type": "code",
      "metadata": {
        "colab": {
          "base_uri": "https://localhost:8080/",
          "height": 129
        },
        "id": "00LZcO9a7mW3",
        "outputId": "7006f6bf-14a2-466f-801a-b94bf7711edd"
      },
      "source": [
        "plot_imgs(data_path+'/plastic')"
      ],
      "execution_count": 23,
      "outputs": [
        {
          "output_type": "display_data",
          "data": {
            "image/png": "[encoded data removed]",
            "text/plain": [
              "<Figure size 720x720 with 5 Axes>"
            ]
          },
          "metadata": {
            "needs_background": "light"
          }
        }
      ]
    },
    {
      "cell_type": "code",
      "metadata": {
        "colab": {
          "base_uri": "https://localhost:8080/",
          "height": 129
        },
        "id": "nPCZRMNL7wle",
        "outputId": "96644df6-bb9a-4613-aca4-6f1e3abb5247"
      },
      "source": [
        "plot_imgs(data_path+'/metal')"
      ],
      "execution_count": 24,
      "outputs": [
        {
          "output_type": "display_data",
          "data": {
            "image/png": "[encoded data removed]",
            "text/plain": [
              "<Figure size 720x720 with 5 Axes>"
            ]
          },
          "metadata": {
            "needs_background": "light"
          }
        }
      ]
    },
    {
      "cell_type": "code",
      "metadata": {
        "colab": {
          "base_uri": "https://localhost:8080/",
          "height": 129
        },
        "id": "1w30m16a8T_a",
        "outputId": "7cbb4463-51d7-4d8b-f844-d064139ecd5a"
      },
      "source": [
        "plot_imgs(data_path+'/trash')"
      ],
      "execution_count": 25,
      "outputs": [
        {
          "output_type": "display_data",
          "data": {
            "image/png": "[encoded data removed]",
            "text/plain": [
              "<Figure size 720x720 with 5 Axes>"
            ]
          },
          "metadata": {
            "needs_background": "light"
          }
        }
      ]
    },
    {
      "cell_type": "code",
      "metadata": {
        "id": "29Jy3lTB8acd"
      },
      "source": [
        "batch_size = 1"
      ],
      "execution_count": 26,
      "outputs": []
    },
    {
      "cell_type": "code",
      "metadata": {
        "id": "0Z2_NMVfS-NT"
      },
      "source": [
        "x_pxm=256\n",
        "y_pxm=192\n",
        "divider=1\n",
        "bpc=3"
      ],
      "execution_count": 27,
      "outputs": []
    },
    {
      "cell_type": "code",
      "metadata": {
        "colab": {
          "base_uri": "https://localhost:8080/"
        },
        "id": "szOoi8-p9AcT",
        "outputId": "5919b3b0-f5cc-4262-c6be-21574f93224b"
      },
      "source": [
        "# Data Generator\n",
        "train=ImageDataGenerator(horizontal_flip=True, vertical_flip=True,validation_split=0.1,rescale=1./255,\n",
        "                         shear_range = 0.1,zoom_range = 0.1,\n",
        "                         width_shift_range = 0.1,\n",
        "                         height_shift_range = 0.1,)\n",
        "\n",
        "test=ImageDataGenerator(rescale=1./255,validation_split=0.1)\n",
        "\n",
        "\n",
        "x_px=int(x_pxm/divider)\n",
        "y_px=int(y_pxm/divider)\n",
        "\n",
        "print(f\"X: {x_px}, Y: {y_px}\")\n",
        "train_generator=train.flow_from_directory(data_path,target_size=(x_px,y_px),batch_size=batch_size,class_mode='sparse',subset='training',color_mode=\"rgb\")\n",
        "test_generator=test.flow_from_directory(data_path,target_size=(x_px,y_px),batch_size=batch_size,class_mode='sparse',subset='validation',color_mode=\"rgb\")"
      ],
      "execution_count": 28,
      "outputs": [
        {
          "output_type": "stream",
          "name": "stdout",
          "text": [
            "X: 256, Y: 192\n",
            "Found 1804 images belonging to 6 classes.\n",
            "Found 197 images belonging to 6 classes.\n"
          ]
        }
      ]
    },
    {
      "cell_type": "code",
      "metadata": {
        "colab": {
          "base_uri": "https://localhost:8080/",
          "height": 35
        },
        "id": "ph7DzjQjDzSb",
        "outputId": "b7f7766a-dd87-4356-a0ea-27b4746e602e"
      },
      "source": [
        "train_generator.class_mode\n"
      ],
      "execution_count": 29,
      "outputs": [
        {
          "output_type": "execute_result",
          "data": {
            "application/vnd.google.colaboratory.intrinsic+json": {
              "type": "string"
            },
            "text/plain": [
              "'sparse'"
            ]
          },
          "metadata": {},
          "execution_count": 29
        }
      ]
    },
    {
      "cell_type": "code",
      "metadata": {
        "id": "aW6LBPy2QnGO"
      },
      "source": [
        ""
      ],
      "execution_count": 29,
      "outputs": []
    },
    {
      "cell_type": "code",
      "metadata": {
        "id": "6U_HwgG1xY69"
      },
      "source": [
        ""
      ],
      "execution_count": 29,
      "outputs": []
    },
    {
      "cell_type": "code",
      "metadata": {
        "colab": {
          "base_uri": "https://localhost:8080/"
        },
        "id": "_Wyodwx79EfI",
        "outputId": "30eb4182-e288-4e41-87fc-489a052e85d1"
      },
      "source": [
        "labels = (train_generator.class_indices)\n",
        "labels = dict((v,k) for k,v in labels.items())\n",
        "print(labels)"
      ],
      "execution_count": 30,
      "outputs": [
        {
          "output_type": "stream",
          "name": "stdout",
          "text": [
            "{0: 'cardboard', 1: 'glass', 2: 'metal', 3: 'paper', 4: 'plastic', 5: 'trash'}\n"
          ]
        }
      ]
    },
    {
      "cell_type": "code",
      "metadata": {
        "id": "AU9cGUPe9Pv_"
      },
      "source": [
        "num_classes = 6"
      ],
      "execution_count": 31,
      "outputs": []
    },
    {
      "cell_type": "code",
      "metadata": {
        "id": "X6dpQeo-Y2rV"
      },
      "source": [
        "#!rm *h5"
      ],
      "execution_count": 32,
      "outputs": []
    },
    {
      "cell_type": "code",
      "metadata": {
        "id": "8quoS1SK9-Dd"
      },
      "source": [
        "# Build Model\n",
        "# Importáld a megfelelő rétegeket\n",
        "from tensorflow.keras.layers import Input,Dense,Embedding,LSTM,TimeDistributed, Flatten, Bidirectional, Conv2D, Dropout,Convolution2D, Conv2DTranspose\n",
        "from tensorflow.keras.layers import MaxPooling2D, Rescaling,RandomFlip,RandomRotation, Reshape,BatchNormalization,MaxPooling3D\n",
        "\n",
        "from tensorflow.keras.models import Model\n",
        "from tensorflow.keras.optimizers import Adadelta,Adam,SGD\n",
        "from tensorflow.keras.losses import sparse_categorical_crossentropy,categorical_crossentropy, mean_squared_error\n",
        "from tensorflow.keras import backend as K\n",
        "from keras.regularizers import l1\n",
        "from keras.initializers import RandomNormal,Zeros,GlorotUniform\n",
        "K.clear_session()\n",
        "\n",
        "\n",
        "inputs= Input(shape=(x_px,y_px,bpc))\n",
        "e = Conv2D(32, (2, 2), activation='relu',kernel_initializer=\"he_uniform\")(inputs)\n",
        "e = MaxPooling2D((2, 2))(e)\n",
        "\n",
        "e = Conv2D(64, (2, 2), activation='relu',kernel_initializer=\"he_uniform\")(e)\n",
        "e = MaxPooling2D((2, 2))(e)\n",
        "e = Conv2D(64, (3, 3), activation='relu',kernel_initializer=\"he_uniform\")(e)\n",
        "e = MaxPooling2D((2, 2))(e)\n",
        "\n",
        "\n",
        "\n",
        "l = Flatten()(e)\n",
        "#l = Dense(1920, activation='sigmoid')(l)\n",
        " # overfitting compensation ??\n",
        "#l=Dropout(0.7)(l)\n",
        "#l = Dense(74, activation='sigmoid')(l)\n",
        "#l=Dropout(0.7)(l)\n",
        "l = Dense(36, activation='sigmoid',kernel_initializer=\"he_uniform\",kernel_regularizer=\"L2\")(l)\n",
        "#l=Dropout(0.65)(l)\n",
        "\n",
        "\n",
        "decoded = Dense(6, activation='softmax',kernel_initializer=\"he_uniform\")(l)\n",
        "\n",
        "\n",
        "autoencoder = Model(inputs, decoded)\n",
        "\n",
        "\n",
        "\n",
        "\n"
      ],
      "execution_count": 57,
      "outputs": []
    },
    {
      "cell_type": "code",
      "metadata": {
        "colab": {
          "base_uri": "https://localhost:8080/"
        },
        "id": "VDpqNZVxzeVM",
        "outputId": "9dd0da95-4ebc-4f75-d18e-f2c1c5aec5c9"
      },
      "source": [
        "autoencoder.summary()"
      ],
      "execution_count": 58,
      "outputs": [
        {
          "output_type": "stream",
          "name": "stdout",
          "text": [
            "Model: \"model\"\n",
            "_________________________________________________________________\n",
            " Layer (type)                Output Shape              Param #   \n",
            "=================================================================\n",
            " input_1 (InputLayer)        [(None, 256, 192, 3)]     0         \n",
            "                                                                 \n",
            " conv2d (Conv2D)             (None, 255, 191, 32)      416       \n",
            "                                                                 \n",
            " max_pooling2d (MaxPooling2D  (None, 127, 95, 32)      0         \n",
            " )                                                               \n",
            "                                                                 \n",
            " conv2d_1 (Conv2D)           (None, 126, 94, 64)       8256      \n",
            "                                                                 \n",
            " max_pooling2d_1 (MaxPooling  (None, 63, 47, 64)       0         \n",
            " 2D)                                                             \n",
            "                                                                 \n",
            " conv2d_2 (Conv2D)           (None, 61, 45, 64)        36928     \n",
            "                                                                 \n",
            " max_pooling2d_2 (MaxPooling  (None, 30, 22, 64)       0         \n",
            " 2D)                                                             \n",
            "                                                                 \n",
            " flatten (Flatten)           (None, 42240)             0         \n",
            "                                                                 \n",
            " dense (Dense)               (None, 36)                1520676   \n",
            "                                                                 \n",
            " dense_1 (Dense)             (None, 6)                 222       \n",
            "                                                                 \n",
            "=================================================================\n",
            "Total params: 1,566,498\n",
            "Trainable params: 1,566,498\n",
            "Non-trainable params: 0\n",
            "_________________________________________________________________\n"
          ]
        }
      ]
    },
    {
      "cell_type": "code",
      "metadata": {
        "id": "23mIMwd5-Swo"
      },
      "source": [
        "model_path=\"garbage_2_cnn.h5\"\n",
        "\n",
        "#checkpoint1 = ModelCheckpoint(model_path, monitor='val_accuracy', verbose=1, save_best_only=True, mode='max')\n",
        "\n"
      ],
      "execution_count": 59,
      "outputs": []
    },
    {
      "cell_type": "code",
      "metadata": {
        "id": "8qNJhssvWOhO"
      },
      "source": [
        "paths=\"./graf\"\n",
        "XSize=256\n",
        "YSize=192"
      ],
      "execution_count": 60,
      "outputs": []
    },
    {
      "cell_type": "code",
      "metadata": {
        "colab": {
          "base_uri": "https://localhost:8080/"
        },
        "id": "ic42sDMwS9ZO",
        "outputId": "573096f9-f979-4f70-8038-7db3ecbd6380"
      },
      "source": [
        " keras_ds = tf.keras.preprocessing.image_dataset_from_directory(paths, batch_size=1, image_size=(XSize, YSize),label_mode=None)"
      ],
      "execution_count": 61,
      "outputs": [
        {
          "output_type": "stream",
          "name": "stdout",
          "text": [
            "Found 2001 files belonging to 1 classes.\n"
          ]
        }
      ]
    },
    {
      "cell_type": "code",
      "metadata": {
        "colab": {
          "base_uri": "https://localhost:8080/"
        },
        "id": "sNgeI-3QVHSW",
        "outputId": "09ad387c-c5ad-4445-d911-d91896da6cdd"
      },
      "source": [
        "keras_ds"
      ],
      "execution_count": 62,
      "outputs": [
        {
          "output_type": "execute_result",
          "data": {
            "text/plain": [
              "<BatchDataset shapes: (None, 256, 192, 3), types: tf.float32>"
            ]
          },
          "metadata": {},
          "execution_count": 62
        }
      ]
    },
    {
      "cell_type": "code",
      "metadata": {
        "id": "xKR7EN5WcOwT"
      },
      "source": [
        "num_epochs = 5\n",
        "step_size_train=train_generator.n//train_generator.batch_size\n",
        "step_size_test =test_generator.n//test_generator.batch_size"
      ],
      "execution_count": 63,
      "outputs": []
    },
    {
      "cell_type": "code",
      "metadata": {
        "id": "YH_F2PxkK04M"
      },
      "source": [
        "from keras.models import load_model\n",
        "#model=load_model(modelfname)"
      ],
      "execution_count": 64,
      "outputs": []
    },
    {
      "cell_type": "code",
      "metadata": {
        "id": "k15gDEjrsTEO"
      },
      "source": [
        "def scheduler(epoch, lr):\n",
        "  return 0.01\n",
        "\n"
      ],
      "execution_count": 65,
      "outputs": []
    },
    {
      "cell_type": "code",
      "metadata": {
        "id": "E1LhTCSnsb50"
      },
      "source": [
        "LR_callback = tf.keras.callbacks.LearningRateScheduler(scheduler)"
      ],
      "execution_count": 66,
      "outputs": []
    },
    {
      "cell_type": "code",
      "metadata": {
        "id": "qolR9Cc0s6tv"
      },
      "source": [
        "#callbacks_list = [checkpoint1,LR_callback]"
      ],
      "execution_count": 67,
      "outputs": []
    },
    {
      "cell_type": "code",
      "metadata": {
        "id": "-BmfMoEPUM1U"
      },
      "source": [
        ""
      ],
      "execution_count": 67,
      "outputs": []
    },
    {
      "cell_type": "code",
      "metadata": {
        "id": "u1dQ-iwI-rnr"
      },
      "source": [
        ""
      ],
      "execution_count": 67,
      "outputs": []
    },
    {
      "cell_type": "code",
      "metadata": {
        "colab": {
          "base_uri": "https://localhost:8080/"
        },
        "id": "0ulpMbToVy0g",
        "outputId": "1b7d9f8c-e080-4fbd-e7a1-987036f4688a"
      },
      "source": [
        "print(f\"{12.34234234:.4f}\")"
      ],
      "execution_count": 68,
      "outputs": [
        {
          "output_type": "stream",
          "name": "stdout",
          "text": [
            "12.3423\n"
          ]
        }
      ]
    },
    {
      "cell_type": "code",
      "metadata": {
        "colab": {
          "base_uri": "https://localhost:8080/"
        },
        "id": "c3yDfvqIrEDD",
        "outputId": "39215669-03ec-40e5-f050-cfcff440fc84"
      },
      "source": [
        "cce = tf.keras.losses.SparseCategoricalCrossentropy()\n",
        "acc = tf.keras.metrics.SparseCategoricalAccuracy()\n",
        "optimizer=Adam()\n",
        "autoencoder.compile(loss=cce, optimizer=optimizer, metrics=[acc])\n",
        "autoencoder.summary()"
      ],
      "execution_count": 69,
      "outputs": [
        {
          "output_type": "stream",
          "name": "stdout",
          "text": [
            "Model: \"model\"\n",
            "_________________________________________________________________\n",
            " Layer (type)                Output Shape              Param #   \n",
            "=================================================================\n",
            " input_1 (InputLayer)        [(None, 256, 192, 3)]     0         \n",
            "                                                                 \n",
            " conv2d (Conv2D)             (None, 255, 191, 32)      416       \n",
            "                                                                 \n",
            " max_pooling2d (MaxPooling2D  (None, 127, 95, 32)      0         \n",
            " )                                                               \n",
            "                                                                 \n",
            " conv2d_1 (Conv2D)           (None, 126, 94, 64)       8256      \n",
            "                                                                 \n",
            " max_pooling2d_1 (MaxPooling  (None, 63, 47, 64)       0         \n",
            " 2D)                                                             \n",
            "                                                                 \n",
            " conv2d_2 (Conv2D)           (None, 61, 45, 64)        36928     \n",
            "                                                                 \n",
            " max_pooling2d_2 (MaxPooling  (None, 30, 22, 64)       0         \n",
            " 2D)                                                             \n",
            "                                                                 \n",
            " flatten (Flatten)           (None, 42240)             0         \n",
            "                                                                 \n",
            " dense (Dense)               (None, 36)                1520676   \n",
            "                                                                 \n",
            " dense_1 (Dense)             (None, 6)                 222       \n",
            "                                                                 \n",
            "=================================================================\n",
            "Total params: 1,566,498\n",
            "Trainable params: 1,566,498\n",
            "Non-trainable params: 0\n",
            "_________________________________________________________________\n"
          ]
        }
      ]
    },
    {
      "cell_type": "code",
      "metadata": {
        "colab": {
          "base_uri": "https://localhost:8080/"
        },
        "id": "49DYTrrBITjQ",
        "outputId": "ffc007a6-b3c9-4eef-b45d-20d3cbde29ae"
      },
      "source": [
        "from keras.callbacks import ModelCheckpoint\n",
        "from datetime  import datetime\n",
        "\n",
        "times=datetime.now().strftime(\"%Y%m%d_%H%M%S\")\n",
        "print(f'{datetime.now().strftime(\"%Y%m%d_%H%M%S\")}')\n",
        "best_model = ModelCheckpoint(filepath='Model_LOSS[{val_loss:.4f}]_ACC[{val_sparse_categorical_accuracy:.4f}].h5', monitor='val_loss', mode='min',verbose=1, save_best_only=True, save_freq=\"epoch\")\n"
      ],
      "execution_count": 70,
      "outputs": [
        {
          "output_type": "stream",
          "name": "stdout",
          "text": [
            "20211113_142337\n"
          ]
        }
      ]
    },
    {
      "cell_type": "code",
      "metadata": {
        "id": "3fkRipiKO3Yy"
      },
      "source": [
        " #!rm **.h5"
      ],
      "execution_count": 71,
      "outputs": []
    },
    {
      "cell_type": "code",
      "metadata": {
        "colab": {
          "base_uri": "https://localhost:8080/"
        },
        "id": "VyEcPc5YWqUw",
        "outputId": "34a46396-ad0e-4439-d766-cd557dbdebbe"
      },
      "source": [
        "!ls"
      ],
      "execution_count": 72,
      "outputs": [
        {
          "output_type": "stream",
          "name": "stdout",
          "text": [
            " graf  'ORIG_LOSS[0.9960]_ACC[0.7107].h5'\n"
          ]
        }
      ]
    },
    {
      "cell_type": "code",
      "metadata": {
        "id": "S4MKBOC-v41h"
      },
      "source": [
        "#wname=\"ORIG_LOSS[0.9960]_ACC[0.7107].h5\"\n",
        "#autoencoder.load_weights(wname)"
      ],
      "execution_count": 74,
      "outputs": []
    },
    {
      "cell_type": "code",
      "metadata": {
        "id": "do7ymmFgJcBp"
      },
      "source": [
        "#from google.colab import files\n",
        "#files.download('/content/Model_-0.6231.h5')"
      ],
      "execution_count": 75,
      "outputs": []
    },
    {
      "cell_type": "code",
      "metadata": {
        "id": "qCFzmRySmD6m",
        "colab": {
          "base_uri": "https://localhost:8080/"
        },
        "outputId": "691721e6-e13e-4c05-a5bf-585439870729"
      },
      "source": [
        "!rm Model*.h5"
      ],
      "execution_count": 76,
      "outputs": [
        {
          "output_type": "stream",
          "name": "stdout",
          "text": [
            "rm: cannot remove 'Model*.h5': No such file or directory\n"
          ]
        }
      ]
    },
    {
      "cell_type": "code",
      "metadata": {
        "colab": {
          "base_uri": "https://localhost:8080/"
        },
        "id": "lmqHFQUeYSZz",
        "outputId": "a53d0fb2-0962-4120-c984-a063311e42f5"
      },
      "source": [
        "\n",
        "# Train Model\n",
        "from IPython.display import clear_output\n",
        "for  repeater in range(1):\n",
        "    for i in range(1):\n",
        "        \n",
        "        ratex={0:0.000008,1:0.0000009,2:0.0000008,3:0.0000007,4:0.0000006}\n",
        "        epocsd={0:180,1:10,2:10,3:10,4:10}\n",
        "        batchsd={0:1,1:1,2:1,3:1,4:1}\n",
        "        #clear_output(wait=True)\n",
        "        print(\"-\"*85)\n",
        "        print(f\"repeater: {repeater:5} num: {i:4}, Learning Rate: {ratex[i]:9} epocs: {epocsd[i]:6}\")\n",
        "        print(\"-\"*85)\n",
        "        optimizer=Adam(ratex[i])\n",
        "        \n",
        "    \n",
        "        #autoencoder.summary()\n",
        "        autoencoder.compile(loss=cce, optimizer=optimizer, metrics=[cce,acc])\n",
        "        history = autoencoder.fit(train_generator, epochs=epocsd[i],  validation_data=test_generator,batch_size=batchsd[i],callbacks=[best_model])\n",
        "        print(\"#-\"*55)"
      ],
      "execution_count": null,
      "outputs": [
        {
          "output_type": "stream",
          "name": "stdout",
          "text": [
            "-------------------------------------------------------------------------------------\n",
            "repeater:     0 num:    0, Learning Rate:     8e-06 epocs:    180\n",
            "-------------------------------------------------------------------------------------\n",
            "Epoch 1/180\n",
            "1804/1804 [==============================] - ETA: 0s - loss: 2.1341 - sparse_categorical_crossentropy: 1.4479 - sparse_categorical_accuracy: 0.4435\n",
            "Epoch 00001: val_loss improved from inf to 2.00563, saving model to Model_LOSS[2.0056]_ACC[0.5127].h5\n",
            "1804/1804 [==============================] - 188s 104ms/step - loss: 2.1341 - sparse_categorical_crossentropy: 1.4479 - sparse_categorical_accuracy: 0.4435 - val_loss: 2.0056 - val_sparse_categorical_crossentropy: 1.3476 - val_sparse_categorical_accuracy: 0.5127\n",
            "Epoch 2/180\n",
            "1804/1804 [==============================] - ETA: 0s - loss: 1.9082 - sparse_categorical_crossentropy: 1.2783 - sparse_categorical_accuracy: 0.5283\n",
            "Epoch 00002: val_loss improved from 2.00563 to 1.84243, saving model to Model_LOSS[1.8424]_ACC[0.5584].h5\n",
            "1804/1804 [==============================] - 186s 103ms/step - loss: 1.9082 - sparse_categorical_crossentropy: 1.2783 - sparse_categorical_accuracy: 0.5283 - val_loss: 1.8424 - val_sparse_categorical_crossentropy: 1.2414 - val_sparse_categorical_accuracy: 0.5584\n",
            "Epoch 3/180\n",
            "1804/1804 [==============================] - ETA: 0s - loss: 1.7814 - sparse_categorical_crossentropy: 1.2102 - sparse_categorical_accuracy: 0.5704\n",
            "Epoch 00003: val_loss improved from 1.84243 to 1.75653, saving model to Model_LOSS[1.7565]_ACC[0.5685].h5\n",
            "1804/1804 [==============================] - 191s 106ms/step - loss: 1.7814 - sparse_categorical_crossentropy: 1.2102 - sparse_categorical_accuracy: 0.5704 - val_loss: 1.7565 - val_sparse_categorical_crossentropy: 1.2144 - val_sparse_categorical_accuracy: 0.5685\n",
            "Epoch 4/180\n",
            "1804/1804 [==============================] - ETA: 0s - loss: 1.6874 - sparse_categorical_crossentropy: 1.1720 - sparse_categorical_accuracy: 0.5931\n",
            "Epoch 00004: val_loss improved from 1.75653 to 1.70056, saving model to Model_LOSS[1.7006]_ACC[0.5939].h5\n",
            "1804/1804 [==============================] - 191s 106ms/step - loss: 1.6874 - sparse_categorical_crossentropy: 1.1720 - sparse_categorical_accuracy: 0.5931 - val_loss: 1.7006 - val_sparse_categorical_crossentropy: 1.2099 - val_sparse_categorical_accuracy: 0.5939\n",
            "Epoch 5/180\n",
            "1804/1804 [==============================] - ETA: 0s - loss: 1.6193 - sparse_categorical_crossentropy: 1.1489 - sparse_categorical_accuracy: 0.5981\n",
            "Epoch 00005: val_loss improved from 1.70056 to 1.62783, saving model to Model_LOSS[1.6278]_ACC[0.5888].h5\n",
            "1804/1804 [==============================] - 190s 105ms/step - loss: 1.6193 - sparse_categorical_crossentropy: 1.1489 - sparse_categorical_accuracy: 0.5981 - val_loss: 1.6278 - val_sparse_categorical_crossentropy: 1.1762 - val_sparse_categorical_accuracy: 0.5888\n",
            "Epoch 6/180\n",
            "1804/1804 [==============================] - ETA: 0s - loss: 1.5544 - sparse_categorical_crossentropy: 1.1192 - sparse_categorical_accuracy: 0.6208\n",
            "Epoch 00006: val_loss improved from 1.62783 to 1.59288, saving model to Model_LOSS[1.5929]_ACC[0.5888].h5\n",
            "1804/1804 [==============================] - 189s 105ms/step - loss: 1.5544 - sparse_categorical_crossentropy: 1.1192 - sparse_categorical_accuracy: 0.6208 - val_loss: 1.5929 - val_sparse_categorical_crossentropy: 1.1728 - val_sparse_categorical_accuracy: 0.5888\n",
            "Epoch 7/180\n",
            "1804/1804 [==============================] - ETA: 0s - loss: 1.5055 - sparse_categorical_crossentropy: 1.0991 - sparse_categorical_accuracy: 0.6253\n",
            "Epoch 00007: val_loss improved from 1.59288 to 1.54287, saving model to Model_LOSS[1.5429]_ACC[0.6193].h5\n",
            "1804/1804 [==============================] - 188s 104ms/step - loss: 1.5055 - sparse_categorical_crossentropy: 1.0991 - sparse_categorical_accuracy: 0.6253 - val_loss: 1.5429 - val_sparse_categorical_crossentropy: 1.1497 - val_sparse_categorical_accuracy: 0.6193\n",
            "Epoch 8/180\n",
            "1804/1804 [==============================] - ETA: 0s - loss: 1.4698 - sparse_categorical_crossentropy: 1.0889 - sparse_categorical_accuracy: 0.6253\n",
            "Epoch 00008: val_loss improved from 1.54287 to 1.50324, saving model to Model_LOSS[1.5032]_ACC[0.6041].h5\n",
            "1804/1804 [==============================] - 186s 103ms/step - loss: 1.4698 - sparse_categorical_crossentropy: 1.0889 - sparse_categorical_accuracy: 0.6253 - val_loss: 1.5032 - val_sparse_categorical_crossentropy: 1.1342 - val_sparse_categorical_accuracy: 0.6041\n",
            "Epoch 9/180\n",
            "1804/1804 [==============================] - ETA: 0s - loss: 1.4368 - sparse_categorical_crossentropy: 1.0787 - sparse_categorical_accuracy: 0.6319\n",
            "Epoch 00009: val_loss improved from 1.50324 to 1.47662, saving model to Model_LOSS[1.4766]_ACC[0.6244].h5\n",
            "1804/1804 [==============================] - 187s 104ms/step - loss: 1.4368 - sparse_categorical_crossentropy: 1.0787 - sparse_categorical_accuracy: 0.6319 - val_loss: 1.4766 - val_sparse_categorical_crossentropy: 1.1293 - val_sparse_categorical_accuracy: 0.6244\n",
            "Epoch 10/180\n",
            "1804/1804 [==============================] - ETA: 0s - loss: 1.4079 - sparse_categorical_crossentropy: 1.0705 - sparse_categorical_accuracy: 0.6397\n",
            "Epoch 00010: val_loss improved from 1.47662 to 1.45228, saving model to Model_LOSS[1.4523]_ACC[0.5787].h5\n",
            "1804/1804 [==============================] - 187s 103ms/step - loss: 1.4079 - sparse_categorical_crossentropy: 1.0705 - sparse_categorical_accuracy: 0.6397 - val_loss: 1.4523 - val_sparse_categorical_crossentropy: 1.1245 - val_sparse_categorical_accuracy: 0.5787\n",
            "Epoch 11/180\n",
            "1804/1804 [==============================] - ETA: 0s - loss: 1.3701 - sparse_categorical_crossentropy: 1.0515 - sparse_categorical_accuracy: 0.6436\n",
            "Epoch 00011: val_loss improved from 1.45228 to 1.42506, saving model to Model_LOSS[1.4251]_ACC[0.6091].h5\n",
            "1804/1804 [==============================] - 186s 103ms/step - loss: 1.3701 - sparse_categorical_crossentropy: 1.0515 - sparse_categorical_accuracy: 0.6436 - val_loss: 1.4251 - val_sparse_categorical_crossentropy: 1.1154 - val_sparse_categorical_accuracy: 0.6091\n",
            "Epoch 12/180\n",
            "1804/1804 [==============================] - ETA: 0s - loss: 1.3451 - sparse_categorical_crossentropy: 1.0439 - sparse_categorical_accuracy: 0.6502\n",
            "Epoch 00012: val_loss improved from 1.42506 to 1.39887, saving model to Model_LOSS[1.3989]_ACC[0.6193].h5\n",
            "1804/1804 [==============================] - 186s 103ms/step - loss: 1.3451 - sparse_categorical_crossentropy: 1.0439 - sparse_categorical_accuracy: 0.6502 - val_loss: 1.3989 - val_sparse_categorical_crossentropy: 1.1058 - val_sparse_categorical_accuracy: 0.6193\n",
            "Epoch 13/180\n",
            "1804/1804 [==============================] - ETA: 0s - loss: 1.3227 - sparse_categorical_crossentropy: 1.0372 - sparse_categorical_accuracy: 0.6497\n",
            "Epoch 00013: val_loss did not improve from 1.39887\n",
            "1804/1804 [==============================] - 188s 104ms/step - loss: 1.3227 - sparse_categorical_crossentropy: 1.0372 - sparse_categorical_accuracy: 0.6497 - val_loss: 1.4012 - val_sparse_categorical_crossentropy: 1.1230 - val_sparse_categorical_accuracy: 0.6345\n",
            "Epoch 14/180\n",
            "1804/1804 [==============================] - ETA: 0s - loss: 1.2994 - sparse_categorical_crossentropy: 1.0279 - sparse_categorical_accuracy: 0.6535\n",
            "Epoch 00014: val_loss improved from 1.39887 to 1.36245, saving model to Model_LOSS[1.3624]_ACC[0.6142].h5\n",
            "1804/1804 [==============================] - 187s 104ms/step - loss: 1.2994 - sparse_categorical_crossentropy: 1.0279 - sparse_categorical_accuracy: 0.6535 - val_loss: 1.3624 - val_sparse_categorical_crossentropy: 1.0978 - val_sparse_categorical_accuracy: 0.6142\n",
            "Epoch 15/180\n",
            "1804/1804 [==============================] - ETA: 0s - loss: 1.2834 - sparse_categorical_crossentropy: 1.0252 - sparse_categorical_accuracy: 0.6552\n",
            "Epoch 00015: val_loss improved from 1.36245 to 1.35414, saving model to Model_LOSS[1.3541]_ACC[0.6345].h5\n",
            "1804/1804 [==============================] - 187s 104ms/step - loss: 1.2834 - sparse_categorical_crossentropy: 1.0252 - sparse_categorical_accuracy: 0.6552 - val_loss: 1.3541 - val_sparse_categorical_crossentropy: 1.1023 - val_sparse_categorical_accuracy: 0.6345\n",
            "Epoch 16/180\n",
            "1804/1804 [==============================] - ETA: 0s - loss: 1.2608 - sparse_categorical_crossentropy: 1.0149 - sparse_categorical_accuracy: 0.6497\n",
            "Epoch 00016: val_loss improved from 1.35414 to 1.34133, saving model to Model_LOSS[1.3413]_ACC[0.6193].h5\n",
            "1804/1804 [==============================] - 186s 103ms/step - loss: 1.2608 - sparse_categorical_crossentropy: 1.0149 - sparse_categorical_accuracy: 0.6497 - val_loss: 1.3413 - val_sparse_categorical_crossentropy: 1.1012 - val_sparse_categorical_accuracy: 0.6193\n",
            "Epoch 17/180\n",
            "1804/1804 [==============================] - ETA: 0s - loss: 1.2476 - sparse_categorical_crossentropy: 1.0130 - sparse_categorical_accuracy: 0.6585\n",
            "Epoch 00017: val_loss improved from 1.34133 to 1.31987, saving model to Model_LOSS[1.3199]_ACC[0.6142].h5\n",
            "1804/1804 [==============================] - 186s 103ms/step - loss: 1.2476 - sparse_categorical_crossentropy: 1.0130 - sparse_categorical_accuracy: 0.6585 - val_loss: 1.3199 - val_sparse_categorical_crossentropy: 1.0905 - val_sparse_categorical_accuracy: 0.6142\n",
            "Epoch 18/180\n",
            "1804/1804 [==============================] - ETA: 0s - loss: 1.2274 - sparse_categorical_crossentropy: 1.0032 - sparse_categorical_accuracy: 0.6680\n",
            "Epoch 00018: val_loss improved from 1.31987 to 1.28168, saving model to Model_LOSS[1.2817]_ACC[0.6396].h5\n",
            "1804/1804 [==============================] - 188s 104ms/step - loss: 1.2274 - sparse_categorical_crossentropy: 1.0032 - sparse_categorical_accuracy: 0.6680 - val_loss: 1.2817 - val_sparse_categorical_crossentropy: 1.0623 - val_sparse_categorical_accuracy: 0.6396\n",
            "Epoch 19/180\n",
            "1804/1804 [==============================] - ETA: 0s - loss: 1.2041 - sparse_categorical_crossentropy: 0.9894 - sparse_categorical_accuracy: 0.6652\n",
            "Epoch 00019: val_loss did not improve from 1.28168\n",
            "1804/1804 [==============================] - 187s 103ms/step - loss: 1.2041 - sparse_categorical_crossentropy: 0.9894 - sparse_categorical_accuracy: 0.6652 - val_loss: 1.2869 - val_sparse_categorical_crossentropy: 1.0767 - val_sparse_categorical_accuracy: 0.6244\n",
            "Epoch 20/180\n",
            "1804/1804 [==============================] - ETA: 0s - loss: 1.1964 - sparse_categorical_crossentropy: 0.9903 - sparse_categorical_accuracy: 0.6674\n",
            "Epoch 00020: val_loss improved from 1.28168 to 1.25908, saving model to Model_LOSS[1.2591]_ACC[0.6345].h5\n",
            "1804/1804 [==============================] - 187s 104ms/step - loss: 1.1964 - sparse_categorical_crossentropy: 0.9903 - sparse_categorical_accuracy: 0.6674 - val_loss: 1.2591 - val_sparse_categorical_crossentropy: 1.0569 - val_sparse_categorical_accuracy: 0.6345\n",
            "Epoch 21/180\n",
            "1804/1804 [==============================] - ETA: 0s - loss: 1.1760 - sparse_categorical_crossentropy: 0.9778 - sparse_categorical_accuracy: 0.6724\n",
            "Epoch 00021: val_loss improved from 1.25908 to 1.23415, saving model to Model_LOSS[1.2341]_ACC[0.6497].h5\n",
            "1804/1804 [==============================] - 186s 103ms/step - loss: 1.1760 - sparse_categorical_crossentropy: 0.9778 - sparse_categorical_accuracy: 0.6724 - val_loss: 1.2341 - val_sparse_categorical_crossentropy: 1.0396 - val_sparse_categorical_accuracy: 0.6497\n",
            "Epoch 22/180\n",
            "1804/1804 [==============================] - ETA: 0s - loss: 1.1736 - sparse_categorical_crossentropy: 0.9827 - sparse_categorical_accuracy: 0.6702\n",
            "Epoch 00022: val_loss improved from 1.23415 to 1.22818, saving model to Model_LOSS[1.2282]_ACC[0.6447].h5\n",
            "1804/1804 [==============================] - 186s 103ms/step - loss: 1.1736 - sparse_categorical_crossentropy: 0.9827 - sparse_categorical_accuracy: 0.6702 - val_loss: 1.2282 - val_sparse_categorical_crossentropy: 1.0407 - val_sparse_categorical_accuracy: 0.6447\n",
            "Epoch 23/180\n",
            "1804/1804 [==============================] - ETA: 0s - loss: 1.1552 - sparse_categorical_crossentropy: 0.9711 - sparse_categorical_accuracy: 0.6718\n",
            "Epoch 00023: val_loss improved from 1.22818 to 1.22368, saving model to Model_LOSS[1.2237]_ACC[0.6548].h5\n",
            "1804/1804 [==============================] - 185s 103ms/step - loss: 1.1552 - sparse_categorical_crossentropy: 0.9711 - sparse_categorical_accuracy: 0.6718 - val_loss: 1.2237 - val_sparse_categorical_crossentropy: 1.0428 - val_sparse_categorical_accuracy: 0.6548\n",
            "Epoch 24/180\n",
            "1720/1804 [===========================>..] - ETA: 8s - loss: 1.1468 - sparse_categorical_crossentropy: 0.9688 - sparse_categorical_accuracy: 0.6721"
          ]
        }
      ]
    },
    {
      "cell_type": "code",
      "metadata": {
        "id": "uxvR1W4zeWkm"
      },
      "source": [
        ""
      ],
      "execution_count": null,
      "outputs": []
    },
    {
      "cell_type": "code",
      "metadata": {
        "id": "aG__eQbztqyB"
      },
      "source": [
        ""
      ],
      "execution_count": null,
      "outputs": []
    },
    {
      "cell_type": "code",
      "metadata": {
        "id": "3m0rL5K3tqpE"
      },
      "source": [
        ""
      ],
      "execution_count": null,
      "outputs": []
    },
    {
      "cell_type": "code",
      "metadata": {
        "id": "-O6YI5vVtqnl"
      },
      "source": [
        ""
      ],
      "execution_count": null,
      "outputs": []
    },
    {
      "cell_type": "code",
      "metadata": {
        "id": "F-7_4LzyRefx"
      },
      "source": [
        "autoencoder.save(\"aktual_0_60249_loss_0_4665.h5\")"
      ],
      "execution_count": null,
      "outputs": []
    },
    {
      "cell_type": "code",
      "metadata": {
        "id": "kLX9AAz2Qoe1"
      },
      "source": [
        "---\n",
        "from IPython.display import clear_output\n",
        "\n",
        "for i in range(5):\n",
        "    ratex={0:0.000005,1:0.000001,2:0.000005,3:0.000005,4:0.000005}\n",
        "    clear_output(wait=True)\n",
        "    print(\"*\"*15)\n",
        "    print(f\"Learning Rate: {ratex[i]}\")\n",
        "    print(\"*\"*15)\n",
        "    optimizer=Adam(ratex[i])\n",
        "    autoencoder.compile(loss='MSE', optimizer=optimizer, metrics=['MSE'])\n",
        "    autoencoder.summary()\n",
        "    history = autoencoder.fit(train_generator, epochs=10, validation_data=test_generator,batch_size=7)"
      ],
      "execution_count": null,
      "outputs": []
    },
    {
      "cell_type": "code",
      "metadata": {
        "id": "hjvhLctDuphL"
      },
      "source": [
        "#-----------------------------"
      ],
      "execution_count": null,
      "outputs": []
    },
    {
      "cell_type": "code",
      "metadata": {
        "id": "ujj-2Wp1nLzE"
      },
      "source": [
        "pik=train_generator.next()"
      ],
      "execution_count": null,
      "outputs": []
    },
    {
      "cell_type": "code",
      "metadata": {
        "id": "ey6JWhEvsUA4"
      },
      "source": [
        "labels = (train_generator.class_indices)\n",
        "labels = dict((v,k) for k,v in labels.items())\n",
        "print(labels)"
      ],
      "execution_count": null,
      "outputs": []
    },
    {
      "cell_type": "code",
      "metadata": {
        "id": "wF8r-LKzpqo5"
      },
      "source": [
        "labels[pik[1][0]]"
      ],
      "execution_count": null,
      "outputs": []
    },
    {
      "cell_type": "code",
      "metadata": {
        "id": "aQVQRof962nN"
      },
      "source": [
        "pik0=pik[0]*256\n",
        "pik1=pik[1]*256"
      ],
      "execution_count": null,
      "outputs": []
    },
    {
      "cell_type": "code",
      "metadata": {
        "id": "NhwUbvpBqGlN"
      },
      "source": [
        "\n",
        "from google.colab.patches import cv2_imshow\n",
        "cv2_imshow(pik0[0],)"
      ],
      "execution_count": null,
      "outputs": []
    },
    {
      "cell_type": "code",
      "metadata": {
        "id": "E9nTKzqDpcv4"
      },
      "source": [
        "pik1"
      ],
      "execution_count": null,
      "outputs": []
    },
    {
      "cell_type": "code",
      "metadata": {
        "id": "DuTPEblNsgDC"
      },
      "source": [
        "o1=autoencoder.predict(pik[0])"
      ],
      "execution_count": null,
      "outputs": []
    },
    {
      "cell_type": "code",
      "metadata": {
        "id": "1Ievtd6gs6cC"
      },
      "source": [
        "o1"
      ],
      "execution_count": null,
      "outputs": []
    },
    {
      "cell_type": "code",
      "metadata": {
        "id": "ensZEj5PtN5h"
      },
      "source": [
        "o1.max()"
      ],
      "execution_count": null,
      "outputs": []
    },
    {
      "cell_type": "code",
      "metadata": {
        "id": "quzAyNFbthMc"
      },
      "source": [
        "labels[o1.tolist()[0].index(o1.max())]"
      ],
      "execution_count": null,
      "outputs": []
    },
    {
      "cell_type": "code",
      "metadata": {
        "id": "FYAPJyvhwcmp"
      },
      "source": [
        "---"
      ],
      "execution_count": null,
      "outputs": []
    },
    {
      "cell_type": "code",
      "metadata": {
        "id": "eXxW6GVQaDS3"
      },
      "source": [
        "# test adatok"
      ],
      "execution_count": null,
      "outputs": []
    },
    {
      "cell_type": "code",
      "metadata": {
        "id": "4F8TODV7ZMve"
      },
      "source": [
        "\n",
        "furl=\"https://github.com/sipocz/Garbage_Classification/raw/5b9dbccfb0e0942b62f5ca172c2be09825679912/TEST.zip\"\n",
        "!rm TEST.zip \n",
        "!wget $furl\n",
        "fname=furl.split(\"/\")[-1]\n",
        "\n",
        "!unzip $fname\n",
        "!rm TEST.zip"
      ],
      "execution_count": null,
      "outputs": []
    },
    {
      "cell_type": "code",
      "metadata": {
        "id": "mRVztePSko4b"
      },
      "source": [
        "x_pxm=256\n",
        "y_pxm=192\n",
        "divider=1\n",
        "bpc=3"
      ],
      "execution_count": null,
      "outputs": []
    },
    {
      "cell_type": "code",
      "metadata": {
        "id": "ak-MRRhgZPbk"
      },
      "source": [
        "data_dir=\"./TEST\"\n",
        "\n",
        "testing_ds = tf.keras.utils.image_dataset_from_directory(\n",
        "  \n",
        "  data_dir,\n",
        "  labels=None,\n",
        "  shuffle=False,\n",
        "  validation_split=0.0,\n",
        "  \n",
        "  seed=123,\n",
        "  color_mode=\"rgb\",\n",
        "  image_size=(x_pxm, y_pxm),\n",
        "  batch_size=1, \n",
        "  label_mode=None)\n"
      ],
      "execution_count": null,
      "outputs": []
    },
    {
      "cell_type": "code",
      "metadata": {
        "id": "N7Gw4Hph05HJ"
      },
      "source": [
        ""
      ],
      "execution_count": null,
      "outputs": []
    },
    {
      "cell_type": "code",
      "metadata": {
        "id": "HVIIBDVy0xJ1"
      },
      "source": [
        "from tensorflow.keras import layers\n",
        "normalization_layer = layers.Rescaling(1./255)"
      ],
      "execution_count": null,
      "outputs": []
    },
    {
      "cell_type": "code",
      "metadata": {
        "id": "DeXnJHLA0ton"
      },
      "source": [
        "normalized_ds = testing_ds.map(lambda x: (normalization_layer(x)))"
      ],
      "execution_count": null,
      "outputs": []
    },
    {
      "cell_type": "code",
      "metadata": {
        "id": "2fmdZwXjeG4Q"
      },
      "source": [
        "normalized_ds"
      ],
      "execution_count": null,
      "outputs": []
    },
    {
      "cell_type": "code",
      "metadata": {
        "id": "YyQQVqcZbzbK"
      },
      "source": [
        "wname=\"Model_LOSS[0.3814]_ACC[0.8832].h5\""
      ],
      "execution_count": null,
      "outputs": []
    },
    {
      "cell_type": "code",
      "metadata": {
        "id": "Ra20dNutC0C7"
      },
      "source": [
        "autoencoder.load_weights(wname)"
      ],
      "execution_count": null,
      "outputs": []
    },
    {
      "cell_type": "code",
      "metadata": {
        "id": "CNDKnbTSy1f4"
      },
      "source": [
        ""
      ],
      "execution_count": null,
      "outputs": []
    },
    {
      "cell_type": "code",
      "metadata": {
        "id": "43556BOMlGLO"
      },
      "source": [
        "o1=autoencoder.predict(normalized_ds)"
      ],
      "execution_count": null,
      "outputs": []
    },
    {
      "cell_type": "code",
      "metadata": {
        "id": "OHjMoORaCYEg"
      },
      "source": [
        "o1"
      ],
      "execution_count": null,
      "outputs": []
    },
    {
      "cell_type": "code",
      "metadata": {
        "id": "40JrvZQxp9o_"
      },
      "source": [
        "labels = (train_generator.class_indices)\n",
        "labels = dict((v,k) for k,v in labels.items())\n",
        "print(labels)"
      ],
      "execution_count": null,
      "outputs": []
    },
    {
      "cell_type": "code",
      "metadata": {
        "id": "xAAmpN3SrNpC"
      },
      "source": [
        "def code_to_category(o):\n",
        "    label=labels[o.tolist().index(o.max())]\n",
        "    return(label)"
      ],
      "execution_count": null,
      "outputs": []
    },
    {
      "cell_type": "code",
      "metadata": {
        "id": "pcypS2zzCTY8"
      },
      "source": [
        ""
      ],
      "execution_count": null,
      "outputs": []
    },
    {
      "cell_type": "code",
      "metadata": {
        "id": "rCBkMzELr4WH"
      },
      "source": [
        "o1[0].tolist().index(o1[0].max())"
      ],
      "execution_count": null,
      "outputs": []
    },
    {
      "cell_type": "code",
      "metadata": {
        "id": "pYobcViMozSu"
      },
      "source": [
        "cats=[code_to_category(oi) for oi in o1] "
      ],
      "execution_count": null,
      "outputs": []
    },
    {
      "cell_type": "code",
      "metadata": {
        "id": "ePFIesTUvFt7"
      },
      "source": [
        "file1=testing_ds.file_paths"
      ],
      "execution_count": null,
      "outputs": []
    },
    {
      "cell_type": "code",
      "metadata": {
        "id": "ojgct1ppv2kF"
      },
      "source": [
        "df=pd.DataFrame()"
      ],
      "execution_count": null,
      "outputs": []
    },
    {
      "cell_type": "code",
      "metadata": {
        "id": "g8peYOTJtefN"
      },
      "source": [
        "fname=[f1.split(\"/\")[-1] for f1 in file1]"
      ],
      "execution_count": null,
      "outputs": []
    },
    {
      "cell_type": "code",
      "metadata": {
        "id": "bFJ2goxQv8y-"
      },
      "source": [
        "df[\"Filename\"]=fname\n",
        "df[\"Labels\"]=cats"
      ],
      "execution_count": null,
      "outputs": []
    },
    {
      "cell_type": "code",
      "metadata": {
        "id": "XKlx1KXTwJag"
      },
      "source": [
        "df.head(42)"
      ],
      "execution_count": null,
      "outputs": []
    },
    {
      "cell_type": "code",
      "metadata": {
        "id": "qupBagxcxAso"
      },
      "source": [
        "from datetime  import datetime\n",
        "csv_filename=\"Submission_\"+datetime.now().strftime(\"%Y%m%d_%H%M%S\")+\".csv\"\n",
        "print(csv_filename)\n",
        "df.to_csv(csv_filename,index=False)"
      ],
      "execution_count": null,
      "outputs": []
    },
    {
      "cell_type": "code",
      "metadata": {
        "id": "HFQonbuS583y"
      },
      "source": [
        "----"
      ],
      "execution_count": null,
      "outputs": []
    },
    {
      "cell_type": "code",
      "metadata": {
        "id": "AUH1AvSusoCB"
      },
      "source": [
        "for i in "
      ],
      "execution_count": null,
      "outputs": []
    },
    {
      "cell_type": "code",
      "metadata": {
        "id": "ZhGSFaLYnufa"
      },
      "source": [
        "plt.imshow(pik0[0].astype(\"uint8\"))"
      ],
      "execution_count": null,
      "outputs": []
    },
    {
      "cell_type": "code",
      "metadata": {
        "id": "7ufgg8WRHz7y"
      },
      "source": [
        "# Evaluate Model\n",
        "score = model.evaluate_generator(test_generator, steps=step_size_test)\n",
        "print(score)"
      ],
      "execution_count": null,
      "outputs": []
    },
    {
      "cell_type": "code",
      "metadata": {
        "id": "nG5L0j5glnlA"
      },
      "source": [
        "# Show Train History\n",
        "keys=history.history.keys()\n",
        "print(keys)\n",
        "\n",
        "def show_train_history(hisData,train,test): \n",
        "    plt.plot(hisData.history[train])\n",
        "    plt.plot(hisData.history[test])\n",
        "    plt.title('Training History')\n",
        "    plt.ylabel(train)\n",
        "    plt.xlabel('Epoch')\n",
        "    plt.legend(['train', 'test'], loc='upper left')\n",
        "    plt.show()\n",
        "\n",
        "show_train_history(history, 'loss', 'val_loss')\n",
        "show_train_history(history, 'accuracy', 'val_accuracy')\n"
      ],
      "execution_count": null,
      "outputs": []
    },
    {
      "cell_type": "code",
      "metadata": {
        "id": "ojHXpfR-O_rR"
      },
      "source": [
        ""
      ],
      "execution_count": null,
      "outputs": []
    },
    {
      "cell_type": "code",
      "metadata": {
        "id": "RBgOdjim7GxD"
      },
      "source": [
        "def imgshow():\n",
        "    import matplotlib.pyplot as plt\n",
        "    batch = train_generator.take(1)\n",
        "    plotData = batch[0]\n",
        "    plotData = plotData.reshape(28, 28)\n",
        "    plt.gray() # use this line if you don't want to see it in color\n",
        "    plt.imshow(plotData)\n",
        "    plt.show()"
      ],
      "execution_count": null,
      "outputs": []
    },
    {
      "cell_type": "code",
      "metadata": {
        "id": "C5q3XO8yt1jw"
      },
      "source": [
        "imgshow()"
      ],
      "execution_count": null,
      "outputs": []
    },
    {
      "cell_type": "code",
      "metadata": {
        "id": "gt149-gUv8qr"
      },
      "source": [
        "data_dir=\"./TEST\""
      ],
      "execution_count": null,
      "outputs": []
    },
    {
      "cell_type": "code",
      "metadata": {
        "id": "n3u5C4HVu_LF"
      },
      "source": [
        "train_ds = tf.keras.utils.image_dataset_from_directory(\n",
        "  data_dir,\n",
        "  validation_split=0.1,\n",
        "  subset=\"training\",\n",
        "  seed=123,\n",
        "  image_size=(img_height, img_width),\n",
        "  batch_size=batch_size, label_mode=None)"
      ],
      "execution_count": null,
      "outputs": []
    },
    {
      "cell_type": "code",
      "metadata": {
        "id": "qY91vWiWAT4V"
      },
      "source": [
        "type(train_ds)\n",
        "t1=train_ds.as_numpy_iterator()"
      ],
      "execution_count": null,
      "outputs": []
    },
    {
      "cell_type": "code",
      "metadata": {
        "id": "kqugsZKHFsZX"
      },
      "source": [
        "t1.next()"
      ],
      "execution_count": null,
      "outputs": []
    },
    {
      "cell_type": "code",
      "metadata": {
        "id": "AdU00drxwH57"
      },
      "source": [
        "batch=train_ds.take(1)\n",
        "\n",
        "plt.imshow(batch(1))"
      ],
      "execution_count": null,
      "outputs": []
    },
    {
      "cell_type": "code",
      "metadata": {
        "id": "LnhpU9wA9RKq"
      },
      "source": [
        "batch"
      ],
      "execution_count": null,
      "outputs": []
    },
    {
      "cell_type": "code",
      "metadata": {
        "id": "7wBvpSU21RzL"
      },
      "source": [
        "batch"
      ],
      "execution_count": null,
      "outputs": []
    },
    {
      "cell_type": "code",
      "metadata": {
        "id": "HQvyvLOUyBmv"
      },
      "source": [
        "list(train_ds.take(1))\n",
        "plt.imshow(train_ds.take(1))"
      ],
      "execution_count": null,
      "outputs": []
    },
    {
      "cell_type": "code",
      "metadata": {
        "id": "3ITaNwGUy475"
      },
      "source": [
        "list(train_ds.take(1))"
      ],
      "execution_count": null,
      "outputs": []
    },
    {
      "cell_type": "code",
      "metadata": {
        "id": "r-_Yu3f95zbX"
      },
      "source": [
        "---"
      ],
      "execution_count": null,
      "outputs": []
    },
    {
      "cell_type": "code",
      "metadata": {
        "id": "hpHXTQfz5k-a"
      },
      "source": [
        "from datetime  import datetime\n",
        "a=datetime.now().strftime(\"%Y%m%d_%H%M%S\")\n",
        "print(a)\n",
        "20211016_165045\n",
        "prediction_df.to_csv(\"submission_\"+a+\".csv\")\n",
        "predcsv=test_df.loc[:,[\"text\",\"predicted\"]]\n",
        "\n",
        "predcsv.to_csv(\"mini.csv\")"
      ],
      "execution_count": null,
      "outputs": []
    }
  ]
}